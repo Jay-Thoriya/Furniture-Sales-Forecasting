{
 "cells": [
  {
   "cell_type": "markdown",
   "metadata": {},
   "source": [
    "# Import Libraries"
   ]
  },
  {
   "cell_type": "code",
   "execution_count": 1,
   "metadata": {
    "execution": {
     "iopub.execute_input": "2024-02-12T17:06:43.018654Z",
     "iopub.status.busy": "2024-02-12T17:06:43.017786Z",
     "iopub.status.idle": "2024-02-12T17:06:43.025407Z",
     "shell.execute_reply": "2024-02-12T17:06:43.024304Z",
     "shell.execute_reply.started": "2024-02-12T17:06:43.018621Z"
    }
   },
   "outputs": [],
   "source": [
    "import numpy as np\n",
    "import pandas as pd\n",
    "import matplotlib.pyplot as plt\n",
    "import seaborn as sns; sns.set() \n",
    "\n",
    "from sklearn.preprocessing import LabelEncoder, MinMaxScaler\n",
    "\n",
    "\n",
    "from sklearn.tree import DecisionTreeClassifier\n",
    "from sklearn.ensemble import RandomForestClassifier, BaggingClassifier, AdaBoostClassifier, GradientBoostingClassifier, VotingClassifier\n",
    "import xgboost as xgb\n",
    "from catboost import CatBoostClassifier\n",
    "\n",
    "from sklearn.metrics import accuracy_score"
   ]
  },
  {
   "cell_type": "code",
   "execution_count": 2,
   "metadata": {},
   "outputs": [
    {
     "name": "stdout",
     "output_type": "stream",
     "text": [
      "Requirement already satisfied: catboost in c:\\users\\jay thoriya\\appdata\\local\\programs\\python\\python311\\lib\\site-packages (1.2.3)\n",
      "Requirement already satisfied: graphviz in c:\\users\\jay thoriya\\appdata\\local\\programs\\python\\python311\\lib\\site-packages (from catboost) (0.20.3)\n",
      "Requirement already satisfied: matplotlib in c:\\users\\jay thoriya\\appdata\\local\\programs\\python\\python311\\lib\\site-packages (from catboost) (3.7.1)\n",
      "Requirement already satisfied: numpy>=1.16.0 in c:\\users\\jay thoriya\\appdata\\local\\programs\\python\\python311\\lib\\site-packages (from catboost) (1.26.4)\n",
      "Requirement already satisfied: pandas>=0.24 in c:\\users\\jay thoriya\\appdata\\local\\programs\\python\\python311\\lib\\site-packages (from catboost) (2.2.0)\n",
      "Requirement already satisfied: scipy in c:\\users\\jay thoriya\\appdata\\local\\programs\\python\\python311\\lib\\site-packages (from catboost) (1.11.1)\n",
      "Requirement already satisfied: plotly in c:\\users\\jay thoriya\\appdata\\local\\programs\\python\\python311\\lib\\site-packages (from catboost) (5.20.0)\n",
      "Requirement already satisfied: six in c:\\users\\jay thoriya\\appdata\\local\\programs\\python\\python311\\lib\\site-packages (from catboost) (1.16.0)\n",
      "Requirement already satisfied: python-dateutil>=2.8.2 in c:\\users\\jay thoriya\\appdata\\local\\programs\\python\\python311\\lib\\site-packages (from pandas>=0.24->catboost) (2.8.2)\n",
      "Requirement already satisfied: pytz>=2020.1 in c:\\users\\jay thoriya\\appdata\\local\\programs\\python\\python311\\lib\\site-packages (from pandas>=0.24->catboost) (2023.3)\n",
      "Requirement already satisfied: tzdata>=2022.7 in c:\\users\\jay thoriya\\appdata\\local\\programs\\python\\python311\\lib\\site-packages (from pandas>=0.24->catboost) (2023.3)\n",
      "Requirement already satisfied: contourpy>=1.0.1 in c:\\users\\jay thoriya\\appdata\\local\\programs\\python\\python311\\lib\\site-packages (from matplotlib->catboost) (1.1.0)\n",
      "Requirement already satisfied: cycler>=0.10 in c:\\users\\jay thoriya\\appdata\\local\\programs\\python\\python311\\lib\\site-packages (from matplotlib->catboost) (0.11.0)\n",
      "Requirement already satisfied: fonttools>=4.22.0 in c:\\users\\jay thoriya\\appdata\\local\\programs\\python\\python311\\lib\\site-packages (from matplotlib->catboost) (4.40.0)\n",
      "Requirement already satisfied: kiwisolver>=1.0.1 in c:\\users\\jay thoriya\\appdata\\local\\programs\\python\\python311\\lib\\site-packages (from matplotlib->catboost) (1.4.4)\n",
      "Requirement already satisfied: packaging>=20.0 in c:\\users\\jay thoriya\\appdata\\local\\programs\\python\\python311\\lib\\site-packages (from matplotlib->catboost) (23.2)\n",
      "Requirement already satisfied: pillow>=6.2.0 in c:\\users\\jay thoriya\\appdata\\local\\programs\\python\\python311\\lib\\site-packages (from matplotlib->catboost) (9.5.0)\n",
      "Requirement already satisfied: pyparsing>=2.3.1 in c:\\users\\jay thoriya\\appdata\\local\\programs\\python\\python311\\lib\\site-packages (from matplotlib->catboost) (3.1.0)\n",
      "Requirement already satisfied: tenacity>=6.2.0 in c:\\users\\jay thoriya\\appdata\\local\\programs\\python\\python311\\lib\\site-packages (from plotly->catboost) (8.2.3)\n"
     ]
    }
   ],
   "source": [
    "! pip3 install catboost"
   ]
  },
  {
   "cell_type": "markdown",
   "metadata": {},
   "source": [
    "# Read dataset"
   ]
  },
  {
   "cell_type": "code",
   "execution_count": 3,
   "metadata": {
    "execution": {
     "iopub.execute_input": "2024-02-12T17:06:43.027219Z",
     "iopub.status.busy": "2024-02-12T17:06:43.026889Z",
     "iopub.status.idle": "2024-02-12T17:06:43.152457Z",
     "shell.execute_reply": "2024-02-12T17:06:43.151472Z",
     "shell.execute_reply.started": "2024-02-12T17:06:43.027195Z"
    }
   },
   "outputs": [
    {
     "data": {
      "text/html": [
       "<div>\n",
       "<style scoped>\n",
       "    .dataframe tbody tr th:only-of-type {\n",
       "        vertical-align: middle;\n",
       "    }\n",
       "\n",
       "    .dataframe tbody tr th {\n",
       "        vertical-align: top;\n",
       "    }\n",
       "\n",
       "    .dataframe thead th {\n",
       "        text-align: right;\n",
       "    }\n",
       "</style>\n",
       "<table border=\"1\" class=\"dataframe\">\n",
       "  <thead>\n",
       "    <tr style=\"text-align: right;\">\n",
       "      <th></th>\n",
       "      <th>ID</th>\n",
       "      <th>Gender</th>\n",
       "      <th>Has a car</th>\n",
       "      <th>Has a property</th>\n",
       "      <th>Children count</th>\n",
       "      <th>Income</th>\n",
       "      <th>Employment status</th>\n",
       "      <th>Education level</th>\n",
       "      <th>Marital status</th>\n",
       "      <th>Dwelling</th>\n",
       "      <th>Age</th>\n",
       "      <th>Employment length</th>\n",
       "      <th>Has a mobile phone</th>\n",
       "      <th>Has a work phone</th>\n",
       "      <th>Has a phone</th>\n",
       "      <th>Has an email</th>\n",
       "      <th>Job title</th>\n",
       "      <th>Family member count</th>\n",
       "      <th>Account age</th>\n",
       "      <th>Is high risk</th>\n",
       "    </tr>\n",
       "  </thead>\n",
       "  <tbody>\n",
       "    <tr>\n",
       "      <th>0</th>\n",
       "      <td>5037048</td>\n",
       "      <td>M</td>\n",
       "      <td>Y</td>\n",
       "      <td>Y</td>\n",
       "      <td>0</td>\n",
       "      <td>135000.0</td>\n",
       "      <td>Working</td>\n",
       "      <td>Secondary / secondary special</td>\n",
       "      <td>Married</td>\n",
       "      <td>With parents</td>\n",
       "      <td>-16271</td>\n",
       "      <td>-3111</td>\n",
       "      <td>1</td>\n",
       "      <td>0</td>\n",
       "      <td>0</td>\n",
       "      <td>0</td>\n",
       "      <td>Core staff</td>\n",
       "      <td>2.0</td>\n",
       "      <td>-17.0</td>\n",
       "      <td>0</td>\n",
       "    </tr>\n",
       "    <tr>\n",
       "      <th>1</th>\n",
       "      <td>5044630</td>\n",
       "      <td>F</td>\n",
       "      <td>Y</td>\n",
       "      <td>N</td>\n",
       "      <td>1</td>\n",
       "      <td>135000.0</td>\n",
       "      <td>Commercial associate</td>\n",
       "      <td>Higher education</td>\n",
       "      <td>Single / not married</td>\n",
       "      <td>House / apartment</td>\n",
       "      <td>-10130</td>\n",
       "      <td>-1651</td>\n",
       "      <td>1</td>\n",
       "      <td>0</td>\n",
       "      <td>0</td>\n",
       "      <td>0</td>\n",
       "      <td>Accountants</td>\n",
       "      <td>2.0</td>\n",
       "      <td>-1.0</td>\n",
       "      <td>0</td>\n",
       "    </tr>\n",
       "    <tr>\n",
       "      <th>2</th>\n",
       "      <td>5079079</td>\n",
       "      <td>F</td>\n",
       "      <td>N</td>\n",
       "      <td>Y</td>\n",
       "      <td>2</td>\n",
       "      <td>180000.0</td>\n",
       "      <td>Commercial associate</td>\n",
       "      <td>Secondary / secondary special</td>\n",
       "      <td>Married</td>\n",
       "      <td>House / apartment</td>\n",
       "      <td>-12821</td>\n",
       "      <td>-5657</td>\n",
       "      <td>1</td>\n",
       "      <td>0</td>\n",
       "      <td>0</td>\n",
       "      <td>0</td>\n",
       "      <td>Laborers</td>\n",
       "      <td>4.0</td>\n",
       "      <td>-38.0</td>\n",
       "      <td>0</td>\n",
       "    </tr>\n",
       "    <tr>\n",
       "      <th>3</th>\n",
       "      <td>5112872</td>\n",
       "      <td>F</td>\n",
       "      <td>Y</td>\n",
       "      <td>Y</td>\n",
       "      <td>0</td>\n",
       "      <td>360000.0</td>\n",
       "      <td>Commercial associate</td>\n",
       "      <td>Higher education</td>\n",
       "      <td>Single / not married</td>\n",
       "      <td>House / apartment</td>\n",
       "      <td>-20929</td>\n",
       "      <td>-2046</td>\n",
       "      <td>1</td>\n",
       "      <td>0</td>\n",
       "      <td>0</td>\n",
       "      <td>1</td>\n",
       "      <td>Managers</td>\n",
       "      <td>1.0</td>\n",
       "      <td>-11.0</td>\n",
       "      <td>0</td>\n",
       "    </tr>\n",
       "    <tr>\n",
       "      <th>4</th>\n",
       "      <td>5105858</td>\n",
       "      <td>F</td>\n",
       "      <td>N</td>\n",
       "      <td>N</td>\n",
       "      <td>0</td>\n",
       "      <td>270000.0</td>\n",
       "      <td>Working</td>\n",
       "      <td>Secondary / secondary special</td>\n",
       "      <td>Separated</td>\n",
       "      <td>House / apartment</td>\n",
       "      <td>-16207</td>\n",
       "      <td>-515</td>\n",
       "      <td>1</td>\n",
       "      <td>0</td>\n",
       "      <td>1</td>\n",
       "      <td>0</td>\n",
       "      <td>NaN</td>\n",
       "      <td>1.0</td>\n",
       "      <td>-41.0</td>\n",
       "      <td>0</td>\n",
       "    </tr>\n",
       "  </tbody>\n",
       "</table>\n",
       "</div>"
      ],
      "text/plain": [
       "        ID Gender Has a car Has a property  Children count    Income  \\\n",
       "0  5037048      M         Y              Y               0  135000.0   \n",
       "1  5044630      F         Y              N               1  135000.0   \n",
       "2  5079079      F         N              Y               2  180000.0   \n",
       "3  5112872      F         Y              Y               0  360000.0   \n",
       "4  5105858      F         N              N               0  270000.0   \n",
       "\n",
       "      Employment status                Education level        Marital status  \\\n",
       "0               Working  Secondary / secondary special               Married   \n",
       "1  Commercial associate               Higher education  Single / not married   \n",
       "2  Commercial associate  Secondary / secondary special               Married   \n",
       "3  Commercial associate               Higher education  Single / not married   \n",
       "4               Working  Secondary / secondary special             Separated   \n",
       "\n",
       "            Dwelling    Age  Employment length  Has a mobile phone  \\\n",
       "0       With parents -16271              -3111                   1   \n",
       "1  House / apartment -10130              -1651                   1   \n",
       "2  House / apartment -12821              -5657                   1   \n",
       "3  House / apartment -20929              -2046                   1   \n",
       "4  House / apartment -16207               -515                   1   \n",
       "\n",
       "   Has a work phone  Has a phone  Has an email    Job title  \\\n",
       "0                 0            0             0   Core staff   \n",
       "1                 0            0             0  Accountants   \n",
       "2                 0            0             0     Laborers   \n",
       "3                 0            0             1     Managers   \n",
       "4                 0            1             0          NaN   \n",
       "\n",
       "   Family member count  Account age  Is high risk  \n",
       "0                  2.0        -17.0             0  \n",
       "1                  2.0         -1.0             0  \n",
       "2                  4.0        -38.0             0  \n",
       "3                  1.0        -11.0             0  \n",
       "4                  1.0        -41.0             0  "
      ]
     },
     "execution_count": 3,
     "metadata": {},
     "output_type": "execute_result"
    }
   ],
   "source": [
    "train = pd.read_csv('train_data.csv')\n",
    "train.head(5)"
   ]
  },
  {
   "cell_type": "markdown",
   "metadata": {},
   "source": [
    "# Basic information"
   ]
  },
  {
   "cell_type": "code",
   "execution_count": 4,
   "metadata": {
    "execution": {
     "iopub.execute_input": "2024-02-12T17:06:43.154173Z",
     "iopub.status.busy": "2024-02-12T17:06:43.153888Z",
     "iopub.status.idle": "2024-02-12T17:06:43.206730Z",
     "shell.execute_reply": "2024-02-12T17:06:43.205880Z",
     "shell.execute_reply.started": "2024-02-12T17:06:43.154149Z"
    }
   },
   "outputs": [
    {
     "data": {
      "text/html": [
       "<div>\n",
       "<style scoped>\n",
       "    .dataframe tbody tr th:only-of-type {\n",
       "        vertical-align: middle;\n",
       "    }\n",
       "\n",
       "    .dataframe tbody tr th {\n",
       "        vertical-align: top;\n",
       "    }\n",
       "\n",
       "    .dataframe thead th {\n",
       "        text-align: right;\n",
       "    }\n",
       "</style>\n",
       "<table border=\"1\" class=\"dataframe\">\n",
       "  <thead>\n",
       "    <tr style=\"text-align: right;\">\n",
       "      <th></th>\n",
       "      <th>ID</th>\n",
       "      <th>Children count</th>\n",
       "      <th>Income</th>\n",
       "      <th>Age</th>\n",
       "      <th>Employment length</th>\n",
       "      <th>Has a mobile phone</th>\n",
       "      <th>Has a work phone</th>\n",
       "      <th>Has a phone</th>\n",
       "      <th>Has an email</th>\n",
       "      <th>Family member count</th>\n",
       "      <th>Account age</th>\n",
       "      <th>Is high risk</th>\n",
       "    </tr>\n",
       "  </thead>\n",
       "  <tbody>\n",
       "    <tr>\n",
       "      <th>count</th>\n",
       "      <td>29165.0</td>\n",
       "      <td>29165.0</td>\n",
       "      <td>29165.0</td>\n",
       "      <td>29165.0</td>\n",
       "      <td>29165.0</td>\n",
       "      <td>29165.0</td>\n",
       "      <td>29165.0</td>\n",
       "      <td>29165.0</td>\n",
       "      <td>29165.0</td>\n",
       "      <td>29165.0</td>\n",
       "      <td>29165.0</td>\n",
       "      <td>29165.0</td>\n",
       "    </tr>\n",
       "    <tr>\n",
       "      <th>mean</th>\n",
       "      <td>5078232.0</td>\n",
       "      <td>0.0</td>\n",
       "      <td>186890.0</td>\n",
       "      <td>-15979.0</td>\n",
       "      <td>59258.0</td>\n",
       "      <td>1.0</td>\n",
       "      <td>0.0</td>\n",
       "      <td>0.0</td>\n",
       "      <td>0.0</td>\n",
       "      <td>2.0</td>\n",
       "      <td>-26.0</td>\n",
       "      <td>0.0</td>\n",
       "    </tr>\n",
       "    <tr>\n",
       "      <th>std</th>\n",
       "      <td>41824.0</td>\n",
       "      <td>1.0</td>\n",
       "      <td>101410.0</td>\n",
       "      <td>4203.0</td>\n",
       "      <td>137656.0</td>\n",
       "      <td>0.0</td>\n",
       "      <td>0.0</td>\n",
       "      <td>0.0</td>\n",
       "      <td>0.0</td>\n",
       "      <td>1.0</td>\n",
       "      <td>16.0</td>\n",
       "      <td>0.0</td>\n",
       "    </tr>\n",
       "    <tr>\n",
       "      <th>min</th>\n",
       "      <td>5008804.0</td>\n",
       "      <td>0.0</td>\n",
       "      <td>27000.0</td>\n",
       "      <td>-25152.0</td>\n",
       "      <td>-15713.0</td>\n",
       "      <td>1.0</td>\n",
       "      <td>0.0</td>\n",
       "      <td>0.0</td>\n",
       "      <td>0.0</td>\n",
       "      <td>1.0</td>\n",
       "      <td>-60.0</td>\n",
       "      <td>0.0</td>\n",
       "    </tr>\n",
       "    <tr>\n",
       "      <th>25%</th>\n",
       "      <td>5042047.0</td>\n",
       "      <td>0.0</td>\n",
       "      <td>121500.0</td>\n",
       "      <td>-19444.0</td>\n",
       "      <td>-3153.0</td>\n",
       "      <td>1.0</td>\n",
       "      <td>0.0</td>\n",
       "      <td>0.0</td>\n",
       "      <td>0.0</td>\n",
       "      <td>2.0</td>\n",
       "      <td>-39.0</td>\n",
       "      <td>0.0</td>\n",
       "    </tr>\n",
       "    <tr>\n",
       "      <th>50%</th>\n",
       "      <td>5074666.0</td>\n",
       "      <td>0.0</td>\n",
       "      <td>157500.0</td>\n",
       "      <td>-15565.0</td>\n",
       "      <td>-1557.0</td>\n",
       "      <td>1.0</td>\n",
       "      <td>0.0</td>\n",
       "      <td>0.0</td>\n",
       "      <td>0.0</td>\n",
       "      <td>2.0</td>\n",
       "      <td>-24.0</td>\n",
       "      <td>0.0</td>\n",
       "    </tr>\n",
       "    <tr>\n",
       "      <th>75%</th>\n",
       "      <td>5114629.0</td>\n",
       "      <td>1.0</td>\n",
       "      <td>225000.0</td>\n",
       "      <td>-12475.0</td>\n",
       "      <td>-412.0</td>\n",
       "      <td>1.0</td>\n",
       "      <td>0.0</td>\n",
       "      <td>1.0</td>\n",
       "      <td>0.0</td>\n",
       "      <td>3.0</td>\n",
       "      <td>-12.0</td>\n",
       "      <td>0.0</td>\n",
       "    </tr>\n",
       "    <tr>\n",
       "      <th>max</th>\n",
       "      <td>5150485.0</td>\n",
       "      <td>19.0</td>\n",
       "      <td>1575000.0</td>\n",
       "      <td>-7705.0</td>\n",
       "      <td>365243.0</td>\n",
       "      <td>1.0</td>\n",
       "      <td>1.0</td>\n",
       "      <td>1.0</td>\n",
       "      <td>1.0</td>\n",
       "      <td>20.0</td>\n",
       "      <td>0.0</td>\n",
       "      <td>1.0</td>\n",
       "    </tr>\n",
       "  </tbody>\n",
       "</table>\n",
       "</div>"
      ],
      "text/plain": [
       "              ID  Children count     Income      Age  Employment length  \\\n",
       "count    29165.0         29165.0    29165.0  29165.0            29165.0   \n",
       "mean   5078232.0             0.0   186890.0 -15979.0            59258.0   \n",
       "std      41824.0             1.0   101410.0   4203.0           137656.0   \n",
       "min    5008804.0             0.0    27000.0 -25152.0           -15713.0   \n",
       "25%    5042047.0             0.0   121500.0 -19444.0            -3153.0   \n",
       "50%    5074666.0             0.0   157500.0 -15565.0            -1557.0   \n",
       "75%    5114629.0             1.0   225000.0 -12475.0             -412.0   \n",
       "max    5150485.0            19.0  1575000.0  -7705.0           365243.0   \n",
       "\n",
       "       Has a mobile phone  Has a work phone  Has a phone  Has an email  \\\n",
       "count             29165.0           29165.0      29165.0       29165.0   \n",
       "mean                  1.0               0.0          0.0           0.0   \n",
       "std                   0.0               0.0          0.0           0.0   \n",
       "min                   1.0               0.0          0.0           0.0   \n",
       "25%                   1.0               0.0          0.0           0.0   \n",
       "50%                   1.0               0.0          0.0           0.0   \n",
       "75%                   1.0               0.0          1.0           0.0   \n",
       "max                   1.0               1.0          1.0           1.0   \n",
       "\n",
       "       Family member count  Account age  Is high risk  \n",
       "count              29165.0      29165.0       29165.0  \n",
       "mean                   2.0        -26.0           0.0  \n",
       "std                    1.0         16.0           0.0  \n",
       "min                    1.0        -60.0           0.0  \n",
       "25%                    2.0        -39.0           0.0  \n",
       "50%                    2.0        -24.0           0.0  \n",
       "75%                    3.0        -12.0           0.0  \n",
       "max                   20.0          0.0           1.0  "
      ]
     },
     "execution_count": 4,
     "metadata": {},
     "output_type": "execute_result"
    }
   ],
   "source": [
    "train.describe().round() #get statistical info like std, mean, min, max and so on"
   ]
  },
  {
   "cell_type": "code",
   "execution_count": 5,
   "metadata": {
    "execution": {
     "iopub.execute_input": "2024-02-12T17:06:43.208606Z",
     "iopub.status.busy": "2024-02-12T17:06:43.207975Z",
     "iopub.status.idle": "2024-02-12T17:06:43.214332Z",
     "shell.execute_reply": "2024-02-12T17:06:43.213385Z",
     "shell.execute_reply.started": "2024-02-12T17:06:43.208572Z"
    }
   },
   "outputs": [
    {
     "data": {
      "text/plain": [
       "(29165, 20)"
      ]
     },
     "execution_count": 5,
     "metadata": {},
     "output_type": "execute_result"
    }
   ],
   "source": [
    "train.shape # number of observations(rows) & cols"
   ]
  },
  {
   "cell_type": "code",
   "execution_count": 6,
   "metadata": {
    "execution": {
     "iopub.execute_input": "2024-02-12T17:06:43.216589Z",
     "iopub.status.busy": "2024-02-12T17:06:43.216329Z",
     "iopub.status.idle": "2024-02-12T17:06:43.252236Z",
     "shell.execute_reply": "2024-02-12T17:06:43.251461Z",
     "shell.execute_reply.started": "2024-02-12T17:06:43.216568Z"
    }
   },
   "outputs": [
    {
     "name": "stdout",
     "output_type": "stream",
     "text": [
      "<class 'pandas.core.frame.DataFrame'>\n",
      "RangeIndex: 29165 entries, 0 to 29164\n",
      "Data columns (total 20 columns):\n",
      " #   Column               Non-Null Count  Dtype  \n",
      "---  ------               --------------  -----  \n",
      " 0   ID                   29165 non-null  int64  \n",
      " 1   Gender               29165 non-null  object \n",
      " 2   Has a car            29165 non-null  object \n",
      " 3   Has a property       29165 non-null  object \n",
      " 4   Children count       29165 non-null  int64  \n",
      " 5   Income               29165 non-null  float64\n",
      " 6   Employment status    29165 non-null  object \n",
      " 7   Education level      29165 non-null  object \n",
      " 8   Marital status       29165 non-null  object \n",
      " 9   Dwelling             29165 non-null  object \n",
      " 10  Age                  29165 non-null  int64  \n",
      " 11  Employment length    29165 non-null  int64  \n",
      " 12  Has a mobile phone   29165 non-null  int64  \n",
      " 13  Has a work phone     29165 non-null  int64  \n",
      " 14  Has a phone          29165 non-null  int64  \n",
      " 15  Has an email         29165 non-null  int64  \n",
      " 16  Job title            20138 non-null  object \n",
      " 17  Family member count  29165 non-null  float64\n",
      " 18  Account age          29165 non-null  float64\n",
      " 19  Is high risk         29165 non-null  int64  \n",
      "dtypes: float64(3), int64(9), object(8)\n",
      "memory usage: 4.5+ MB\n"
     ]
    }
   ],
   "source": [
    "train.info() # return nulls and dtypes"
   ]
  },
  {
   "cell_type": "markdown",
   "metadata": {},
   "source": [
    "**n. # non nulls in \"Job title\" column is 20138**"
   ]
  },
  {
   "cell_type": "code",
   "execution_count": 7,
   "metadata": {
    "execution": {
     "iopub.execute_input": "2024-02-12T17:06:43.254105Z",
     "iopub.status.busy": "2024-02-12T17:06:43.253491Z",
     "iopub.status.idle": "2024-02-12T17:06:43.283462Z",
     "shell.execute_reply": "2024-02-12T17:06:43.282677Z",
     "shell.execute_reply.started": "2024-02-12T17:06:43.254071Z"
    }
   },
   "outputs": [
    {
     "data": {
      "text/plain": [
       "ID                     29165\n",
       "Gender                     2\n",
       "Has a car                  2\n",
       "Has a property             2\n",
       "Children count             9\n",
       "Income                   259\n",
       "Employment status          5\n",
       "Education level            5\n",
       "Marital status             5\n",
       "Dwelling                   6\n",
       "Age                     6794\n",
       "Employment length       3483\n",
       "Has a mobile phone         1\n",
       "Has a work phone           2\n",
       "Has a phone                2\n",
       "Has an email               2\n",
       "Job title                 18\n",
       "Family member count       10\n",
       "Account age               61\n",
       "Is high risk               2\n",
       "dtype: int64"
      ]
     },
     "execution_count": 7,
     "metadata": {},
     "output_type": "execute_result"
    }
   ],
   "source": [
    "train.nunique(axis =0) #return number of unique values in each column "
   ]
  },
  {
   "cell_type": "markdown",
   "metadata": {},
   "source": [
    "# Explore categories and value counts in each column"
   ]
  },
  {
   "cell_type": "code",
   "execution_count": 8,
   "metadata": {
    "execution": {
     "iopub.execute_input": "2024-02-12T17:06:43.284714Z",
     "iopub.status.busy": "2024-02-12T17:06:43.284454Z",
     "iopub.status.idle": "2024-02-12T17:06:43.295325Z",
     "shell.execute_reply": "2024-02-12T17:06:43.294491Z",
     "shell.execute_reply.started": "2024-02-12T17:06:43.284692Z"
    }
   },
   "outputs": [
    {
     "data": {
      "text/plain": [
       "Gender\n",
       "F    19549\n",
       "M     9616\n",
       "Name: count, dtype: int64"
      ]
     },
     "execution_count": 8,
     "metadata": {},
     "output_type": "execute_result"
    }
   ],
   "source": [
    "train[\"Gender\"].value_counts()"
   ]
  },
  {
   "cell_type": "code",
   "execution_count": 9,
   "metadata": {
    "execution": {
     "iopub.execute_input": "2024-02-12T17:06:43.296771Z",
     "iopub.status.busy": "2024-02-12T17:06:43.296458Z",
     "iopub.status.idle": "2024-02-12T17:06:43.310300Z",
     "shell.execute_reply": "2024-02-12T17:06:43.309424Z",
     "shell.execute_reply.started": "2024-02-12T17:06:43.296741Z"
    }
   },
   "outputs": [
    {
     "data": {
      "text/plain": [
       "Has a car\n",
       "N    18128\n",
       "Y    11037\n",
       "Name: count, dtype: int64"
      ]
     },
     "execution_count": 9,
     "metadata": {},
     "output_type": "execute_result"
    }
   ],
   "source": [
    "train[\"Has a car\"].value_counts()"
   ]
  },
  {
   "cell_type": "code",
   "execution_count": 10,
   "metadata": {
    "execution": {
     "iopub.execute_input": "2024-02-12T17:06:43.311811Z",
     "iopub.status.busy": "2024-02-12T17:06:43.311452Z",
     "iopub.status.idle": "2024-02-12T17:06:43.325394Z",
     "shell.execute_reply": "2024-02-12T17:06:43.324579Z",
     "shell.execute_reply.started": "2024-02-12T17:06:43.311781Z"
    }
   },
   "outputs": [
    {
     "data": {
      "text/plain": [
       "Has a property\n",
       "Y    19557\n",
       "N     9608\n",
       "Name: count, dtype: int64"
      ]
     },
     "execution_count": 10,
     "metadata": {},
     "output_type": "execute_result"
    }
   ],
   "source": [
    "train[\"Has a property\"].value_counts()"
   ]
  },
  {
   "cell_type": "code",
   "execution_count": 11,
   "metadata": {
    "execution": {
     "iopub.execute_input": "2024-02-12T17:06:43.327314Z",
     "iopub.status.busy": "2024-02-12T17:06:43.326794Z",
     "iopub.status.idle": "2024-02-12T17:06:43.335760Z",
     "shell.execute_reply": "2024-02-12T17:06:43.335017Z",
     "shell.execute_reply.started": "2024-02-12T17:06:43.327284Z"
    }
   },
   "outputs": [
    {
     "data": {
      "text/plain": [
       "Children count\n",
       "0     20143\n",
       "1      6003\n",
       "2      2624\n",
       "3       323\n",
       "4        52\n",
       "5        15\n",
       "7         2\n",
       "14        2\n",
       "19        1\n",
       "Name: count, dtype: int64"
      ]
     },
     "execution_count": 11,
     "metadata": {},
     "output_type": "execute_result"
    }
   ],
   "source": [
    "train[\"Children count\"].value_counts()"
   ]
  },
  {
   "cell_type": "code",
   "execution_count": 12,
   "metadata": {
    "execution": {
     "iopub.execute_input": "2024-02-12T17:06:43.339365Z",
     "iopub.status.busy": "2024-02-12T17:06:43.339110Z",
     "iopub.status.idle": "2024-02-12T17:06:43.350319Z",
     "shell.execute_reply": "2024-02-12T17:06:43.349449Z",
     "shell.execute_reply.started": "2024-02-12T17:06:43.339344Z"
    }
   },
   "outputs": [
    {
     "data": {
      "text/plain": [
       "Employment status\n",
       "Working                 15056\n",
       "Commercial associate     6801\n",
       "Pensioner                4920\n",
       "State servant            2381\n",
       "Student                     7\n",
       "Name: count, dtype: int64"
      ]
     },
     "execution_count": 12,
     "metadata": {},
     "output_type": "execute_result"
    }
   ],
   "source": [
    "train[\"Employment status\"].value_counts()"
   ]
  },
  {
   "cell_type": "code",
   "execution_count": 13,
   "metadata": {
    "execution": {
     "iopub.execute_input": "2024-02-12T17:06:43.351629Z",
     "iopub.status.busy": "2024-02-12T17:06:43.351379Z",
     "iopub.status.idle": "2024-02-12T17:06:43.362293Z",
     "shell.execute_reply": "2024-02-12T17:06:43.361380Z",
     "shell.execute_reply.started": "2024-02-12T17:06:43.351608Z"
    }
   },
   "outputs": [
    {
     "data": {
      "text/plain": [
       "Age\n",
       "-12676    44\n",
       "-15519    44\n",
       "-16896    33\n",
       "-16053    26\n",
       "-16768    26\n",
       "          ..\n",
       "-18253     1\n",
       "-23429     1\n",
       "-15478     1\n",
       "-21648     1\n",
       "-19564     1\n",
       "Name: count, Length: 6794, dtype: int64"
      ]
     },
     "execution_count": 13,
     "metadata": {},
     "output_type": "execute_result"
    }
   ],
   "source": [
    "train[\"Age\"].value_counts()"
   ]
  },
  {
   "cell_type": "code",
   "execution_count": 14,
   "metadata": {
    "execution": {
     "iopub.execute_input": "2024-02-12T17:06:43.363533Z",
     "iopub.status.busy": "2024-02-12T17:06:43.363282Z",
     "iopub.status.idle": "2024-02-12T17:06:43.374194Z",
     "shell.execute_reply": "2024-02-12T17:06:43.373365Z",
     "shell.execute_reply.started": "2024-02-12T17:06:43.363512Z"
    }
   },
   "outputs": [
    {
     "data": {
      "text/plain": [
       "Education level\n",
       "Secondary / secondary special    19803\n",
       "Higher education                  7910\n",
       "Incomplete higher                 1129\n",
       "Lower secondary                    298\n",
       "Academic degree                     25\n",
       "Name: count, dtype: int64"
      ]
     },
     "execution_count": 14,
     "metadata": {},
     "output_type": "execute_result"
    }
   ],
   "source": [
    "train[\"Education level\"].value_counts()"
   ]
  },
  {
   "cell_type": "code",
   "execution_count": 15,
   "metadata": {
    "execution": {
     "iopub.execute_input": "2024-02-12T17:06:43.375414Z",
     "iopub.status.busy": "2024-02-12T17:06:43.375158Z",
     "iopub.status.idle": "2024-02-12T17:06:43.389193Z",
     "shell.execute_reply": "2024-02-12T17:06:43.388319Z",
     "shell.execute_reply.started": "2024-02-12T17:06:43.375386Z"
    }
   },
   "outputs": [
    {
     "data": {
      "text/plain": [
       "Marital status\n",
       "Married                 20044\n",
       "Single / not married     3864\n",
       "Civil marriage           2312\n",
       "Separated                1712\n",
       "Widow                    1233\n",
       "Name: count, dtype: int64"
      ]
     },
     "execution_count": 15,
     "metadata": {},
     "output_type": "execute_result"
    }
   ],
   "source": [
    "train[\"Marital status\"].value_counts()"
   ]
  },
  {
   "cell_type": "code",
   "execution_count": 16,
   "metadata": {
    "execution": {
     "iopub.execute_input": "2024-02-12T17:06:43.390404Z",
     "iopub.status.busy": "2024-02-12T17:06:43.390142Z",
     "iopub.status.idle": "2024-02-12T17:06:43.404567Z",
     "shell.execute_reply": "2024-02-12T17:06:43.403715Z",
     "shell.execute_reply.started": "2024-02-12T17:06:43.390383Z"
    }
   },
   "outputs": [
    {
     "data": {
      "text/plain": [
       "Dwelling\n",
       "House / apartment      26059\n",
       "With parents            1406\n",
       "Municipal apartment      912\n",
       "Rented apartment         453\n",
       "Office apartment         208\n",
       "Co-op apartment          127\n",
       "Name: count, dtype: int64"
      ]
     },
     "execution_count": 16,
     "metadata": {},
     "output_type": "execute_result"
    }
   ],
   "source": [
    "train[\"Dwelling\"].value_counts()"
   ]
  },
  {
   "cell_type": "code",
   "execution_count": 17,
   "metadata": {
    "execution": {
     "iopub.execute_input": "2024-02-12T17:06:43.405977Z",
     "iopub.status.busy": "2024-02-12T17:06:43.405636Z",
     "iopub.status.idle": "2024-02-12T17:06:43.415527Z",
     "shell.execute_reply": "2024-02-12T17:06:43.414653Z",
     "shell.execute_reply.started": "2024-02-12T17:06:43.405948Z"
    }
   },
   "outputs": [
    {
     "data": {
      "text/plain": [
       "Has a mobile phone\n",
       "1    29165\n",
       "Name: count, dtype: int64"
      ]
     },
     "execution_count": 17,
     "metadata": {},
     "output_type": "execute_result"
    }
   ],
   "source": [
    "train[\"Has a mobile phone\"].value_counts()"
   ]
  },
  {
   "cell_type": "code",
   "execution_count": 18,
   "metadata": {
    "execution": {
     "iopub.execute_input": "2024-02-12T17:06:43.416847Z",
     "iopub.status.busy": "2024-02-12T17:06:43.416558Z",
     "iopub.status.idle": "2024-02-12T17:06:43.427249Z",
     "shell.execute_reply": "2024-02-12T17:06:43.426204Z",
     "shell.execute_reply.started": "2024-02-12T17:06:43.416805Z"
    }
   },
   "outputs": [
    {
     "data": {
      "text/plain": [
       "Has a work phone\n",
       "0    22623\n",
       "1     6542\n",
       "Name: count, dtype: int64"
      ]
     },
     "execution_count": 18,
     "metadata": {},
     "output_type": "execute_result"
    }
   ],
   "source": [
    "train[\"Has a work phone\"].value_counts()"
   ]
  },
  {
   "cell_type": "code",
   "execution_count": 19,
   "metadata": {
    "execution": {
     "iopub.execute_input": "2024-02-12T17:06:43.429029Z",
     "iopub.status.busy": "2024-02-12T17:06:43.428436Z",
     "iopub.status.idle": "2024-02-12T17:06:43.439283Z",
     "shell.execute_reply": "2024-02-12T17:06:43.438449Z",
     "shell.execute_reply.started": "2024-02-12T17:06:43.428996Z"
    }
   },
   "outputs": [
    {
     "data": {
      "text/plain": [
       "Has an email\n",
       "0    26532\n",
       "1     2633\n",
       "Name: count, dtype: int64"
      ]
     },
     "execution_count": 19,
     "metadata": {},
     "output_type": "execute_result"
    }
   ],
   "source": [
    "train[\"Has an email\"].value_counts()"
   ]
  },
  {
   "cell_type": "code",
   "execution_count": 20,
   "metadata": {
    "execution": {
     "iopub.execute_input": "2024-02-12T17:06:43.440900Z",
     "iopub.status.busy": "2024-02-12T17:06:43.440485Z",
     "iopub.status.idle": "2024-02-12T17:06:43.452040Z",
     "shell.execute_reply": "2024-02-12T17:06:43.451183Z",
     "shell.execute_reply.started": "2024-02-12T17:06:43.440842Z"
    }
   },
   "outputs": [
    {
     "data": {
      "text/plain": [
       "Family member count\n",
       "2.0     15552\n",
       "1.0      5613\n",
       "3.0      5121\n",
       "4.0      2503\n",
       "5.0       309\n",
       "6.0        48\n",
       "7.0        14\n",
       "9.0         2\n",
       "15.0        2\n",
       "20.0        1\n",
       "Name: count, dtype: int64"
      ]
     },
     "execution_count": 20,
     "metadata": {},
     "output_type": "execute_result"
    }
   ],
   "source": [
    "train[\"Family member count\"].value_counts()"
   ]
  },
  {
   "cell_type": "code",
   "execution_count": 21,
   "metadata": {
    "execution": {
     "iopub.execute_input": "2024-02-12T17:06:43.453416Z",
     "iopub.status.busy": "2024-02-12T17:06:43.453107Z",
     "iopub.status.idle": "2024-02-12T17:06:43.464341Z",
     "shell.execute_reply": "2024-02-12T17:06:43.463380Z",
     "shell.execute_reply.started": "2024-02-12T17:06:43.453388Z"
    }
   },
   "outputs": [
    {
     "data": {
      "text/plain": [
       "Account age\n",
       "-7.0     690\n",
       "-6.0     669\n",
       "-17.0    659\n",
       "-5.0     656\n",
       "-8.0     655\n",
       "        ... \n",
       "-58.0    270\n",
       "-59.0    250\n",
       "-60.0    249\n",
       " 0.0     247\n",
       "-57.0    244\n",
       "Name: count, Length: 61, dtype: int64"
      ]
     },
     "execution_count": 21,
     "metadata": {},
     "output_type": "execute_result"
    }
   ],
   "source": [
    "train[\"Account age\"].value_counts()"
   ]
  },
  {
   "cell_type": "code",
   "execution_count": 22,
   "metadata": {
    "execution": {
     "iopub.execute_input": "2024-02-12T17:06:43.466270Z",
     "iopub.status.busy": "2024-02-12T17:06:43.465360Z",
     "iopub.status.idle": "2024-02-12T17:06:43.478920Z",
     "shell.execute_reply": "2024-02-12T17:06:43.477997Z",
     "shell.execute_reply.started": "2024-02-12T17:06:43.466236Z"
    }
   },
   "outputs": [
    {
     "data": {
      "text/plain": [
       "Income  \n",
       "135000.0    3468\n",
       "180000.0    2487\n",
       "157500.0    2469\n",
       "225000.0    2373\n",
       "112500.0    2359\n",
       "            ... \n",
       "89550.0        1\n",
       "89100.0        1\n",
       "87448.5        1\n",
       "82350.0        1\n",
       "27000.0        1\n",
       "Name: count, Length: 259, dtype: int64"
      ]
     },
     "execution_count": 22,
     "metadata": {},
     "output_type": "execute_result"
    }
   ],
   "source": [
    "train[[\"Income\"]].value_counts()"
   ]
  },
  {
   "cell_type": "markdown",
   "metadata": {},
   "source": [
    "# Drop unneeded data\n",
    "***\n",
    "## 1- columns\n",
    "\n",
    "#### --> **set \"ID\" as index**\n",
    "\n",
    "#### --> **Drop \"Age\", \"Employment length\", \"job title\" , \"Account age\", \"Family member count\", \"Educational level\"**\n",
    "\n",
    "## 2- Values in each column\n",
    "\n",
    "#### --> **Drop \"Children count\" > 5**\n",
    "\n"
   ]
  },
  {
   "cell_type": "code",
   "execution_count": 23,
   "metadata": {
    "execution": {
     "iopub.execute_input": "2024-02-12T17:06:43.480356Z",
     "iopub.status.busy": "2024-02-12T17:06:43.480080Z",
     "iopub.status.idle": "2024-02-12T17:06:43.485923Z",
     "shell.execute_reply": "2024-02-12T17:06:43.485048Z",
     "shell.execute_reply.started": "2024-02-12T17:06:43.480333Z"
    }
   },
   "outputs": [
    {
     "data": {
      "text/plain": [
       "Index(['ID', 'Gender', 'Has a car', 'Has a property', 'Children count',\n",
       "       'Income', 'Employment status', 'Education level', 'Marital status',\n",
       "       'Dwelling', 'Age', 'Employment length', 'Has a mobile phone',\n",
       "       'Has a work phone', 'Has a phone', 'Has an email', 'Job title',\n",
       "       'Family member count', 'Account age', 'Is high risk'],\n",
       "      dtype='object')"
      ]
     },
     "execution_count": 23,
     "metadata": {},
     "output_type": "execute_result"
    }
   ],
   "source": [
    "train.columns"
   ]
  },
  {
   "cell_type": "code",
   "execution_count": 24,
   "metadata": {
    "execution": {
     "iopub.execute_input": "2024-02-12T17:06:43.487202Z",
     "iopub.status.busy": "2024-02-12T17:06:43.486947Z",
     "iopub.status.idle": "2024-02-12T17:06:43.513162Z",
     "shell.execute_reply": "2024-02-12T17:06:43.512296Z",
     "shell.execute_reply.started": "2024-02-12T17:06:43.487174Z"
    }
   },
   "outputs": [
    {
     "data": {
      "text/html": [
       "<div>\n",
       "<style scoped>\n",
       "    .dataframe tbody tr th:only-of-type {\n",
       "        vertical-align: middle;\n",
       "    }\n",
       "\n",
       "    .dataframe tbody tr th {\n",
       "        vertical-align: top;\n",
       "    }\n",
       "\n",
       "    .dataframe thead th {\n",
       "        text-align: right;\n",
       "    }\n",
       "</style>\n",
       "<table border=\"1\" class=\"dataframe\">\n",
       "  <thead>\n",
       "    <tr style=\"text-align: right;\">\n",
       "      <th></th>\n",
       "      <th>Gender</th>\n",
       "      <th>Has a car</th>\n",
       "      <th>Has a property</th>\n",
       "      <th>Children count</th>\n",
       "      <th>Income</th>\n",
       "      <th>Employment status</th>\n",
       "      <th>Marital status</th>\n",
       "      <th>Dwelling</th>\n",
       "      <th>Has a mobile phone</th>\n",
       "      <th>Has a work phone</th>\n",
       "      <th>Has a phone</th>\n",
       "      <th>Has an email</th>\n",
       "      <th>Is high risk</th>\n",
       "    </tr>\n",
       "    <tr>\n",
       "      <th>ID</th>\n",
       "      <th></th>\n",
       "      <th></th>\n",
       "      <th></th>\n",
       "      <th></th>\n",
       "      <th></th>\n",
       "      <th></th>\n",
       "      <th></th>\n",
       "      <th></th>\n",
       "      <th></th>\n",
       "      <th></th>\n",
       "      <th></th>\n",
       "      <th></th>\n",
       "      <th></th>\n",
       "    </tr>\n",
       "  </thead>\n",
       "  <tbody>\n",
       "    <tr>\n",
       "      <th>5037048</th>\n",
       "      <td>M</td>\n",
       "      <td>Y</td>\n",
       "      <td>Y</td>\n",
       "      <td>0</td>\n",
       "      <td>135000.0</td>\n",
       "      <td>Working</td>\n",
       "      <td>Married</td>\n",
       "      <td>With parents</td>\n",
       "      <td>1</td>\n",
       "      <td>0</td>\n",
       "      <td>0</td>\n",
       "      <td>0</td>\n",
       "      <td>0</td>\n",
       "    </tr>\n",
       "    <tr>\n",
       "      <th>5044630</th>\n",
       "      <td>F</td>\n",
       "      <td>Y</td>\n",
       "      <td>N</td>\n",
       "      <td>1</td>\n",
       "      <td>135000.0</td>\n",
       "      <td>Commercial associate</td>\n",
       "      <td>Single / not married</td>\n",
       "      <td>House / apartment</td>\n",
       "      <td>1</td>\n",
       "      <td>0</td>\n",
       "      <td>0</td>\n",
       "      <td>0</td>\n",
       "      <td>0</td>\n",
       "    </tr>\n",
       "    <tr>\n",
       "      <th>5079079</th>\n",
       "      <td>F</td>\n",
       "      <td>N</td>\n",
       "      <td>Y</td>\n",
       "      <td>2</td>\n",
       "      <td>180000.0</td>\n",
       "      <td>Commercial associate</td>\n",
       "      <td>Married</td>\n",
       "      <td>House / apartment</td>\n",
       "      <td>1</td>\n",
       "      <td>0</td>\n",
       "      <td>0</td>\n",
       "      <td>0</td>\n",
       "      <td>0</td>\n",
       "    </tr>\n",
       "    <tr>\n",
       "      <th>5112872</th>\n",
       "      <td>F</td>\n",
       "      <td>Y</td>\n",
       "      <td>Y</td>\n",
       "      <td>0</td>\n",
       "      <td>360000.0</td>\n",
       "      <td>Commercial associate</td>\n",
       "      <td>Single / not married</td>\n",
       "      <td>House / apartment</td>\n",
       "      <td>1</td>\n",
       "      <td>0</td>\n",
       "      <td>0</td>\n",
       "      <td>1</td>\n",
       "      <td>0</td>\n",
       "    </tr>\n",
       "    <tr>\n",
       "      <th>5105858</th>\n",
       "      <td>F</td>\n",
       "      <td>N</td>\n",
       "      <td>N</td>\n",
       "      <td>0</td>\n",
       "      <td>270000.0</td>\n",
       "      <td>Working</td>\n",
       "      <td>Separated</td>\n",
       "      <td>House / apartment</td>\n",
       "      <td>1</td>\n",
       "      <td>0</td>\n",
       "      <td>1</td>\n",
       "      <td>0</td>\n",
       "      <td>0</td>\n",
       "    </tr>\n",
       "    <tr>\n",
       "      <th>...</th>\n",
       "      <td>...</td>\n",
       "      <td>...</td>\n",
       "      <td>...</td>\n",
       "      <td>...</td>\n",
       "      <td>...</td>\n",
       "      <td>...</td>\n",
       "      <td>...</td>\n",
       "      <td>...</td>\n",
       "      <td>...</td>\n",
       "      <td>...</td>\n",
       "      <td>...</td>\n",
       "      <td>...</td>\n",
       "      <td>...</td>\n",
       "    </tr>\n",
       "    <tr>\n",
       "      <th>5067139</th>\n",
       "      <td>F</td>\n",
       "      <td>N</td>\n",
       "      <td>Y</td>\n",
       "      <td>0</td>\n",
       "      <td>112500.0</td>\n",
       "      <td>Pensioner</td>\n",
       "      <td>Single / not married</td>\n",
       "      <td>House / apartment</td>\n",
       "      <td>1</td>\n",
       "      <td>0</td>\n",
       "      <td>1</td>\n",
       "      <td>1</td>\n",
       "      <td>0</td>\n",
       "    </tr>\n",
       "    <tr>\n",
       "      <th>5029193</th>\n",
       "      <td>F</td>\n",
       "      <td>N</td>\n",
       "      <td>Y</td>\n",
       "      <td>1</td>\n",
       "      <td>135000.0</td>\n",
       "      <td>Commercial associate</td>\n",
       "      <td>Married</td>\n",
       "      <td>House / apartment</td>\n",
       "      <td>1</td>\n",
       "      <td>0</td>\n",
       "      <td>0</td>\n",
       "      <td>0</td>\n",
       "      <td>0</td>\n",
       "    </tr>\n",
       "    <tr>\n",
       "      <th>5047710</th>\n",
       "      <td>F</td>\n",
       "      <td>N</td>\n",
       "      <td>Y</td>\n",
       "      <td>0</td>\n",
       "      <td>76500.0</td>\n",
       "      <td>Working</td>\n",
       "      <td>Married</td>\n",
       "      <td>House / apartment</td>\n",
       "      <td>1</td>\n",
       "      <td>1</td>\n",
       "      <td>1</td>\n",
       "      <td>0</td>\n",
       "      <td>0</td>\n",
       "    </tr>\n",
       "    <tr>\n",
       "      <th>5009886</th>\n",
       "      <td>F</td>\n",
       "      <td>N</td>\n",
       "      <td>Y</td>\n",
       "      <td>0</td>\n",
       "      <td>157500.0</td>\n",
       "      <td>Pensioner</td>\n",
       "      <td>Civil marriage</td>\n",
       "      <td>House / apartment</td>\n",
       "      <td>1</td>\n",
       "      <td>0</td>\n",
       "      <td>1</td>\n",
       "      <td>0</td>\n",
       "      <td>0</td>\n",
       "    </tr>\n",
       "    <tr>\n",
       "      <th>5062632</th>\n",
       "      <td>F</td>\n",
       "      <td>N</td>\n",
       "      <td>Y</td>\n",
       "      <td>0</td>\n",
       "      <td>585000.0</td>\n",
       "      <td>Commercial associate</td>\n",
       "      <td>Married</td>\n",
       "      <td>House / apartment</td>\n",
       "      <td>1</td>\n",
       "      <td>0</td>\n",
       "      <td>1</td>\n",
       "      <td>0</td>\n",
       "      <td>0</td>\n",
       "    </tr>\n",
       "  </tbody>\n",
       "</table>\n",
       "<p>29165 rows × 13 columns</p>\n",
       "</div>"
      ],
      "text/plain": [
       "        Gender Has a car Has a property  Children count    Income  \\\n",
       "ID                                                                  \n",
       "5037048      M         Y              Y               0  135000.0   \n",
       "5044630      F         Y              N               1  135000.0   \n",
       "5079079      F         N              Y               2  180000.0   \n",
       "5112872      F         Y              Y               0  360000.0   \n",
       "5105858      F         N              N               0  270000.0   \n",
       "...        ...       ...            ...             ...       ...   \n",
       "5067139      F         N              Y               0  112500.0   \n",
       "5029193      F         N              Y               1  135000.0   \n",
       "5047710      F         N              Y               0   76500.0   \n",
       "5009886      F         N              Y               0  157500.0   \n",
       "5062632      F         N              Y               0  585000.0   \n",
       "\n",
       "            Employment status        Marital status           Dwelling  \\\n",
       "ID                                                                       \n",
       "5037048               Working               Married       With parents   \n",
       "5044630  Commercial associate  Single / not married  House / apartment   \n",
       "5079079  Commercial associate               Married  House / apartment   \n",
       "5112872  Commercial associate  Single / not married  House / apartment   \n",
       "5105858               Working             Separated  House / apartment   \n",
       "...                       ...                   ...                ...   \n",
       "5067139             Pensioner  Single / not married  House / apartment   \n",
       "5029193  Commercial associate               Married  House / apartment   \n",
       "5047710               Working               Married  House / apartment   \n",
       "5009886             Pensioner        Civil marriage  House / apartment   \n",
       "5062632  Commercial associate               Married  House / apartment   \n",
       "\n",
       "         Has a mobile phone  Has a work phone  Has a phone  Has an email  \\\n",
       "ID                                                                         \n",
       "5037048                   1                 0            0             0   \n",
       "5044630                   1                 0            0             0   \n",
       "5079079                   1                 0            0             0   \n",
       "5112872                   1                 0            0             1   \n",
       "5105858                   1                 0            1             0   \n",
       "...                     ...               ...          ...           ...   \n",
       "5067139                   1                 0            1             1   \n",
       "5029193                   1                 0            0             0   \n",
       "5047710                   1                 1            1             0   \n",
       "5009886                   1                 0            1             0   \n",
       "5062632                   1                 0            1             0   \n",
       "\n",
       "         Is high risk  \n",
       "ID                     \n",
       "5037048             0  \n",
       "5044630             0  \n",
       "5079079             0  \n",
       "5112872             0  \n",
       "5105858             0  \n",
       "...               ...  \n",
       "5067139             0  \n",
       "5029193             0  \n",
       "5047710             0  \n",
       "5009886             0  \n",
       "5062632             0  \n",
       "\n",
       "[29165 rows x 13 columns]"
      ]
     },
     "execution_count": 24,
     "metadata": {},
     "output_type": "execute_result"
    }
   ],
   "source": [
    "# drop unnecessary cols, set \"ID\" as index\n",
    "select_tr = train.drop(labels = [\"Age\", \"Employment length\", \"Job title\", \"Family member count\", \"Account age\", \"Education level\"], axis = 1)\n",
    "sel_tr = select_tr.set_index(\"ID\")\n",
    "sel_tr"
   ]
  },
  {
   "cell_type": "code",
   "execution_count": 25,
   "metadata": {
    "execution": {
     "iopub.execute_input": "2024-02-12T17:06:43.514722Z",
     "iopub.status.busy": "2024-02-12T17:06:43.514472Z",
     "iopub.status.idle": "2024-02-12T17:06:43.526274Z",
     "shell.execute_reply": "2024-02-12T17:06:43.525393Z",
     "shell.execute_reply.started": "2024-02-12T17:06:43.514700Z"
    }
   },
   "outputs": [
    {
     "data": {
      "text/plain": [
       "(29160, 13)"
      ]
     },
     "execution_count": 25,
     "metadata": {},
     "output_type": "execute_result"
    }
   ],
   "source": [
    "# Drop rows  where children count > 5\n",
    "i = sel_tr[sel_tr['Children count'] > 5].index\n",
    "#len(i) # check rows number which will be dropped\n",
    "sel_tr.drop(i, inplace = True)\n",
    "sel_tr.shape"
   ]
  },
  {
   "cell_type": "code",
   "execution_count": 26,
   "metadata": {
    "execution": {
     "iopub.execute_input": "2024-02-12T17:06:43.527785Z",
     "iopub.status.busy": "2024-02-12T17:06:43.527468Z",
     "iopub.status.idle": "2024-02-12T17:06:43.545111Z",
     "shell.execute_reply": "2024-02-12T17:06:43.544181Z",
     "shell.execute_reply.started": "2024-02-12T17:06:43.527756Z"
    }
   },
   "outputs": [
    {
     "data": {
      "text/html": [
       "<div>\n",
       "<style scoped>\n",
       "    .dataframe tbody tr th:only-of-type {\n",
       "        vertical-align: middle;\n",
       "    }\n",
       "\n",
       "    .dataframe tbody tr th {\n",
       "        vertical-align: top;\n",
       "    }\n",
       "\n",
       "    .dataframe thead th {\n",
       "        text-align: right;\n",
       "    }\n",
       "</style>\n",
       "<table border=\"1\" class=\"dataframe\">\n",
       "  <thead>\n",
       "    <tr style=\"text-align: right;\">\n",
       "      <th></th>\n",
       "      <th>Gender</th>\n",
       "      <th>Has a car</th>\n",
       "      <th>Has a property</th>\n",
       "      <th>Children count</th>\n",
       "      <th>Income</th>\n",
       "      <th>Employment status</th>\n",
       "      <th>Marital status</th>\n",
       "      <th>Dwelling</th>\n",
       "      <th>Has a mobile phone</th>\n",
       "      <th>Has a work phone</th>\n",
       "      <th>Has a phone</th>\n",
       "      <th>Has an email</th>\n",
       "      <th>Is high risk</th>\n",
       "    </tr>\n",
       "    <tr>\n",
       "      <th>ID</th>\n",
       "      <th></th>\n",
       "      <th></th>\n",
       "      <th></th>\n",
       "      <th></th>\n",
       "      <th></th>\n",
       "      <th></th>\n",
       "      <th></th>\n",
       "      <th></th>\n",
       "      <th></th>\n",
       "      <th></th>\n",
       "      <th></th>\n",
       "      <th></th>\n",
       "      <th></th>\n",
       "    </tr>\n",
       "  </thead>\n",
       "  <tbody>\n",
       "    <tr>\n",
       "      <th>5037048</th>\n",
       "      <td>M</td>\n",
       "      <td>Y</td>\n",
       "      <td>Y</td>\n",
       "      <td>0</td>\n",
       "      <td>135000.0</td>\n",
       "      <td>Working</td>\n",
       "      <td>Married</td>\n",
       "      <td>With parents</td>\n",
       "      <td>1</td>\n",
       "      <td>0</td>\n",
       "      <td>0</td>\n",
       "      <td>0</td>\n",
       "      <td>0</td>\n",
       "    </tr>\n",
       "    <tr>\n",
       "      <th>5044630</th>\n",
       "      <td>F</td>\n",
       "      <td>Y</td>\n",
       "      <td>N</td>\n",
       "      <td>1</td>\n",
       "      <td>135000.0</td>\n",
       "      <td>Commercial associate</td>\n",
       "      <td>Single / not married</td>\n",
       "      <td>House / apartment</td>\n",
       "      <td>1</td>\n",
       "      <td>0</td>\n",
       "      <td>0</td>\n",
       "      <td>0</td>\n",
       "      <td>0</td>\n",
       "    </tr>\n",
       "    <tr>\n",
       "      <th>5079079</th>\n",
       "      <td>F</td>\n",
       "      <td>N</td>\n",
       "      <td>Y</td>\n",
       "      <td>2</td>\n",
       "      <td>180000.0</td>\n",
       "      <td>Commercial associate</td>\n",
       "      <td>Married</td>\n",
       "      <td>House / apartment</td>\n",
       "      <td>1</td>\n",
       "      <td>0</td>\n",
       "      <td>0</td>\n",
       "      <td>0</td>\n",
       "      <td>0</td>\n",
       "    </tr>\n",
       "    <tr>\n",
       "      <th>5112872</th>\n",
       "      <td>F</td>\n",
       "      <td>Y</td>\n",
       "      <td>Y</td>\n",
       "      <td>0</td>\n",
       "      <td>360000.0</td>\n",
       "      <td>Commercial associate</td>\n",
       "      <td>Single / not married</td>\n",
       "      <td>House / apartment</td>\n",
       "      <td>1</td>\n",
       "      <td>0</td>\n",
       "      <td>0</td>\n",
       "      <td>1</td>\n",
       "      <td>0</td>\n",
       "    </tr>\n",
       "    <tr>\n",
       "      <th>5105858</th>\n",
       "      <td>F</td>\n",
       "      <td>N</td>\n",
       "      <td>N</td>\n",
       "      <td>0</td>\n",
       "      <td>270000.0</td>\n",
       "      <td>Working</td>\n",
       "      <td>Separated</td>\n",
       "      <td>House / apartment</td>\n",
       "      <td>1</td>\n",
       "      <td>0</td>\n",
       "      <td>1</td>\n",
       "      <td>0</td>\n",
       "      <td>0</td>\n",
       "    </tr>\n",
       "    <tr>\n",
       "      <th>...</th>\n",
       "      <td>...</td>\n",
       "      <td>...</td>\n",
       "      <td>...</td>\n",
       "      <td>...</td>\n",
       "      <td>...</td>\n",
       "      <td>...</td>\n",
       "      <td>...</td>\n",
       "      <td>...</td>\n",
       "      <td>...</td>\n",
       "      <td>...</td>\n",
       "      <td>...</td>\n",
       "      <td>...</td>\n",
       "      <td>...</td>\n",
       "    </tr>\n",
       "    <tr>\n",
       "      <th>5067139</th>\n",
       "      <td>F</td>\n",
       "      <td>N</td>\n",
       "      <td>Y</td>\n",
       "      <td>0</td>\n",
       "      <td>112500.0</td>\n",
       "      <td>Pensioner</td>\n",
       "      <td>Single / not married</td>\n",
       "      <td>House / apartment</td>\n",
       "      <td>1</td>\n",
       "      <td>0</td>\n",
       "      <td>1</td>\n",
       "      <td>1</td>\n",
       "      <td>0</td>\n",
       "    </tr>\n",
       "    <tr>\n",
       "      <th>5029193</th>\n",
       "      <td>F</td>\n",
       "      <td>N</td>\n",
       "      <td>Y</td>\n",
       "      <td>1</td>\n",
       "      <td>135000.0</td>\n",
       "      <td>Commercial associate</td>\n",
       "      <td>Married</td>\n",
       "      <td>House / apartment</td>\n",
       "      <td>1</td>\n",
       "      <td>0</td>\n",
       "      <td>0</td>\n",
       "      <td>0</td>\n",
       "      <td>0</td>\n",
       "    </tr>\n",
       "    <tr>\n",
       "      <th>5047710</th>\n",
       "      <td>F</td>\n",
       "      <td>N</td>\n",
       "      <td>Y</td>\n",
       "      <td>0</td>\n",
       "      <td>76500.0</td>\n",
       "      <td>Working</td>\n",
       "      <td>Married</td>\n",
       "      <td>House / apartment</td>\n",
       "      <td>1</td>\n",
       "      <td>1</td>\n",
       "      <td>1</td>\n",
       "      <td>0</td>\n",
       "      <td>0</td>\n",
       "    </tr>\n",
       "    <tr>\n",
       "      <th>5009886</th>\n",
       "      <td>F</td>\n",
       "      <td>N</td>\n",
       "      <td>Y</td>\n",
       "      <td>0</td>\n",
       "      <td>157500.0</td>\n",
       "      <td>Pensioner</td>\n",
       "      <td>Civil marriage</td>\n",
       "      <td>House / apartment</td>\n",
       "      <td>1</td>\n",
       "      <td>0</td>\n",
       "      <td>1</td>\n",
       "      <td>0</td>\n",
       "      <td>0</td>\n",
       "    </tr>\n",
       "    <tr>\n",
       "      <th>5062632</th>\n",
       "      <td>F</td>\n",
       "      <td>N</td>\n",
       "      <td>Y</td>\n",
       "      <td>0</td>\n",
       "      <td>585000.0</td>\n",
       "      <td>Commercial associate</td>\n",
       "      <td>Married</td>\n",
       "      <td>House / apartment</td>\n",
       "      <td>1</td>\n",
       "      <td>0</td>\n",
       "      <td>1</td>\n",
       "      <td>0</td>\n",
       "      <td>0</td>\n",
       "    </tr>\n",
       "  </tbody>\n",
       "</table>\n",
       "<p>29160 rows × 13 columns</p>\n",
       "</div>"
      ],
      "text/plain": [
       "        Gender Has a car Has a property  Children count    Income  \\\n",
       "ID                                                                  \n",
       "5037048      M         Y              Y               0  135000.0   \n",
       "5044630      F         Y              N               1  135000.0   \n",
       "5079079      F         N              Y               2  180000.0   \n",
       "5112872      F         Y              Y               0  360000.0   \n",
       "5105858      F         N              N               0  270000.0   \n",
       "...        ...       ...            ...             ...       ...   \n",
       "5067139      F         N              Y               0  112500.0   \n",
       "5029193      F         N              Y               1  135000.0   \n",
       "5047710      F         N              Y               0   76500.0   \n",
       "5009886      F         N              Y               0  157500.0   \n",
       "5062632      F         N              Y               0  585000.0   \n",
       "\n",
       "            Employment status        Marital status           Dwelling  \\\n",
       "ID                                                                       \n",
       "5037048               Working               Married       With parents   \n",
       "5044630  Commercial associate  Single / not married  House / apartment   \n",
       "5079079  Commercial associate               Married  House / apartment   \n",
       "5112872  Commercial associate  Single / not married  House / apartment   \n",
       "5105858               Working             Separated  House / apartment   \n",
       "...                       ...                   ...                ...   \n",
       "5067139             Pensioner  Single / not married  House / apartment   \n",
       "5029193  Commercial associate               Married  House / apartment   \n",
       "5047710               Working               Married  House / apartment   \n",
       "5009886             Pensioner        Civil marriage  House / apartment   \n",
       "5062632  Commercial associate               Married  House / apartment   \n",
       "\n",
       "         Has a mobile phone  Has a work phone  Has a phone  Has an email  \\\n",
       "ID                                                                         \n",
       "5037048                   1                 0            0             0   \n",
       "5044630                   1                 0            0             0   \n",
       "5079079                   1                 0            0             0   \n",
       "5112872                   1                 0            0             1   \n",
       "5105858                   1                 0            1             0   \n",
       "...                     ...               ...          ...           ...   \n",
       "5067139                   1                 0            1             1   \n",
       "5029193                   1                 0            0             0   \n",
       "5047710                   1                 1            1             0   \n",
       "5009886                   1                 0            1             0   \n",
       "5062632                   1                 0            1             0   \n",
       "\n",
       "         Is high risk  \n",
       "ID                     \n",
       "5037048             0  \n",
       "5044630             0  \n",
       "5079079             0  \n",
       "5112872             0  \n",
       "5105858             0  \n",
       "...               ...  \n",
       "5067139             0  \n",
       "5029193             0  \n",
       "5047710             0  \n",
       "5009886             0  \n",
       "5062632             0  \n",
       "\n",
       "[29160 rows x 13 columns]"
      ]
     },
     "execution_count": 26,
     "metadata": {},
     "output_type": "execute_result"
    }
   ],
   "source": [
    "sel_tr"
   ]
  },
  {
   "cell_type": "markdown",
   "metadata": {},
   "source": [
    "# Faeture Engineering\n",
    "\n",
    " **1- \"Employmnet status\" into  2 categories (Not employed: Pensioner, Student; Employed: Working, Commercial associate, State servant)**\n",
    "\n",
    "**2- Regroup \"Marital status\" into  2 categories: (not married: Single / not married', 'Widow', 'Separated' ; married)**   \n",
    "\n",
    "**3- Regroup \"Dwelling\" into 2 categories (dependent: (With parents, Municipal,  Rented, Office, Co-op apartment); independent: (House / apartment))**"
   ]
  },
  {
   "cell_type": "code",
   "execution_count": 27,
   "metadata": {
    "execution": {
     "iopub.execute_input": "2024-02-12T17:06:43.546425Z",
     "iopub.status.busy": "2024-02-12T17:06:43.546164Z",
     "iopub.status.idle": "2024-02-12T17:06:43.578606Z",
     "shell.execute_reply": "2024-02-12T17:06:43.577761Z",
     "shell.execute_reply.started": "2024-02-12T17:06:43.546403Z"
    }
   },
   "outputs": [
    {
     "data": {
      "text/html": [
       "<div>\n",
       "<style scoped>\n",
       "    .dataframe tbody tr th:only-of-type {\n",
       "        vertical-align: middle;\n",
       "    }\n",
       "\n",
       "    .dataframe tbody tr th {\n",
       "        vertical-align: top;\n",
       "    }\n",
       "\n",
       "    .dataframe thead th {\n",
       "        text-align: right;\n",
       "    }\n",
       "</style>\n",
       "<table border=\"1\" class=\"dataframe\">\n",
       "  <thead>\n",
       "    <tr style=\"text-align: right;\">\n",
       "      <th></th>\n",
       "      <th>Gender</th>\n",
       "      <th>Has a car</th>\n",
       "      <th>Has a property</th>\n",
       "      <th>Children count</th>\n",
       "      <th>Income</th>\n",
       "      <th>Employment status</th>\n",
       "      <th>Marital status</th>\n",
       "      <th>Dwelling</th>\n",
       "      <th>Has a mobile phone</th>\n",
       "      <th>Has a work phone</th>\n",
       "      <th>Has a phone</th>\n",
       "      <th>Has an email</th>\n",
       "      <th>Is high risk</th>\n",
       "      <th>Employ</th>\n",
       "    </tr>\n",
       "    <tr>\n",
       "      <th>ID</th>\n",
       "      <th></th>\n",
       "      <th></th>\n",
       "      <th></th>\n",
       "      <th></th>\n",
       "      <th></th>\n",
       "      <th></th>\n",
       "      <th></th>\n",
       "      <th></th>\n",
       "      <th></th>\n",
       "      <th></th>\n",
       "      <th></th>\n",
       "      <th></th>\n",
       "      <th></th>\n",
       "      <th></th>\n",
       "    </tr>\n",
       "  </thead>\n",
       "  <tbody>\n",
       "    <tr>\n",
       "      <th>5037048</th>\n",
       "      <td>M</td>\n",
       "      <td>Y</td>\n",
       "      <td>Y</td>\n",
       "      <td>0</td>\n",
       "      <td>135000.0</td>\n",
       "      <td>Working</td>\n",
       "      <td>Married</td>\n",
       "      <td>With parents</td>\n",
       "      <td>1</td>\n",
       "      <td>0</td>\n",
       "      <td>0</td>\n",
       "      <td>0</td>\n",
       "      <td>0</td>\n",
       "      <td>Employed</td>\n",
       "    </tr>\n",
       "    <tr>\n",
       "      <th>5044630</th>\n",
       "      <td>F</td>\n",
       "      <td>Y</td>\n",
       "      <td>N</td>\n",
       "      <td>1</td>\n",
       "      <td>135000.0</td>\n",
       "      <td>Commercial associate</td>\n",
       "      <td>Single / not married</td>\n",
       "      <td>House / apartment</td>\n",
       "      <td>1</td>\n",
       "      <td>0</td>\n",
       "      <td>0</td>\n",
       "      <td>0</td>\n",
       "      <td>0</td>\n",
       "      <td>Employed</td>\n",
       "    </tr>\n",
       "    <tr>\n",
       "      <th>5079079</th>\n",
       "      <td>F</td>\n",
       "      <td>N</td>\n",
       "      <td>Y</td>\n",
       "      <td>2</td>\n",
       "      <td>180000.0</td>\n",
       "      <td>Commercial associate</td>\n",
       "      <td>Married</td>\n",
       "      <td>House / apartment</td>\n",
       "      <td>1</td>\n",
       "      <td>0</td>\n",
       "      <td>0</td>\n",
       "      <td>0</td>\n",
       "      <td>0</td>\n",
       "      <td>Employed</td>\n",
       "    </tr>\n",
       "    <tr>\n",
       "      <th>5112872</th>\n",
       "      <td>F</td>\n",
       "      <td>Y</td>\n",
       "      <td>Y</td>\n",
       "      <td>0</td>\n",
       "      <td>360000.0</td>\n",
       "      <td>Commercial associate</td>\n",
       "      <td>Single / not married</td>\n",
       "      <td>House / apartment</td>\n",
       "      <td>1</td>\n",
       "      <td>0</td>\n",
       "      <td>0</td>\n",
       "      <td>1</td>\n",
       "      <td>0</td>\n",
       "      <td>Employed</td>\n",
       "    </tr>\n",
       "    <tr>\n",
       "      <th>5105858</th>\n",
       "      <td>F</td>\n",
       "      <td>N</td>\n",
       "      <td>N</td>\n",
       "      <td>0</td>\n",
       "      <td>270000.0</td>\n",
       "      <td>Working</td>\n",
       "      <td>Separated</td>\n",
       "      <td>House / apartment</td>\n",
       "      <td>1</td>\n",
       "      <td>0</td>\n",
       "      <td>1</td>\n",
       "      <td>0</td>\n",
       "      <td>0</td>\n",
       "      <td>Employed</td>\n",
       "    </tr>\n",
       "    <tr>\n",
       "      <th>...</th>\n",
       "      <td>...</td>\n",
       "      <td>...</td>\n",
       "      <td>...</td>\n",
       "      <td>...</td>\n",
       "      <td>...</td>\n",
       "      <td>...</td>\n",
       "      <td>...</td>\n",
       "      <td>...</td>\n",
       "      <td>...</td>\n",
       "      <td>...</td>\n",
       "      <td>...</td>\n",
       "      <td>...</td>\n",
       "      <td>...</td>\n",
       "      <td>...</td>\n",
       "    </tr>\n",
       "    <tr>\n",
       "      <th>5067139</th>\n",
       "      <td>F</td>\n",
       "      <td>N</td>\n",
       "      <td>Y</td>\n",
       "      <td>0</td>\n",
       "      <td>112500.0</td>\n",
       "      <td>Pensioner</td>\n",
       "      <td>Single / not married</td>\n",
       "      <td>House / apartment</td>\n",
       "      <td>1</td>\n",
       "      <td>0</td>\n",
       "      <td>1</td>\n",
       "      <td>1</td>\n",
       "      <td>0</td>\n",
       "      <td>Not employed</td>\n",
       "    </tr>\n",
       "    <tr>\n",
       "      <th>5029193</th>\n",
       "      <td>F</td>\n",
       "      <td>N</td>\n",
       "      <td>Y</td>\n",
       "      <td>1</td>\n",
       "      <td>135000.0</td>\n",
       "      <td>Commercial associate</td>\n",
       "      <td>Married</td>\n",
       "      <td>House / apartment</td>\n",
       "      <td>1</td>\n",
       "      <td>0</td>\n",
       "      <td>0</td>\n",
       "      <td>0</td>\n",
       "      <td>0</td>\n",
       "      <td>Employed</td>\n",
       "    </tr>\n",
       "    <tr>\n",
       "      <th>5047710</th>\n",
       "      <td>F</td>\n",
       "      <td>N</td>\n",
       "      <td>Y</td>\n",
       "      <td>0</td>\n",
       "      <td>76500.0</td>\n",
       "      <td>Working</td>\n",
       "      <td>Married</td>\n",
       "      <td>House / apartment</td>\n",
       "      <td>1</td>\n",
       "      <td>1</td>\n",
       "      <td>1</td>\n",
       "      <td>0</td>\n",
       "      <td>0</td>\n",
       "      <td>Employed</td>\n",
       "    </tr>\n",
       "    <tr>\n",
       "      <th>5009886</th>\n",
       "      <td>F</td>\n",
       "      <td>N</td>\n",
       "      <td>Y</td>\n",
       "      <td>0</td>\n",
       "      <td>157500.0</td>\n",
       "      <td>Pensioner</td>\n",
       "      <td>Civil marriage</td>\n",
       "      <td>House / apartment</td>\n",
       "      <td>1</td>\n",
       "      <td>0</td>\n",
       "      <td>1</td>\n",
       "      <td>0</td>\n",
       "      <td>0</td>\n",
       "      <td>Not employed</td>\n",
       "    </tr>\n",
       "    <tr>\n",
       "      <th>5062632</th>\n",
       "      <td>F</td>\n",
       "      <td>N</td>\n",
       "      <td>Y</td>\n",
       "      <td>0</td>\n",
       "      <td>585000.0</td>\n",
       "      <td>Commercial associate</td>\n",
       "      <td>Married</td>\n",
       "      <td>House / apartment</td>\n",
       "      <td>1</td>\n",
       "      <td>0</td>\n",
       "      <td>1</td>\n",
       "      <td>0</td>\n",
       "      <td>0</td>\n",
       "      <td>Employed</td>\n",
       "    </tr>\n",
       "  </tbody>\n",
       "</table>\n",
       "<p>29160 rows × 14 columns</p>\n",
       "</div>"
      ],
      "text/plain": [
       "        Gender Has a car Has a property  Children count    Income  \\\n",
       "ID                                                                  \n",
       "5037048      M         Y              Y               0  135000.0   \n",
       "5044630      F         Y              N               1  135000.0   \n",
       "5079079      F         N              Y               2  180000.0   \n",
       "5112872      F         Y              Y               0  360000.0   \n",
       "5105858      F         N              N               0  270000.0   \n",
       "...        ...       ...            ...             ...       ...   \n",
       "5067139      F         N              Y               0  112500.0   \n",
       "5029193      F         N              Y               1  135000.0   \n",
       "5047710      F         N              Y               0   76500.0   \n",
       "5009886      F         N              Y               0  157500.0   \n",
       "5062632      F         N              Y               0  585000.0   \n",
       "\n",
       "            Employment status        Marital status           Dwelling  \\\n",
       "ID                                                                       \n",
       "5037048               Working               Married       With parents   \n",
       "5044630  Commercial associate  Single / not married  House / apartment   \n",
       "5079079  Commercial associate               Married  House / apartment   \n",
       "5112872  Commercial associate  Single / not married  House / apartment   \n",
       "5105858               Working             Separated  House / apartment   \n",
       "...                       ...                   ...                ...   \n",
       "5067139             Pensioner  Single / not married  House / apartment   \n",
       "5029193  Commercial associate               Married  House / apartment   \n",
       "5047710               Working               Married  House / apartment   \n",
       "5009886             Pensioner        Civil marriage  House / apartment   \n",
       "5062632  Commercial associate               Married  House / apartment   \n",
       "\n",
       "         Has a mobile phone  Has a work phone  Has a phone  Has an email  \\\n",
       "ID                                                                         \n",
       "5037048                   1                 0            0             0   \n",
       "5044630                   1                 0            0             0   \n",
       "5079079                   1                 0            0             0   \n",
       "5112872                   1                 0            0             1   \n",
       "5105858                   1                 0            1             0   \n",
       "...                     ...               ...          ...           ...   \n",
       "5067139                   1                 0            1             1   \n",
       "5029193                   1                 0            0             0   \n",
       "5047710                   1                 1            1             0   \n",
       "5009886                   1                 0            1             0   \n",
       "5062632                   1                 0            1             0   \n",
       "\n",
       "         Is high risk        Employ  \n",
       "ID                                   \n",
       "5037048             0      Employed  \n",
       "5044630             0      Employed  \n",
       "5079079             0      Employed  \n",
       "5112872             0      Employed  \n",
       "5105858             0      Employed  \n",
       "...               ...           ...  \n",
       "5067139             0  Not employed  \n",
       "5029193             0      Employed  \n",
       "5047710             0      Employed  \n",
       "5009886             0  Not employed  \n",
       "5062632             0      Employed  \n",
       "\n",
       "[29160 rows x 14 columns]"
      ]
     },
     "execution_count": 27,
     "metadata": {},
     "output_type": "execute_result"
    }
   ],
   "source": [
    "def Employ(x):\n",
    "    if x in ['Pensioner', 'Student']:\n",
    "        return 'Not employed'\n",
    "    elif x in ['Working', 'Commercial associate', 'State servant']:\n",
    "        return 'Employed'\n",
    "    else:\n",
    "        return 'No match'\n",
    "\n",
    "sel_tr['Employ'] = sel_tr['Employment status'].apply(Employ)\n",
    "\n",
    "sel_tr"
   ]
  },
  {
   "cell_type": "code",
   "execution_count": 28,
   "metadata": {
    "execution": {
     "iopub.execute_input": "2024-02-12T17:06:43.580196Z",
     "iopub.status.busy": "2024-02-12T17:06:43.579742Z",
     "iopub.status.idle": "2024-02-12T17:06:43.609811Z",
     "shell.execute_reply": "2024-02-12T17:06:43.609033Z",
     "shell.execute_reply.started": "2024-02-12T17:06:43.580165Z"
    }
   },
   "outputs": [
    {
     "data": {
      "text/html": [
       "<div>\n",
       "<style scoped>\n",
       "    .dataframe tbody tr th:only-of-type {\n",
       "        vertical-align: middle;\n",
       "    }\n",
       "\n",
       "    .dataframe tbody tr th {\n",
       "        vertical-align: top;\n",
       "    }\n",
       "\n",
       "    .dataframe thead th {\n",
       "        text-align: right;\n",
       "    }\n",
       "</style>\n",
       "<table border=\"1\" class=\"dataframe\">\n",
       "  <thead>\n",
       "    <tr style=\"text-align: right;\">\n",
       "      <th></th>\n",
       "      <th>Gender</th>\n",
       "      <th>Has a car</th>\n",
       "      <th>Has a property</th>\n",
       "      <th>Children count</th>\n",
       "      <th>Income</th>\n",
       "      <th>Employment status</th>\n",
       "      <th>Marital status</th>\n",
       "      <th>Dwelling</th>\n",
       "      <th>Has a mobile phone</th>\n",
       "      <th>Has a work phone</th>\n",
       "      <th>Has a phone</th>\n",
       "      <th>Has an email</th>\n",
       "      <th>Is high risk</th>\n",
       "      <th>Employ</th>\n",
       "      <th>Social state</th>\n",
       "    </tr>\n",
       "    <tr>\n",
       "      <th>ID</th>\n",
       "      <th></th>\n",
       "      <th></th>\n",
       "      <th></th>\n",
       "      <th></th>\n",
       "      <th></th>\n",
       "      <th></th>\n",
       "      <th></th>\n",
       "      <th></th>\n",
       "      <th></th>\n",
       "      <th></th>\n",
       "      <th></th>\n",
       "      <th></th>\n",
       "      <th></th>\n",
       "      <th></th>\n",
       "      <th></th>\n",
       "    </tr>\n",
       "  </thead>\n",
       "  <tbody>\n",
       "    <tr>\n",
       "      <th>5037048</th>\n",
       "      <td>M</td>\n",
       "      <td>Y</td>\n",
       "      <td>Y</td>\n",
       "      <td>0</td>\n",
       "      <td>135000.0</td>\n",
       "      <td>Working</td>\n",
       "      <td>Married</td>\n",
       "      <td>With parents</td>\n",
       "      <td>1</td>\n",
       "      <td>0</td>\n",
       "      <td>0</td>\n",
       "      <td>0</td>\n",
       "      <td>0</td>\n",
       "      <td>Employed</td>\n",
       "      <td>Married</td>\n",
       "    </tr>\n",
       "    <tr>\n",
       "      <th>5044630</th>\n",
       "      <td>F</td>\n",
       "      <td>Y</td>\n",
       "      <td>N</td>\n",
       "      <td>1</td>\n",
       "      <td>135000.0</td>\n",
       "      <td>Commercial associate</td>\n",
       "      <td>Single / not married</td>\n",
       "      <td>House / apartment</td>\n",
       "      <td>1</td>\n",
       "      <td>0</td>\n",
       "      <td>0</td>\n",
       "      <td>0</td>\n",
       "      <td>0</td>\n",
       "      <td>Employed</td>\n",
       "      <td>Not Married</td>\n",
       "    </tr>\n",
       "    <tr>\n",
       "      <th>5079079</th>\n",
       "      <td>F</td>\n",
       "      <td>N</td>\n",
       "      <td>Y</td>\n",
       "      <td>2</td>\n",
       "      <td>180000.0</td>\n",
       "      <td>Commercial associate</td>\n",
       "      <td>Married</td>\n",
       "      <td>House / apartment</td>\n",
       "      <td>1</td>\n",
       "      <td>0</td>\n",
       "      <td>0</td>\n",
       "      <td>0</td>\n",
       "      <td>0</td>\n",
       "      <td>Employed</td>\n",
       "      <td>Married</td>\n",
       "    </tr>\n",
       "    <tr>\n",
       "      <th>5112872</th>\n",
       "      <td>F</td>\n",
       "      <td>Y</td>\n",
       "      <td>Y</td>\n",
       "      <td>0</td>\n",
       "      <td>360000.0</td>\n",
       "      <td>Commercial associate</td>\n",
       "      <td>Single / not married</td>\n",
       "      <td>House / apartment</td>\n",
       "      <td>1</td>\n",
       "      <td>0</td>\n",
       "      <td>0</td>\n",
       "      <td>1</td>\n",
       "      <td>0</td>\n",
       "      <td>Employed</td>\n",
       "      <td>Not Married</td>\n",
       "    </tr>\n",
       "    <tr>\n",
       "      <th>5105858</th>\n",
       "      <td>F</td>\n",
       "      <td>N</td>\n",
       "      <td>N</td>\n",
       "      <td>0</td>\n",
       "      <td>270000.0</td>\n",
       "      <td>Working</td>\n",
       "      <td>Separated</td>\n",
       "      <td>House / apartment</td>\n",
       "      <td>1</td>\n",
       "      <td>0</td>\n",
       "      <td>1</td>\n",
       "      <td>0</td>\n",
       "      <td>0</td>\n",
       "      <td>Employed</td>\n",
       "      <td>Not Married</td>\n",
       "    </tr>\n",
       "    <tr>\n",
       "      <th>...</th>\n",
       "      <td>...</td>\n",
       "      <td>...</td>\n",
       "      <td>...</td>\n",
       "      <td>...</td>\n",
       "      <td>...</td>\n",
       "      <td>...</td>\n",
       "      <td>...</td>\n",
       "      <td>...</td>\n",
       "      <td>...</td>\n",
       "      <td>...</td>\n",
       "      <td>...</td>\n",
       "      <td>...</td>\n",
       "      <td>...</td>\n",
       "      <td>...</td>\n",
       "      <td>...</td>\n",
       "    </tr>\n",
       "    <tr>\n",
       "      <th>5067139</th>\n",
       "      <td>F</td>\n",
       "      <td>N</td>\n",
       "      <td>Y</td>\n",
       "      <td>0</td>\n",
       "      <td>112500.0</td>\n",
       "      <td>Pensioner</td>\n",
       "      <td>Single / not married</td>\n",
       "      <td>House / apartment</td>\n",
       "      <td>1</td>\n",
       "      <td>0</td>\n",
       "      <td>1</td>\n",
       "      <td>1</td>\n",
       "      <td>0</td>\n",
       "      <td>Not employed</td>\n",
       "      <td>Not Married</td>\n",
       "    </tr>\n",
       "    <tr>\n",
       "      <th>5029193</th>\n",
       "      <td>F</td>\n",
       "      <td>N</td>\n",
       "      <td>Y</td>\n",
       "      <td>1</td>\n",
       "      <td>135000.0</td>\n",
       "      <td>Commercial associate</td>\n",
       "      <td>Married</td>\n",
       "      <td>House / apartment</td>\n",
       "      <td>1</td>\n",
       "      <td>0</td>\n",
       "      <td>0</td>\n",
       "      <td>0</td>\n",
       "      <td>0</td>\n",
       "      <td>Employed</td>\n",
       "      <td>Married</td>\n",
       "    </tr>\n",
       "    <tr>\n",
       "      <th>5047710</th>\n",
       "      <td>F</td>\n",
       "      <td>N</td>\n",
       "      <td>Y</td>\n",
       "      <td>0</td>\n",
       "      <td>76500.0</td>\n",
       "      <td>Working</td>\n",
       "      <td>Married</td>\n",
       "      <td>House / apartment</td>\n",
       "      <td>1</td>\n",
       "      <td>1</td>\n",
       "      <td>1</td>\n",
       "      <td>0</td>\n",
       "      <td>0</td>\n",
       "      <td>Employed</td>\n",
       "      <td>Married</td>\n",
       "    </tr>\n",
       "    <tr>\n",
       "      <th>5009886</th>\n",
       "      <td>F</td>\n",
       "      <td>N</td>\n",
       "      <td>Y</td>\n",
       "      <td>0</td>\n",
       "      <td>157500.0</td>\n",
       "      <td>Pensioner</td>\n",
       "      <td>Civil marriage</td>\n",
       "      <td>House / apartment</td>\n",
       "      <td>1</td>\n",
       "      <td>0</td>\n",
       "      <td>1</td>\n",
       "      <td>0</td>\n",
       "      <td>0</td>\n",
       "      <td>Not employed</td>\n",
       "      <td>Married</td>\n",
       "    </tr>\n",
       "    <tr>\n",
       "      <th>5062632</th>\n",
       "      <td>F</td>\n",
       "      <td>N</td>\n",
       "      <td>Y</td>\n",
       "      <td>0</td>\n",
       "      <td>585000.0</td>\n",
       "      <td>Commercial associate</td>\n",
       "      <td>Married</td>\n",
       "      <td>House / apartment</td>\n",
       "      <td>1</td>\n",
       "      <td>0</td>\n",
       "      <td>1</td>\n",
       "      <td>0</td>\n",
       "      <td>0</td>\n",
       "      <td>Employed</td>\n",
       "      <td>Married</td>\n",
       "    </tr>\n",
       "  </tbody>\n",
       "</table>\n",
       "<p>29160 rows × 15 columns</p>\n",
       "</div>"
      ],
      "text/plain": [
       "        Gender Has a car Has a property  Children count    Income  \\\n",
       "ID                                                                  \n",
       "5037048      M         Y              Y               0  135000.0   \n",
       "5044630      F         Y              N               1  135000.0   \n",
       "5079079      F         N              Y               2  180000.0   \n",
       "5112872      F         Y              Y               0  360000.0   \n",
       "5105858      F         N              N               0  270000.0   \n",
       "...        ...       ...            ...             ...       ...   \n",
       "5067139      F         N              Y               0  112500.0   \n",
       "5029193      F         N              Y               1  135000.0   \n",
       "5047710      F         N              Y               0   76500.0   \n",
       "5009886      F         N              Y               0  157500.0   \n",
       "5062632      F         N              Y               0  585000.0   \n",
       "\n",
       "            Employment status        Marital status           Dwelling  \\\n",
       "ID                                                                       \n",
       "5037048               Working               Married       With parents   \n",
       "5044630  Commercial associate  Single / not married  House / apartment   \n",
       "5079079  Commercial associate               Married  House / apartment   \n",
       "5112872  Commercial associate  Single / not married  House / apartment   \n",
       "5105858               Working             Separated  House / apartment   \n",
       "...                       ...                   ...                ...   \n",
       "5067139             Pensioner  Single / not married  House / apartment   \n",
       "5029193  Commercial associate               Married  House / apartment   \n",
       "5047710               Working               Married  House / apartment   \n",
       "5009886             Pensioner        Civil marriage  House / apartment   \n",
       "5062632  Commercial associate               Married  House / apartment   \n",
       "\n",
       "         Has a mobile phone  Has a work phone  Has a phone  Has an email  \\\n",
       "ID                                                                         \n",
       "5037048                   1                 0            0             0   \n",
       "5044630                   1                 0            0             0   \n",
       "5079079                   1                 0            0             0   \n",
       "5112872                   1                 0            0             1   \n",
       "5105858                   1                 0            1             0   \n",
       "...                     ...               ...          ...           ...   \n",
       "5067139                   1                 0            1             1   \n",
       "5029193                   1                 0            0             0   \n",
       "5047710                   1                 1            1             0   \n",
       "5009886                   1                 0            1             0   \n",
       "5062632                   1                 0            1             0   \n",
       "\n",
       "         Is high risk        Employ Social state  \n",
       "ID                                                \n",
       "5037048             0      Employed      Married  \n",
       "5044630             0      Employed  Not Married  \n",
       "5079079             0      Employed      Married  \n",
       "5112872             0      Employed  Not Married  \n",
       "5105858             0      Employed  Not Married  \n",
       "...               ...           ...          ...  \n",
       "5067139             0  Not employed  Not Married  \n",
       "5029193             0      Employed      Married  \n",
       "5047710             0      Employed      Married  \n",
       "5009886             0  Not employed      Married  \n",
       "5062632             0      Employed      Married  \n",
       "\n",
       "[29160 rows x 15 columns]"
      ]
     },
     "execution_count": 28,
     "metadata": {},
     "output_type": "execute_result"
    }
   ],
   "source": [
    "def Social(x):\n",
    "    if x in ['Married', 'Civil marriage']:\n",
    "        return 'Married'\n",
    "    elif x in ['Single / not married', 'Widow', 'Separated']:\n",
    "        return 'Not Married'\n",
    "    else:\n",
    "        return 'No match'\n",
    "\n",
    "sel_tr['Social state'] = sel_tr['Marital status'].apply(Social)\n",
    "\n",
    "sel_tr"
   ]
  },
  {
   "cell_type": "code",
   "execution_count": 29,
   "metadata": {
    "execution": {
     "iopub.execute_input": "2024-02-12T17:06:43.615772Z",
     "iopub.status.busy": "2024-02-12T17:06:43.615531Z",
     "iopub.status.idle": "2024-02-12T17:06:43.645219Z",
     "shell.execute_reply": "2024-02-12T17:06:43.644415Z",
     "shell.execute_reply.started": "2024-02-12T17:06:43.615751Z"
    }
   },
   "outputs": [
    {
     "data": {
      "text/html": [
       "<div>\n",
       "<style scoped>\n",
       "    .dataframe tbody tr th:only-of-type {\n",
       "        vertical-align: middle;\n",
       "    }\n",
       "\n",
       "    .dataframe tbody tr th {\n",
       "        vertical-align: top;\n",
       "    }\n",
       "\n",
       "    .dataframe thead th {\n",
       "        text-align: right;\n",
       "    }\n",
       "</style>\n",
       "<table border=\"1\" class=\"dataframe\">\n",
       "  <thead>\n",
       "    <tr style=\"text-align: right;\">\n",
       "      <th></th>\n",
       "      <th>Gender</th>\n",
       "      <th>Has a car</th>\n",
       "      <th>Has a property</th>\n",
       "      <th>Children count</th>\n",
       "      <th>Income</th>\n",
       "      <th>Employment status</th>\n",
       "      <th>Marital status</th>\n",
       "      <th>Dwelling</th>\n",
       "      <th>Has a mobile phone</th>\n",
       "      <th>Has a work phone</th>\n",
       "      <th>Has a phone</th>\n",
       "      <th>Has an email</th>\n",
       "      <th>Is high risk</th>\n",
       "      <th>Employ</th>\n",
       "      <th>Social state</th>\n",
       "      <th>Independency</th>\n",
       "    </tr>\n",
       "    <tr>\n",
       "      <th>ID</th>\n",
       "      <th></th>\n",
       "      <th></th>\n",
       "      <th></th>\n",
       "      <th></th>\n",
       "      <th></th>\n",
       "      <th></th>\n",
       "      <th></th>\n",
       "      <th></th>\n",
       "      <th></th>\n",
       "      <th></th>\n",
       "      <th></th>\n",
       "      <th></th>\n",
       "      <th></th>\n",
       "      <th></th>\n",
       "      <th></th>\n",
       "      <th></th>\n",
       "    </tr>\n",
       "  </thead>\n",
       "  <tbody>\n",
       "    <tr>\n",
       "      <th>5037048</th>\n",
       "      <td>M</td>\n",
       "      <td>Y</td>\n",
       "      <td>Y</td>\n",
       "      <td>0</td>\n",
       "      <td>135000.0</td>\n",
       "      <td>Working</td>\n",
       "      <td>Married</td>\n",
       "      <td>With parents</td>\n",
       "      <td>1</td>\n",
       "      <td>0</td>\n",
       "      <td>0</td>\n",
       "      <td>0</td>\n",
       "      <td>0</td>\n",
       "      <td>Employed</td>\n",
       "      <td>Married</td>\n",
       "      <td>Dependent</td>\n",
       "    </tr>\n",
       "    <tr>\n",
       "      <th>5044630</th>\n",
       "      <td>F</td>\n",
       "      <td>Y</td>\n",
       "      <td>N</td>\n",
       "      <td>1</td>\n",
       "      <td>135000.0</td>\n",
       "      <td>Commercial associate</td>\n",
       "      <td>Single / not married</td>\n",
       "      <td>House / apartment</td>\n",
       "      <td>1</td>\n",
       "      <td>0</td>\n",
       "      <td>0</td>\n",
       "      <td>0</td>\n",
       "      <td>0</td>\n",
       "      <td>Employed</td>\n",
       "      <td>Not Married</td>\n",
       "      <td>Independent</td>\n",
       "    </tr>\n",
       "    <tr>\n",
       "      <th>5079079</th>\n",
       "      <td>F</td>\n",
       "      <td>N</td>\n",
       "      <td>Y</td>\n",
       "      <td>2</td>\n",
       "      <td>180000.0</td>\n",
       "      <td>Commercial associate</td>\n",
       "      <td>Married</td>\n",
       "      <td>House / apartment</td>\n",
       "      <td>1</td>\n",
       "      <td>0</td>\n",
       "      <td>0</td>\n",
       "      <td>0</td>\n",
       "      <td>0</td>\n",
       "      <td>Employed</td>\n",
       "      <td>Married</td>\n",
       "      <td>Independent</td>\n",
       "    </tr>\n",
       "    <tr>\n",
       "      <th>5112872</th>\n",
       "      <td>F</td>\n",
       "      <td>Y</td>\n",
       "      <td>Y</td>\n",
       "      <td>0</td>\n",
       "      <td>360000.0</td>\n",
       "      <td>Commercial associate</td>\n",
       "      <td>Single / not married</td>\n",
       "      <td>House / apartment</td>\n",
       "      <td>1</td>\n",
       "      <td>0</td>\n",
       "      <td>0</td>\n",
       "      <td>1</td>\n",
       "      <td>0</td>\n",
       "      <td>Employed</td>\n",
       "      <td>Not Married</td>\n",
       "      <td>Independent</td>\n",
       "    </tr>\n",
       "    <tr>\n",
       "      <th>5105858</th>\n",
       "      <td>F</td>\n",
       "      <td>N</td>\n",
       "      <td>N</td>\n",
       "      <td>0</td>\n",
       "      <td>270000.0</td>\n",
       "      <td>Working</td>\n",
       "      <td>Separated</td>\n",
       "      <td>House / apartment</td>\n",
       "      <td>1</td>\n",
       "      <td>0</td>\n",
       "      <td>1</td>\n",
       "      <td>0</td>\n",
       "      <td>0</td>\n",
       "      <td>Employed</td>\n",
       "      <td>Not Married</td>\n",
       "      <td>Independent</td>\n",
       "    </tr>\n",
       "    <tr>\n",
       "      <th>...</th>\n",
       "      <td>...</td>\n",
       "      <td>...</td>\n",
       "      <td>...</td>\n",
       "      <td>...</td>\n",
       "      <td>...</td>\n",
       "      <td>...</td>\n",
       "      <td>...</td>\n",
       "      <td>...</td>\n",
       "      <td>...</td>\n",
       "      <td>...</td>\n",
       "      <td>...</td>\n",
       "      <td>...</td>\n",
       "      <td>...</td>\n",
       "      <td>...</td>\n",
       "      <td>...</td>\n",
       "      <td>...</td>\n",
       "    </tr>\n",
       "    <tr>\n",
       "      <th>5067139</th>\n",
       "      <td>F</td>\n",
       "      <td>N</td>\n",
       "      <td>Y</td>\n",
       "      <td>0</td>\n",
       "      <td>112500.0</td>\n",
       "      <td>Pensioner</td>\n",
       "      <td>Single / not married</td>\n",
       "      <td>House / apartment</td>\n",
       "      <td>1</td>\n",
       "      <td>0</td>\n",
       "      <td>1</td>\n",
       "      <td>1</td>\n",
       "      <td>0</td>\n",
       "      <td>Not employed</td>\n",
       "      <td>Not Married</td>\n",
       "      <td>Independent</td>\n",
       "    </tr>\n",
       "    <tr>\n",
       "      <th>5029193</th>\n",
       "      <td>F</td>\n",
       "      <td>N</td>\n",
       "      <td>Y</td>\n",
       "      <td>1</td>\n",
       "      <td>135000.0</td>\n",
       "      <td>Commercial associate</td>\n",
       "      <td>Married</td>\n",
       "      <td>House / apartment</td>\n",
       "      <td>1</td>\n",
       "      <td>0</td>\n",
       "      <td>0</td>\n",
       "      <td>0</td>\n",
       "      <td>0</td>\n",
       "      <td>Employed</td>\n",
       "      <td>Married</td>\n",
       "      <td>Independent</td>\n",
       "    </tr>\n",
       "    <tr>\n",
       "      <th>5047710</th>\n",
       "      <td>F</td>\n",
       "      <td>N</td>\n",
       "      <td>Y</td>\n",
       "      <td>0</td>\n",
       "      <td>76500.0</td>\n",
       "      <td>Working</td>\n",
       "      <td>Married</td>\n",
       "      <td>House / apartment</td>\n",
       "      <td>1</td>\n",
       "      <td>1</td>\n",
       "      <td>1</td>\n",
       "      <td>0</td>\n",
       "      <td>0</td>\n",
       "      <td>Employed</td>\n",
       "      <td>Married</td>\n",
       "      <td>Independent</td>\n",
       "    </tr>\n",
       "    <tr>\n",
       "      <th>5009886</th>\n",
       "      <td>F</td>\n",
       "      <td>N</td>\n",
       "      <td>Y</td>\n",
       "      <td>0</td>\n",
       "      <td>157500.0</td>\n",
       "      <td>Pensioner</td>\n",
       "      <td>Civil marriage</td>\n",
       "      <td>House / apartment</td>\n",
       "      <td>1</td>\n",
       "      <td>0</td>\n",
       "      <td>1</td>\n",
       "      <td>0</td>\n",
       "      <td>0</td>\n",
       "      <td>Not employed</td>\n",
       "      <td>Married</td>\n",
       "      <td>Independent</td>\n",
       "    </tr>\n",
       "    <tr>\n",
       "      <th>5062632</th>\n",
       "      <td>F</td>\n",
       "      <td>N</td>\n",
       "      <td>Y</td>\n",
       "      <td>0</td>\n",
       "      <td>585000.0</td>\n",
       "      <td>Commercial associate</td>\n",
       "      <td>Married</td>\n",
       "      <td>House / apartment</td>\n",
       "      <td>1</td>\n",
       "      <td>0</td>\n",
       "      <td>1</td>\n",
       "      <td>0</td>\n",
       "      <td>0</td>\n",
       "      <td>Employed</td>\n",
       "      <td>Married</td>\n",
       "      <td>Independent</td>\n",
       "    </tr>\n",
       "  </tbody>\n",
       "</table>\n",
       "<p>29160 rows × 16 columns</p>\n",
       "</div>"
      ],
      "text/plain": [
       "        Gender Has a car Has a property  Children count    Income  \\\n",
       "ID                                                                  \n",
       "5037048      M         Y              Y               0  135000.0   \n",
       "5044630      F         Y              N               1  135000.0   \n",
       "5079079      F         N              Y               2  180000.0   \n",
       "5112872      F         Y              Y               0  360000.0   \n",
       "5105858      F         N              N               0  270000.0   \n",
       "...        ...       ...            ...             ...       ...   \n",
       "5067139      F         N              Y               0  112500.0   \n",
       "5029193      F         N              Y               1  135000.0   \n",
       "5047710      F         N              Y               0   76500.0   \n",
       "5009886      F         N              Y               0  157500.0   \n",
       "5062632      F         N              Y               0  585000.0   \n",
       "\n",
       "            Employment status        Marital status           Dwelling  \\\n",
       "ID                                                                       \n",
       "5037048               Working               Married       With parents   \n",
       "5044630  Commercial associate  Single / not married  House / apartment   \n",
       "5079079  Commercial associate               Married  House / apartment   \n",
       "5112872  Commercial associate  Single / not married  House / apartment   \n",
       "5105858               Working             Separated  House / apartment   \n",
       "...                       ...                   ...                ...   \n",
       "5067139             Pensioner  Single / not married  House / apartment   \n",
       "5029193  Commercial associate               Married  House / apartment   \n",
       "5047710               Working               Married  House / apartment   \n",
       "5009886             Pensioner        Civil marriage  House / apartment   \n",
       "5062632  Commercial associate               Married  House / apartment   \n",
       "\n",
       "         Has a mobile phone  Has a work phone  Has a phone  Has an email  \\\n",
       "ID                                                                         \n",
       "5037048                   1                 0            0             0   \n",
       "5044630                   1                 0            0             0   \n",
       "5079079                   1                 0            0             0   \n",
       "5112872                   1                 0            0             1   \n",
       "5105858                   1                 0            1             0   \n",
       "...                     ...               ...          ...           ...   \n",
       "5067139                   1                 0            1             1   \n",
       "5029193                   1                 0            0             0   \n",
       "5047710                   1                 1            1             0   \n",
       "5009886                   1                 0            1             0   \n",
       "5062632                   1                 0            1             0   \n",
       "\n",
       "         Is high risk        Employ Social state Independency  \n",
       "ID                                                             \n",
       "5037048             0      Employed      Married    Dependent  \n",
       "5044630             0      Employed  Not Married  Independent  \n",
       "5079079             0      Employed      Married  Independent  \n",
       "5112872             0      Employed  Not Married  Independent  \n",
       "5105858             0      Employed  Not Married  Independent  \n",
       "...               ...           ...          ...          ...  \n",
       "5067139             0  Not employed  Not Married  Independent  \n",
       "5029193             0      Employed      Married  Independent  \n",
       "5047710             0      Employed      Married  Independent  \n",
       "5009886             0  Not employed      Married  Independent  \n",
       "5062632             0      Employed      Married  Independent  \n",
       "\n",
       "[29160 rows x 16 columns]"
      ]
     },
     "execution_count": 29,
     "metadata": {},
     "output_type": "execute_result"
    }
   ],
   "source": [
    "def Ind(x):\n",
    "    if x == 'House / apartment':\n",
    "        return 'Independent'\n",
    "    elif x in ['With parents', 'Municipal apartment', 'Rented apartment', 'Office apartment', 'Co-op apartment']:\n",
    "        return 'Dependent'\n",
    "    else:\n",
    "         return 'No match'\n",
    "        \n",
    "sel_tr['Independency'] = sel_tr['Dwelling'].apply(Ind)\n",
    "sel_tr       "
   ]
  },
  {
   "cell_type": "markdown",
   "metadata": {},
   "source": [
    "## Drop unneeded columns \n",
    "\n",
    "--> **'Employment status'** \n",
    "\n",
    "--> **'Marital status'**\n",
    "\n",
    "--> **'Dwelling'**"
   ]
  },
  {
   "cell_type": "code",
   "execution_count": 30,
   "metadata": {
    "execution": {
     "iopub.execute_input": "2024-02-12T17:06:43.646403Z",
     "iopub.status.busy": "2024-02-12T17:06:43.646148Z",
     "iopub.status.idle": "2024-02-12T17:06:43.671537Z",
     "shell.execute_reply": "2024-02-12T17:06:43.670680Z",
     "shell.execute_reply.started": "2024-02-12T17:06:43.646381Z"
    }
   },
   "outputs": [
    {
     "data": {
      "text/html": [
       "<div>\n",
       "<style scoped>\n",
       "    .dataframe tbody tr th:only-of-type {\n",
       "        vertical-align: middle;\n",
       "    }\n",
       "\n",
       "    .dataframe tbody tr th {\n",
       "        vertical-align: top;\n",
       "    }\n",
       "\n",
       "    .dataframe thead th {\n",
       "        text-align: right;\n",
       "    }\n",
       "</style>\n",
       "<table border=\"1\" class=\"dataframe\">\n",
       "  <thead>\n",
       "    <tr style=\"text-align: right;\">\n",
       "      <th></th>\n",
       "      <th>Gender</th>\n",
       "      <th>Has a car</th>\n",
       "      <th>Has a property</th>\n",
       "      <th>Children count</th>\n",
       "      <th>Income</th>\n",
       "      <th>Has a mobile phone</th>\n",
       "      <th>Has a work phone</th>\n",
       "      <th>Has a phone</th>\n",
       "      <th>Has an email</th>\n",
       "      <th>Is high risk</th>\n",
       "      <th>Employ</th>\n",
       "      <th>Social state</th>\n",
       "      <th>Independency</th>\n",
       "    </tr>\n",
       "    <tr>\n",
       "      <th>ID</th>\n",
       "      <th></th>\n",
       "      <th></th>\n",
       "      <th></th>\n",
       "      <th></th>\n",
       "      <th></th>\n",
       "      <th></th>\n",
       "      <th></th>\n",
       "      <th></th>\n",
       "      <th></th>\n",
       "      <th></th>\n",
       "      <th></th>\n",
       "      <th></th>\n",
       "      <th></th>\n",
       "    </tr>\n",
       "  </thead>\n",
       "  <tbody>\n",
       "    <tr>\n",
       "      <th>5037048</th>\n",
       "      <td>M</td>\n",
       "      <td>Y</td>\n",
       "      <td>Y</td>\n",
       "      <td>0</td>\n",
       "      <td>135000.0</td>\n",
       "      <td>1</td>\n",
       "      <td>0</td>\n",
       "      <td>0</td>\n",
       "      <td>0</td>\n",
       "      <td>0</td>\n",
       "      <td>Employed</td>\n",
       "      <td>Married</td>\n",
       "      <td>Dependent</td>\n",
       "    </tr>\n",
       "    <tr>\n",
       "      <th>5044630</th>\n",
       "      <td>F</td>\n",
       "      <td>Y</td>\n",
       "      <td>N</td>\n",
       "      <td>1</td>\n",
       "      <td>135000.0</td>\n",
       "      <td>1</td>\n",
       "      <td>0</td>\n",
       "      <td>0</td>\n",
       "      <td>0</td>\n",
       "      <td>0</td>\n",
       "      <td>Employed</td>\n",
       "      <td>Not Married</td>\n",
       "      <td>Independent</td>\n",
       "    </tr>\n",
       "    <tr>\n",
       "      <th>5079079</th>\n",
       "      <td>F</td>\n",
       "      <td>N</td>\n",
       "      <td>Y</td>\n",
       "      <td>2</td>\n",
       "      <td>180000.0</td>\n",
       "      <td>1</td>\n",
       "      <td>0</td>\n",
       "      <td>0</td>\n",
       "      <td>0</td>\n",
       "      <td>0</td>\n",
       "      <td>Employed</td>\n",
       "      <td>Married</td>\n",
       "      <td>Independent</td>\n",
       "    </tr>\n",
       "    <tr>\n",
       "      <th>5112872</th>\n",
       "      <td>F</td>\n",
       "      <td>Y</td>\n",
       "      <td>Y</td>\n",
       "      <td>0</td>\n",
       "      <td>360000.0</td>\n",
       "      <td>1</td>\n",
       "      <td>0</td>\n",
       "      <td>0</td>\n",
       "      <td>1</td>\n",
       "      <td>0</td>\n",
       "      <td>Employed</td>\n",
       "      <td>Not Married</td>\n",
       "      <td>Independent</td>\n",
       "    </tr>\n",
       "    <tr>\n",
       "      <th>5105858</th>\n",
       "      <td>F</td>\n",
       "      <td>N</td>\n",
       "      <td>N</td>\n",
       "      <td>0</td>\n",
       "      <td>270000.0</td>\n",
       "      <td>1</td>\n",
       "      <td>0</td>\n",
       "      <td>1</td>\n",
       "      <td>0</td>\n",
       "      <td>0</td>\n",
       "      <td>Employed</td>\n",
       "      <td>Not Married</td>\n",
       "      <td>Independent</td>\n",
       "    </tr>\n",
       "    <tr>\n",
       "      <th>...</th>\n",
       "      <td>...</td>\n",
       "      <td>...</td>\n",
       "      <td>...</td>\n",
       "      <td>...</td>\n",
       "      <td>...</td>\n",
       "      <td>...</td>\n",
       "      <td>...</td>\n",
       "      <td>...</td>\n",
       "      <td>...</td>\n",
       "      <td>...</td>\n",
       "      <td>...</td>\n",
       "      <td>...</td>\n",
       "      <td>...</td>\n",
       "    </tr>\n",
       "    <tr>\n",
       "      <th>5067139</th>\n",
       "      <td>F</td>\n",
       "      <td>N</td>\n",
       "      <td>Y</td>\n",
       "      <td>0</td>\n",
       "      <td>112500.0</td>\n",
       "      <td>1</td>\n",
       "      <td>0</td>\n",
       "      <td>1</td>\n",
       "      <td>1</td>\n",
       "      <td>0</td>\n",
       "      <td>Not employed</td>\n",
       "      <td>Not Married</td>\n",
       "      <td>Independent</td>\n",
       "    </tr>\n",
       "    <tr>\n",
       "      <th>5029193</th>\n",
       "      <td>F</td>\n",
       "      <td>N</td>\n",
       "      <td>Y</td>\n",
       "      <td>1</td>\n",
       "      <td>135000.0</td>\n",
       "      <td>1</td>\n",
       "      <td>0</td>\n",
       "      <td>0</td>\n",
       "      <td>0</td>\n",
       "      <td>0</td>\n",
       "      <td>Employed</td>\n",
       "      <td>Married</td>\n",
       "      <td>Independent</td>\n",
       "    </tr>\n",
       "    <tr>\n",
       "      <th>5047710</th>\n",
       "      <td>F</td>\n",
       "      <td>N</td>\n",
       "      <td>Y</td>\n",
       "      <td>0</td>\n",
       "      <td>76500.0</td>\n",
       "      <td>1</td>\n",
       "      <td>1</td>\n",
       "      <td>1</td>\n",
       "      <td>0</td>\n",
       "      <td>0</td>\n",
       "      <td>Employed</td>\n",
       "      <td>Married</td>\n",
       "      <td>Independent</td>\n",
       "    </tr>\n",
       "    <tr>\n",
       "      <th>5009886</th>\n",
       "      <td>F</td>\n",
       "      <td>N</td>\n",
       "      <td>Y</td>\n",
       "      <td>0</td>\n",
       "      <td>157500.0</td>\n",
       "      <td>1</td>\n",
       "      <td>0</td>\n",
       "      <td>1</td>\n",
       "      <td>0</td>\n",
       "      <td>0</td>\n",
       "      <td>Not employed</td>\n",
       "      <td>Married</td>\n",
       "      <td>Independent</td>\n",
       "    </tr>\n",
       "    <tr>\n",
       "      <th>5062632</th>\n",
       "      <td>F</td>\n",
       "      <td>N</td>\n",
       "      <td>Y</td>\n",
       "      <td>0</td>\n",
       "      <td>585000.0</td>\n",
       "      <td>1</td>\n",
       "      <td>0</td>\n",
       "      <td>1</td>\n",
       "      <td>0</td>\n",
       "      <td>0</td>\n",
       "      <td>Employed</td>\n",
       "      <td>Married</td>\n",
       "      <td>Independent</td>\n",
       "    </tr>\n",
       "  </tbody>\n",
       "</table>\n",
       "<p>29160 rows × 13 columns</p>\n",
       "</div>"
      ],
      "text/plain": [
       "        Gender Has a car Has a property  Children count    Income  \\\n",
       "ID                                                                  \n",
       "5037048      M         Y              Y               0  135000.0   \n",
       "5044630      F         Y              N               1  135000.0   \n",
       "5079079      F         N              Y               2  180000.0   \n",
       "5112872      F         Y              Y               0  360000.0   \n",
       "5105858      F         N              N               0  270000.0   \n",
       "...        ...       ...            ...             ...       ...   \n",
       "5067139      F         N              Y               0  112500.0   \n",
       "5029193      F         N              Y               1  135000.0   \n",
       "5047710      F         N              Y               0   76500.0   \n",
       "5009886      F         N              Y               0  157500.0   \n",
       "5062632      F         N              Y               0  585000.0   \n",
       "\n",
       "         Has a mobile phone  Has a work phone  Has a phone  Has an email  \\\n",
       "ID                                                                         \n",
       "5037048                   1                 0            0             0   \n",
       "5044630                   1                 0            0             0   \n",
       "5079079                   1                 0            0             0   \n",
       "5112872                   1                 0            0             1   \n",
       "5105858                   1                 0            1             0   \n",
       "...                     ...               ...          ...           ...   \n",
       "5067139                   1                 0            1             1   \n",
       "5029193                   1                 0            0             0   \n",
       "5047710                   1                 1            1             0   \n",
       "5009886                   1                 0            1             0   \n",
       "5062632                   1                 0            1             0   \n",
       "\n",
       "         Is high risk        Employ Social state Independency  \n",
       "ID                                                             \n",
       "5037048             0      Employed      Married    Dependent  \n",
       "5044630             0      Employed  Not Married  Independent  \n",
       "5079079             0      Employed      Married  Independent  \n",
       "5112872             0      Employed  Not Married  Independent  \n",
       "5105858             0      Employed  Not Married  Independent  \n",
       "...               ...           ...          ...          ...  \n",
       "5067139             0  Not employed  Not Married  Independent  \n",
       "5029193             0      Employed      Married  Independent  \n",
       "5047710             0      Employed      Married  Independent  \n",
       "5009886             0  Not employed      Married  Independent  \n",
       "5062632             0      Employed      Married  Independent  \n",
       "\n",
       "[29160 rows x 13 columns]"
      ]
     },
     "execution_count": 30,
     "metadata": {},
     "output_type": "execute_result"
    }
   ],
   "source": [
    "modified_tr = sel_tr.drop(['Employment status', 'Marital status', 'Dwelling'], axis = 1)\n",
    "modified_tr"
   ]
  },
  {
   "cell_type": "code",
   "execution_count": 31,
   "metadata": {
    "execution": {
     "iopub.execute_input": "2024-02-12T17:06:43.672786Z",
     "iopub.status.busy": "2024-02-12T17:06:43.672520Z",
     "iopub.status.idle": "2024-02-12T17:06:43.699513Z",
     "shell.execute_reply": "2024-02-12T17:06:43.698755Z",
     "shell.execute_reply.started": "2024-02-12T17:06:43.672763Z"
    }
   },
   "outputs": [
    {
     "name": "stdout",
     "output_type": "stream",
     "text": [
      "<class 'pandas.core.frame.DataFrame'>\n",
      "Index: 29160 entries, 5037048 to 5062632\n",
      "Data columns (total 13 columns):\n",
      " #   Column              Non-Null Count  Dtype  \n",
      "---  ------              --------------  -----  \n",
      " 0   Gender              29160 non-null  object \n",
      " 1   Has a car           29160 non-null  object \n",
      " 2   Has a property      29160 non-null  object \n",
      " 3   Children count      29160 non-null  int64  \n",
      " 4   Income              29160 non-null  float64\n",
      " 5   Has a mobile phone  29160 non-null  int64  \n",
      " 6   Has a work phone    29160 non-null  int64  \n",
      " 7   Has a phone         29160 non-null  int64  \n",
      " 8   Has an email        29160 non-null  int64  \n",
      " 9   Is high risk        29160 non-null  int64  \n",
      " 10  Employ              29160 non-null  object \n",
      " 11  Social state        29160 non-null  object \n",
      " 12  Independency        29160 non-null  object \n",
      "dtypes: float64(1), int64(6), object(6)\n",
      "memory usage: 3.1+ MB\n"
     ]
    }
   ],
   "source": [
    "modified_tr.info()"
   ]
  },
  {
   "cell_type": "code",
   "execution_count": 32,
   "metadata": {
    "execution": {
     "iopub.execute_input": "2024-02-12T17:06:43.700760Z",
     "iopub.status.busy": "2024-02-12T17:06:43.700501Z",
     "iopub.status.idle": "2024-02-12T17:06:45.881651Z",
     "shell.execute_reply": "2024-02-12T17:06:45.880714Z",
     "shell.execute_reply.started": "2024-02-12T17:06:43.700737Z"
    }
   },
   "outputs": [
    {
     "name": "stderr",
     "output_type": "stream",
     "text": [
      "C:\\Users\\Jay Thoriya\\AppData\\Local\\Temp\\ipykernel_6088\\1146075012.py:4: FutureWarning: \n",
      "\n",
      "Passing `palette` without assigning `hue` is deprecated and will be removed in v0.14.0. Assign the `x` variable to `hue` and set `legend=False` for the same effect.\n",
      "\n",
      "  sns.countplot( x = Vis[i], data = Vis, palette = 'hls')\n"
     ]
    },
    {
     "data": {
      "image/png": "[encoded data removed]",
      "text/plain": [
       "<Figure size 1000x400 with 1 Axes>"
      ]
     },
     "metadata": {},
     "output_type": "display_data"
    },
    {
     "name": "stderr",
     "output_type": "stream",
     "text": [
      "C:\\Users\\Jay Thoriya\\AppData\\Local\\Temp\\ipykernel_6088\\1146075012.py:4: FutureWarning: \n",
      "\n",
      "Passing `palette` without assigning `hue` is deprecated and will be removed in v0.14.0. Assign the `x` variable to `hue` and set `legend=False` for the same effect.\n",
      "\n",
      "  sns.countplot( x = Vis[i], data = Vis, palette = 'hls')\n"
     ]
    },
    {
     "data": {
      "image/png": "[encoded data removed]",
      "text/plain": [
       "<Figure size 1000x400 with 1 Axes>"
      ]
     },
     "metadata": {},
     "output_type": "display_data"
    },
    {
     "name": "stderr",
     "output_type": "stream",
     "text": [
      "C:\\Users\\Jay Thoriya\\AppData\\Local\\Temp\\ipykernel_6088\\1146075012.py:4: FutureWarning: \n",
      "\n",
      "Passing `palette` without assigning `hue` is deprecated and will be removed in v0.14.0. Assign the `x` variable to `hue` and set `legend=False` for the same effect.\n",
      "\n",
      "  sns.countplot( x = Vis[i], data = Vis, palette = 'hls')\n"
     ]
    },
    {
     "data": {
      "image/png": "[encoded data removed]",
      "text/plain": [
       "<Figure size 1000x400 with 1 Axes>"
      ]
     },
     "metadata": {},
     "output_type": "display_data"
    },
    {
     "name": "stderr",
     "output_type": "stream",
     "text": [
      "C:\\Users\\Jay Thoriya\\AppData\\Local\\Temp\\ipykernel_6088\\1146075012.py:4: FutureWarning: \n",
      "\n",
      "Passing `palette` without assigning `hue` is deprecated and will be removed in v0.14.0. Assign the `x` variable to `hue` and set `legend=False` for the same effect.\n",
      "\n",
      "  sns.countplot( x = Vis[i], data = Vis, palette = 'hls')\n"
     ]
    },
    {
     "data": {
      "image/png": "[encoded data removed]",
      "text/plain": [
       "<Figure size 1000x400 with 1 Axes>"
      ]
     },
     "metadata": {},
     "output_type": "display_data"
    },
    {
     "name": "stderr",
     "output_type": "stream",
     "text": [
      "C:\\Users\\Jay Thoriya\\AppData\\Local\\Temp\\ipykernel_6088\\1146075012.py:4: FutureWarning: \n",
      "\n",
      "Passing `palette` without assigning `hue` is deprecated and will be removed in v0.14.0. Assign the `x` variable to `hue` and set `legend=False` for the same effect.\n",
      "\n",
      "  sns.countplot( x = Vis[i], data = Vis, palette = 'hls')\n"
     ]
    },
    {
     "data": {
      "image/png": "[encoded data removed]",
      "text/plain": [
       "<Figure size 1000x400 with 1 Axes>"
      ]
     },
     "metadata": {},
     "output_type": "display_data"
    },
    {
     "name": "stderr",
     "output_type": "stream",
     "text": [
      "C:\\Users\\Jay Thoriya\\AppData\\Local\\Temp\\ipykernel_6088\\1146075012.py:4: FutureWarning: \n",
      "\n",
      "Passing `palette` without assigning `hue` is deprecated and will be removed in v0.14.0. Assign the `x` variable to `hue` and set `legend=False` for the same effect.\n",
      "\n",
      "  sns.countplot( x = Vis[i], data = Vis, palette = 'hls')\n"
     ]
    },
    {
     "data": {
      "image/png": "[encoded data removed]",
      "text/plain": [
       "<Figure size 1000x400 with 1 Axes>"
      ]
     },
     "metadata": {},
     "output_type": "display_data"
    },
    {
     "name": "stderr",
     "output_type": "stream",
     "text": [
      "C:\\Users\\Jay Thoriya\\AppData\\Local\\Temp\\ipykernel_6088\\1146075012.py:4: FutureWarning: \n",
      "\n",
      "Passing `palette` without assigning `hue` is deprecated and will be removed in v0.14.0. Assign the `x` variable to `hue` and set `legend=False` for the same effect.\n",
      "\n",
      "  sns.countplot( x = Vis[i], data = Vis, palette = 'hls')\n"
     ]
    },
    {
     "data": {
      "image/png": "[encoded data removed]",
      "text/plain": [
       "<Figure size 1000x400 with 1 Axes>"
      ]
     },
     "metadata": {},
     "output_type": "display_data"
    },
    {
     "name": "stderr",
     "output_type": "stream",
     "text": [
      "C:\\Users\\Jay Thoriya\\AppData\\Local\\Temp\\ipykernel_6088\\1146075012.py:4: FutureWarning: \n",
      "\n",
      "Passing `palette` without assigning `hue` is deprecated and will be removed in v0.14.0. Assign the `x` variable to `hue` and set `legend=False` for the same effect.\n",
      "\n",
      "  sns.countplot( x = Vis[i], data = Vis, palette = 'hls')\n"
     ]
    },
    {
     "data": {
      "image/png": "[encoded data removed]",
      "text/plain": [
       "<Figure size 1000x400 with 1 Axes>"
      ]
     },
     "metadata": {},
     "output_type": "display_data"
    },
    {
     "name": "stderr",
     "output_type": "stream",
     "text": [
      "C:\\Users\\Jay Thoriya\\AppData\\Local\\Temp\\ipykernel_6088\\1146075012.py:4: FutureWarning: \n",
      "\n",
      "Passing `palette` without assigning `hue` is deprecated and will be removed in v0.14.0. Assign the `x` variable to `hue` and set `legend=False` for the same effect.\n",
      "\n",
      "  sns.countplot( x = Vis[i], data = Vis, palette = 'hls')\n"
     ]
    },
    {
     "data": {
      "image/png": "[encoded data removed]",
      "text/plain": [
       "<Figure size 1000x400 with 1 Axes>"
      ]
     },
     "metadata": {},
     "output_type": "display_data"
    },
    {
     "name": "stderr",
     "output_type": "stream",
     "text": [
      "C:\\Users\\Jay Thoriya\\AppData\\Local\\Temp\\ipykernel_6088\\1146075012.py:4: FutureWarning: \n",
      "\n",
      "Passing `palette` without assigning `hue` is deprecated and will be removed in v0.14.0. Assign the `x` variable to `hue` and set `legend=False` for the same effect.\n",
      "\n",
      "  sns.countplot( x = Vis[i], data = Vis, palette = 'hls')\n"
     ]
    },
    {
     "data": {
      "image/png": "[encoded data removed]",
      "text/plain": [
       "<Figure size 1000x400 with 1 Axes>"
      ]
     },
     "metadata": {},
     "output_type": "display_data"
    },
    {
     "name": "stderr",
     "output_type": "stream",
     "text": [
      "C:\\Users\\Jay Thoriya\\AppData\\Local\\Temp\\ipykernel_6088\\1146075012.py:4: FutureWarning: \n",
      "\n",
      "Passing `palette` without assigning `hue` is deprecated and will be removed in v0.14.0. Assign the `x` variable to `hue` and set `legend=False` for the same effect.\n",
      "\n",
      "  sns.countplot( x = Vis[i], data = Vis, palette = 'hls')\n"
     ]
    },
    {
     "data": {
      "image/png": "[encoded data removed]",
      "text/plain": [
       "<Figure size 1000x400 with 1 Axes>"
      ]
     },
     "metadata": {},
     "output_type": "display_data"
    },
    {
     "name": "stderr",
     "output_type": "stream",
     "text": [
      "C:\\Users\\Jay Thoriya\\AppData\\Local\\Temp\\ipykernel_6088\\1146075012.py:4: FutureWarning: \n",
      "\n",
      "Passing `palette` without assigning `hue` is deprecated and will be removed in v0.14.0. Assign the `x` variable to `hue` and set `legend=False` for the same effect.\n",
      "\n",
      "  sns.countplot( x = Vis[i], data = Vis, palette = 'hls')\n"
     ]
    },
    {
     "data": {
      "image/png": "[encoded data removed]",
      "text/plain": [
       "<Figure size 1000x400 with 1 Axes>"
      ]
     },
     "metadata": {},
     "output_type": "display_data"
    }
   ],
   "source": [
    "Vis = modified_tr.drop('Income', axis = 1)\n",
    "for i in Vis.columns:\n",
    "    plt.figure(figsize=(10,4))\n",
    "    sns.countplot( x = Vis[i], data = Vis, palette = 'hls') \n",
    "    plt.xticks(rotation = 90)\n",
    "    plt.show()"
   ]
  },
  {
   "cell_type": "code",
   "execution_count": 33,
   "metadata": {
    "execution": {
     "iopub.execute_input": "2024-02-12T17:06:45.883200Z",
     "iopub.status.busy": "2024-02-12T17:06:45.882906Z",
     "iopub.status.idle": "2024-02-12T17:06:46.668241Z",
     "shell.execute_reply": "2024-02-12T17:06:46.667372Z",
     "shell.execute_reply.started": "2024-02-12T17:06:45.883175Z"
    }
   },
   "outputs": [
    {
     "name": "stderr",
     "output_type": "stream",
     "text": [
      "C:\\Users\\Jay Thoriya\\AppData\\Local\\Temp\\ipykernel_6088\\3007221402.py:2: UserWarning: \n",
      "\n",
      "`distplot` is a deprecated function and will be removed in seaborn v0.14.0.\n",
      "\n",
      "Please adapt your code to use either `displot` (a figure-level function with\n",
      "similar flexibility) or `histplot` (an axes-level function for histograms).\n",
      "\n",
      "For a guide to updating your code to use the new functions, please see\n",
      "https://gist.github.com/mwaskom/de44147ed2974457ad6372750bbe5751\n",
      "\n",
      "  sns.distplot(modified_tr['Income'], color=\"purple\").set_title('Income')\n"
     ]
    },
    {
     "data": {
      "text/plain": [
       "Text(0.5, 1.0, 'Income')"
      ]
     },
     "execution_count": 33,
     "metadata": {},
     "output_type": "execute_result"
    },
    {
     "data": {
      "image/png": "[encoded data removed]",
      "text/plain": [
       "<Figure size 1600x800 with 1 Axes>"
      ]
     },
     "metadata": {},
     "output_type": "display_data"
    }
   ],
   "source": [
    "plt.figure(figsize=(16, 8))\n",
    "sns.distplot(modified_tr['Income'], color=\"purple\").set_title('Income')"
   ]
  },
  {
   "cell_type": "markdown",
   "metadata": {
    "execution": {
     "iopub.execute_input": "2024-02-08T17:01:32.195745Z",
     "iopub.status.busy": "2024-02-08T17:01:32.195364Z",
     "iopub.status.idle": "2024-02-08T17:01:32.200232Z",
     "shell.execute_reply": "2024-02-08T17:01:32.199324Z",
     "shell.execute_reply.started": "2024-02-08T17:01:32.195715Z"
    }
   },
   "source": [
    "# Apply all preprocessing to test data\n",
    " "
   ]
  },
  {
   "cell_type": "code",
   "execution_count": 34,
   "metadata": {
    "execution": {
     "iopub.execute_input": "2024-02-12T17:06:46.669743Z",
     "iopub.status.busy": "2024-02-12T17:06:46.669451Z",
     "iopub.status.idle": "2024-02-12T17:06:46.711216Z",
     "shell.execute_reply": "2024-02-12T17:06:46.709798Z",
     "shell.execute_reply.started": "2024-02-12T17:06:46.669718Z"
    }
   },
   "outputs": [
    {
     "data": {
      "text/html": [
       "<div>\n",
       "<style scoped>\n",
       "    .dataframe tbody tr th:only-of-type {\n",
       "        vertical-align: middle;\n",
       "    }\n",
       "\n",
       "    .dataframe tbody tr th {\n",
       "        vertical-align: top;\n",
       "    }\n",
       "\n",
       "    .dataframe thead th {\n",
       "        text-align: right;\n",
       "    }\n",
       "</style>\n",
       "<table border=\"1\" class=\"dataframe\">\n",
       "  <thead>\n",
       "    <tr style=\"text-align: right;\">\n",
       "      <th></th>\n",
       "      <th>ID</th>\n",
       "      <th>Gender</th>\n",
       "      <th>Has a car</th>\n",
       "      <th>Has a property</th>\n",
       "      <th>Children count</th>\n",
       "      <th>Income</th>\n",
       "      <th>Employment status</th>\n",
       "      <th>Education level</th>\n",
       "      <th>Marital status</th>\n",
       "      <th>Dwelling</th>\n",
       "      <th>Age</th>\n",
       "      <th>Employment length</th>\n",
       "      <th>Has a mobile phone</th>\n",
       "      <th>Has a work phone</th>\n",
       "      <th>Has a phone</th>\n",
       "      <th>Has an email</th>\n",
       "      <th>Job title</th>\n",
       "      <th>Family member count</th>\n",
       "      <th>Account age</th>\n",
       "      <th>Is high risk</th>\n",
       "    </tr>\n",
       "  </thead>\n",
       "  <tbody>\n",
       "    <tr>\n",
       "      <th>0</th>\n",
       "      <td>5091261</td>\n",
       "      <td>F</td>\n",
       "      <td>N</td>\n",
       "      <td>Y</td>\n",
       "      <td>0</td>\n",
       "      <td>202500.0</td>\n",
       "      <td>State servant</td>\n",
       "      <td>Secondary / secondary special</td>\n",
       "      <td>Separated</td>\n",
       "      <td>House / apartment</td>\n",
       "      <td>-16834</td>\n",
       "      <td>-1692</td>\n",
       "      <td>1</td>\n",
       "      <td>0</td>\n",
       "      <td>0</td>\n",
       "      <td>0</td>\n",
       "      <td>Medicine staff</td>\n",
       "      <td>1.0</td>\n",
       "      <td>-6.0</td>\n",
       "      <td>0</td>\n",
       "    </tr>\n",
       "    <tr>\n",
       "      <th>1</th>\n",
       "      <td>5096963</td>\n",
       "      <td>M</td>\n",
       "      <td>Y</td>\n",
       "      <td>N</td>\n",
       "      <td>0</td>\n",
       "      <td>675000.0</td>\n",
       "      <td>Commercial associate</td>\n",
       "      <td>Higher education</td>\n",
       "      <td>Married</td>\n",
       "      <td>House / apartment</td>\n",
       "      <td>-18126</td>\n",
       "      <td>-948</td>\n",
       "      <td>1</td>\n",
       "      <td>0</td>\n",
       "      <td>1</td>\n",
       "      <td>0</td>\n",
       "      <td>Managers</td>\n",
       "      <td>2.0</td>\n",
       "      <td>-16.0</td>\n",
       "      <td>0</td>\n",
       "    </tr>\n",
       "    <tr>\n",
       "      <th>2</th>\n",
       "      <td>5087880</td>\n",
       "      <td>F</td>\n",
       "      <td>N</td>\n",
       "      <td>N</td>\n",
       "      <td>0</td>\n",
       "      <td>234000.0</td>\n",
       "      <td>State servant</td>\n",
       "      <td>Higher education</td>\n",
       "      <td>Civil marriage</td>\n",
       "      <td>House / apartment</td>\n",
       "      <td>-21967</td>\n",
       "      <td>-5215</td>\n",
       "      <td>1</td>\n",
       "      <td>0</td>\n",
       "      <td>0</td>\n",
       "      <td>1</td>\n",
       "      <td>Core staff</td>\n",
       "      <td>2.0</td>\n",
       "      <td>-52.0</td>\n",
       "      <td>0</td>\n",
       "    </tr>\n",
       "    <tr>\n",
       "      <th>3</th>\n",
       "      <td>5021949</td>\n",
       "      <td>F</td>\n",
       "      <td>Y</td>\n",
       "      <td>Y</td>\n",
       "      <td>0</td>\n",
       "      <td>445500.0</td>\n",
       "      <td>Commercial associate</td>\n",
       "      <td>Higher education</td>\n",
       "      <td>Married</td>\n",
       "      <td>House / apartment</td>\n",
       "      <td>-12477</td>\n",
       "      <td>-456</td>\n",
       "      <td>1</td>\n",
       "      <td>0</td>\n",
       "      <td>0</td>\n",
       "      <td>0</td>\n",
       "      <td>Managers</td>\n",
       "      <td>2.0</td>\n",
       "      <td>-54.0</td>\n",
       "      <td>0</td>\n",
       "    </tr>\n",
       "    <tr>\n",
       "      <th>4</th>\n",
       "      <td>5105705</td>\n",
       "      <td>F</td>\n",
       "      <td>Y</td>\n",
       "      <td>N</td>\n",
       "      <td>0</td>\n",
       "      <td>225000.0</td>\n",
       "      <td>Working</td>\n",
       "      <td>Secondary / secondary special</td>\n",
       "      <td>Married</td>\n",
       "      <td>Municipal apartment</td>\n",
       "      <td>-12155</td>\n",
       "      <td>-667</td>\n",
       "      <td>1</td>\n",
       "      <td>0</td>\n",
       "      <td>0</td>\n",
       "      <td>0</td>\n",
       "      <td>Laborers</td>\n",
       "      <td>2.0</td>\n",
       "      <td>-48.0</td>\n",
       "      <td>0</td>\n",
       "    </tr>\n",
       "  </tbody>\n",
       "</table>\n",
       "</div>"
      ],
      "text/plain": [
       "        ID Gender Has a car Has a property  Children count    Income  \\\n",
       "0  5091261      F         N              Y               0  202500.0   \n",
       "1  5096963      M         Y              N               0  675000.0   \n",
       "2  5087880      F         N              N               0  234000.0   \n",
       "3  5021949      F         Y              Y               0  445500.0   \n",
       "4  5105705      F         Y              N               0  225000.0   \n",
       "\n",
       "      Employment status                Education level  Marital status  \\\n",
       "0         State servant  Secondary / secondary special       Separated   \n",
       "1  Commercial associate               Higher education         Married   \n",
       "2         State servant               Higher education  Civil marriage   \n",
       "3  Commercial associate               Higher education         Married   \n",
       "4               Working  Secondary / secondary special         Married   \n",
       "\n",
       "              Dwelling    Age  Employment length  Has a mobile phone  \\\n",
       "0    House / apartment -16834              -1692                   1   \n",
       "1    House / apartment -18126               -948                   1   \n",
       "2    House / apartment -21967              -5215                   1   \n",
       "3    House / apartment -12477               -456                   1   \n",
       "4  Municipal apartment -12155               -667                   1   \n",
       "\n",
       "   Has a work phone  Has a phone  Has an email       Job title  \\\n",
       "0                 0            0             0  Medicine staff   \n",
       "1                 0            1             0        Managers   \n",
       "2                 0            0             1      Core staff   \n",
       "3                 0            0             0        Managers   \n",
       "4                 0            0             0        Laborers   \n",
       "\n",
       "   Family member count  Account age  Is high risk  \n",
       "0                  1.0         -6.0             0  \n",
       "1                  2.0        -16.0             0  \n",
       "2                  2.0        -52.0             0  \n",
       "3                  2.0        -54.0             0  \n",
       "4                  2.0        -48.0             0  "
      ]
     },
     "execution_count": 34,
     "metadata": {},
     "output_type": "execute_result"
    }
   ],
   "source": [
    "test = pd.read_csv('test_data.csv')\n",
    "test.head(5)"
   ]
  },
  {
   "cell_type": "code",
   "execution_count": 35,
   "metadata": {
    "execution": {
     "iopub.execute_input": "2024-02-12T17:06:46.712943Z",
     "iopub.status.busy": "2024-02-12T17:06:46.712542Z",
     "iopub.status.idle": "2024-02-12T17:06:46.719131Z",
     "shell.execute_reply": "2024-02-12T17:06:46.718263Z",
     "shell.execute_reply.started": "2024-02-12T17:06:46.712908Z"
    }
   },
   "outputs": [
    {
     "data": {
      "text/plain": [
       "(7292, 20)"
      ]
     },
     "execution_count": 35,
     "metadata": {},
     "output_type": "execute_result"
    }
   ],
   "source": [
    "test.shape"
   ]
  },
  {
   "cell_type": "code",
   "execution_count": 36,
   "metadata": {
    "execution": {
     "iopub.execute_input": "2024-02-12T17:06:46.720386Z",
     "iopub.status.busy": "2024-02-12T17:06:46.720132Z",
     "iopub.status.idle": "2024-02-12T17:06:46.756615Z",
     "shell.execute_reply": "2024-02-12T17:06:46.755745Z",
     "shell.execute_reply.started": "2024-02-12T17:06:46.720365Z"
    }
   },
   "outputs": [
    {
     "data": {
      "text/html": [
       "<div>\n",
       "<style scoped>\n",
       "    .dataframe tbody tr th:only-of-type {\n",
       "        vertical-align: middle;\n",
       "    }\n",
       "\n",
       "    .dataframe tbody tr th {\n",
       "        vertical-align: top;\n",
       "    }\n",
       "\n",
       "    .dataframe thead th {\n",
       "        text-align: right;\n",
       "    }\n",
       "</style>\n",
       "<table border=\"1\" class=\"dataframe\">\n",
       "  <thead>\n",
       "    <tr style=\"text-align: right;\">\n",
       "      <th></th>\n",
       "      <th>Gender</th>\n",
       "      <th>Has a car</th>\n",
       "      <th>Has a property</th>\n",
       "      <th>Children count</th>\n",
       "      <th>Income</th>\n",
       "      <th>Has a mobile phone</th>\n",
       "      <th>Has a work phone</th>\n",
       "      <th>Has a phone</th>\n",
       "      <th>Has an email</th>\n",
       "      <th>Is high risk</th>\n",
       "      <th>Employ</th>\n",
       "      <th>Social state</th>\n",
       "      <th>Independency</th>\n",
       "    </tr>\n",
       "    <tr>\n",
       "      <th>ID</th>\n",
       "      <th></th>\n",
       "      <th></th>\n",
       "      <th></th>\n",
       "      <th></th>\n",
       "      <th></th>\n",
       "      <th></th>\n",
       "      <th></th>\n",
       "      <th></th>\n",
       "      <th></th>\n",
       "      <th></th>\n",
       "      <th></th>\n",
       "      <th></th>\n",
       "      <th></th>\n",
       "    </tr>\n",
       "  </thead>\n",
       "  <tbody>\n",
       "    <tr>\n",
       "      <th>5091261</th>\n",
       "      <td>F</td>\n",
       "      <td>N</td>\n",
       "      <td>Y</td>\n",
       "      <td>0</td>\n",
       "      <td>202500.0</td>\n",
       "      <td>1</td>\n",
       "      <td>0</td>\n",
       "      <td>0</td>\n",
       "      <td>0</td>\n",
       "      <td>0</td>\n",
       "      <td>Employed</td>\n",
       "      <td>Not Married</td>\n",
       "      <td>Independent</td>\n",
       "    </tr>\n",
       "    <tr>\n",
       "      <th>5096963</th>\n",
       "      <td>M</td>\n",
       "      <td>Y</td>\n",
       "      <td>N</td>\n",
       "      <td>0</td>\n",
       "      <td>675000.0</td>\n",
       "      <td>1</td>\n",
       "      <td>0</td>\n",
       "      <td>1</td>\n",
       "      <td>0</td>\n",
       "      <td>0</td>\n",
       "      <td>Employed</td>\n",
       "      <td>Married</td>\n",
       "      <td>Independent</td>\n",
       "    </tr>\n",
       "    <tr>\n",
       "      <th>5087880</th>\n",
       "      <td>F</td>\n",
       "      <td>N</td>\n",
       "      <td>N</td>\n",
       "      <td>0</td>\n",
       "      <td>234000.0</td>\n",
       "      <td>1</td>\n",
       "      <td>0</td>\n",
       "      <td>0</td>\n",
       "      <td>1</td>\n",
       "      <td>0</td>\n",
       "      <td>Employed</td>\n",
       "      <td>Married</td>\n",
       "      <td>Independent</td>\n",
       "    </tr>\n",
       "    <tr>\n",
       "      <th>5021949</th>\n",
       "      <td>F</td>\n",
       "      <td>Y</td>\n",
       "      <td>Y</td>\n",
       "      <td>0</td>\n",
       "      <td>445500.0</td>\n",
       "      <td>1</td>\n",
       "      <td>0</td>\n",
       "      <td>0</td>\n",
       "      <td>0</td>\n",
       "      <td>0</td>\n",
       "      <td>Employed</td>\n",
       "      <td>Married</td>\n",
       "      <td>Independent</td>\n",
       "    </tr>\n",
       "    <tr>\n",
       "      <th>5105705</th>\n",
       "      <td>F</td>\n",
       "      <td>Y</td>\n",
       "      <td>N</td>\n",
       "      <td>0</td>\n",
       "      <td>225000.0</td>\n",
       "      <td>1</td>\n",
       "      <td>0</td>\n",
       "      <td>0</td>\n",
       "      <td>0</td>\n",
       "      <td>0</td>\n",
       "      <td>Employed</td>\n",
       "      <td>Married</td>\n",
       "      <td>Dependent</td>\n",
       "    </tr>\n",
       "    <tr>\n",
       "      <th>...</th>\n",
       "      <td>...</td>\n",
       "      <td>...</td>\n",
       "      <td>...</td>\n",
       "      <td>...</td>\n",
       "      <td>...</td>\n",
       "      <td>...</td>\n",
       "      <td>...</td>\n",
       "      <td>...</td>\n",
       "      <td>...</td>\n",
       "      <td>...</td>\n",
       "      <td>...</td>\n",
       "      <td>...</td>\n",
       "      <td>...</td>\n",
       "    </tr>\n",
       "    <tr>\n",
       "      <th>5115415</th>\n",
       "      <td>F</td>\n",
       "      <td>Y</td>\n",
       "      <td>Y</td>\n",
       "      <td>0</td>\n",
       "      <td>135000.0</td>\n",
       "      <td>1</td>\n",
       "      <td>0</td>\n",
       "      <td>0</td>\n",
       "      <td>0</td>\n",
       "      <td>0</td>\n",
       "      <td>Employed</td>\n",
       "      <td>Married</td>\n",
       "      <td>Independent</td>\n",
       "    </tr>\n",
       "    <tr>\n",
       "      <th>5068826</th>\n",
       "      <td>F</td>\n",
       "      <td>Y</td>\n",
       "      <td>Y</td>\n",
       "      <td>0</td>\n",
       "      <td>157500.0</td>\n",
       "      <td>1</td>\n",
       "      <td>0</td>\n",
       "      <td>0</td>\n",
       "      <td>1</td>\n",
       "      <td>0</td>\n",
       "      <td>Employed</td>\n",
       "      <td>Married</td>\n",
       "      <td>Independent</td>\n",
       "    </tr>\n",
       "    <tr>\n",
       "      <th>5026088</th>\n",
       "      <td>F</td>\n",
       "      <td>N</td>\n",
       "      <td>Y</td>\n",
       "      <td>0</td>\n",
       "      <td>67500.0</td>\n",
       "      <td>1</td>\n",
       "      <td>1</td>\n",
       "      <td>1</td>\n",
       "      <td>0</td>\n",
       "      <td>0</td>\n",
       "      <td>Employed</td>\n",
       "      <td>Not Married</td>\n",
       "      <td>Independent</td>\n",
       "    </tr>\n",
       "    <tr>\n",
       "      <th>5142701</th>\n",
       "      <td>F</td>\n",
       "      <td>Y</td>\n",
       "      <td>N</td>\n",
       "      <td>0</td>\n",
       "      <td>95850.0</td>\n",
       "      <td>1</td>\n",
       "      <td>1</td>\n",
       "      <td>0</td>\n",
       "      <td>0</td>\n",
       "      <td>0</td>\n",
       "      <td>Employed</td>\n",
       "      <td>Married</td>\n",
       "      <td>Independent</td>\n",
       "    </tr>\n",
       "    <tr>\n",
       "      <th>5022903</th>\n",
       "      <td>F</td>\n",
       "      <td>N</td>\n",
       "      <td>Y</td>\n",
       "      <td>1</td>\n",
       "      <td>135000.0</td>\n",
       "      <td>1</td>\n",
       "      <td>0</td>\n",
       "      <td>0</td>\n",
       "      <td>1</td>\n",
       "      <td>0</td>\n",
       "      <td>Employed</td>\n",
       "      <td>Married</td>\n",
       "      <td>Independent</td>\n",
       "    </tr>\n",
       "  </tbody>\n",
       "</table>\n",
       "<p>7291 rows × 13 columns</p>\n",
       "</div>"
      ],
      "text/plain": [
       "        Gender Has a car Has a property  Children count    Income  \\\n",
       "ID                                                                  \n",
       "5091261      F         N              Y               0  202500.0   \n",
       "5096963      M         Y              N               0  675000.0   \n",
       "5087880      F         N              N               0  234000.0   \n",
       "5021949      F         Y              Y               0  445500.0   \n",
       "5105705      F         Y              N               0  225000.0   \n",
       "...        ...       ...            ...             ...       ...   \n",
       "5115415      F         Y              Y               0  135000.0   \n",
       "5068826      F         Y              Y               0  157500.0   \n",
       "5026088      F         N              Y               0   67500.0   \n",
       "5142701      F         Y              N               0   95850.0   \n",
       "5022903      F         N              Y               1  135000.0   \n",
       "\n",
       "         Has a mobile phone  Has a work phone  Has a phone  Has an email  \\\n",
       "ID                                                                         \n",
       "5091261                   1                 0            0             0   \n",
       "5096963                   1                 0            1             0   \n",
       "5087880                   1                 0            0             1   \n",
       "5021949                   1                 0            0             0   \n",
       "5105705                   1                 0            0             0   \n",
       "...                     ...               ...          ...           ...   \n",
       "5115415                   1                 0            0             0   \n",
       "5068826                   1                 0            0             1   \n",
       "5026088                   1                 1            1             0   \n",
       "5142701                   1                 1            0             0   \n",
       "5022903                   1                 0            0             1   \n",
       "\n",
       "         Is high risk    Employ Social state Independency  \n",
       "ID                                                         \n",
       "5091261             0  Employed  Not Married  Independent  \n",
       "5096963             0  Employed      Married  Independent  \n",
       "5087880             0  Employed      Married  Independent  \n",
       "5021949             0  Employed      Married  Independent  \n",
       "5105705             0  Employed      Married    Dependent  \n",
       "...               ...       ...          ...          ...  \n",
       "5115415             0  Employed      Married  Independent  \n",
       "5068826             0  Employed      Married  Independent  \n",
       "5026088             0  Employed  Not Married  Independent  \n",
       "5142701             0  Employed      Married  Independent  \n",
       "5022903             0  Employed      Married  Independent  \n",
       "\n",
       "[7291 rows x 13 columns]"
      ]
     },
     "execution_count": 36,
     "metadata": {},
     "output_type": "execute_result"
    }
   ],
   "source": [
    "#test.info()\n",
    "#test.describe()\n",
    "#test.nunique(axis =0) #return number of unique values in each column \n",
    "\n",
    "\n",
    "# drop unnecessary cols, set \"ID\" as index\n",
    "select_ts = test.drop([\"Age\", \"Employment length\", \"Job title\", \"Family member count\", \"Account age\", \"Education level\"], axis = 1)\n",
    "sel_ts = select_ts.set_index(\"ID\")\n",
    "\n",
    "\n",
    "# Drop rows  where children count > 5\n",
    "i = sel_ts[sel_ts['Children count'] > 5].index\n",
    "#len(i) # check rows number which will be dropped\n",
    "sel_ts.drop(i, inplace = True)\n",
    "\n",
    "\n",
    "# --> \"Employmnet status\" into 2 categories ([0: Pensioner, Student; 1: Working, Commercial associate, State servant])\n",
    "sel_ts['Employ'] = sel_ts['Employment status'].apply(Employ)\n",
    "\n",
    "\n",
    "# --> Regroup \"Marital status\" into 2 categories (0:not married ; 1: married)\n",
    "sel_ts['Social state'] = sel_ts['Marital status'].apply(Social)\n",
    "\n",
    "\n",
    "# --> Regroup \"Dwelling\" into 2 categories (0: dependent (With parents, Municipal, Rented, Office, Co-op apartment); 1: independent (House / apartment))\n",
    "sel_ts['Independency'] = sel_ts['Dwelling'].apply(Ind)\n",
    "sel_ts\n",
    "\n",
    "# --> Drop unneeded columns : 'Employment status', 'Marital status', 'Dwelling\n",
    "modified_ts=  sel_ts.drop(['Employment status', 'Marital status', 'Dwelling'], axis = 1)\n",
    "modified_ts"
   ]
  },
  {
   "cell_type": "markdown",
   "metadata": {},
   "source": [
    "## Defin faetures X and Target y"
   ]
  },
  {
   "cell_type": "code",
   "execution_count": 37,
   "metadata": {
    "execution": {
     "iopub.execute_input": "2024-02-12T17:06:46.758427Z",
     "iopub.status.busy": "2024-02-12T17:06:46.757782Z",
     "iopub.status.idle": "2024-02-12T17:06:46.765918Z",
     "shell.execute_reply": "2024-02-12T17:06:46.765080Z",
     "shell.execute_reply.started": "2024-02-12T17:06:46.758393Z"
    }
   },
   "outputs": [],
   "source": [
    "# Defin faetures X and Target y in Train dataframe\n",
    "X = modified_tr.drop('Is high risk', axis = 1)\n",
    "y= modified_tr['Is high risk']"
   ]
  },
  {
   "cell_type": "code",
   "execution_count": 38,
   "metadata": {
    "execution": {
     "iopub.execute_input": "2024-02-12T17:06:46.767253Z",
     "iopub.status.busy": "2024-02-12T17:06:46.766944Z",
     "iopub.status.idle": "2024-02-12T17:06:46.773248Z",
     "shell.execute_reply": "2024-02-12T17:06:46.772395Z",
     "shell.execute_reply.started": "2024-02-12T17:06:46.767217Z"
    }
   },
   "outputs": [],
   "source": [
    "#X"
   ]
  },
  {
   "cell_type": "code",
   "execution_count": 39,
   "metadata": {
    "execution": {
     "iopub.execute_input": "2024-02-12T17:06:46.774548Z",
     "iopub.status.busy": "2024-02-12T17:06:46.774233Z",
     "iopub.status.idle": "2024-02-12T17:06:46.784766Z",
     "shell.execute_reply": "2024-02-12T17:06:46.784083Z",
     "shell.execute_reply.started": "2024-02-12T17:06:46.774517Z"
    }
   },
   "outputs": [],
   "source": [
    "#Defin faetures X and Target y in test dataframe\n",
    "X_test =modified_ts.drop('Is high risk', axis = 1)\n",
    "y_test = modified_ts['Is high risk']"
   ]
  },
  {
   "cell_type": "code",
   "execution_count": 40,
   "metadata": {
    "execution": {
     "iopub.execute_input": "2024-02-12T17:06:46.787481Z",
     "iopub.status.busy": "2024-02-12T17:06:46.785851Z",
     "iopub.status.idle": "2024-02-12T17:06:46.838920Z",
     "shell.execute_reply": "2024-02-12T17:06:46.838158Z",
     "shell.execute_reply.started": "2024-02-12T17:06:46.787458Z"
    }
   },
   "outputs": [],
   "source": [
    "encoder = LabelEncoder()\n",
    "\n",
    "X['Gender'] = encoder.fit_transform(X['Gender'])\n",
    "X['Has a car'] = encoder.fit_transform(X['Has a car'])\n",
    "X['Has a property'] = encoder.fit_transform(X['Has a property'])\n",
    "X['Employ'] = encoder.fit_transform(X['Employ'])\n",
    "X['Social state'] = encoder.fit_transform(X['Social state'])\n",
    "X['Independency'] = encoder.fit_transform(X['Independency'])\n"
   ]
  },
  {
   "cell_type": "code",
   "execution_count": 41,
   "metadata": {
    "execution": {
     "iopub.execute_input": "2024-02-12T17:06:46.840338Z",
     "iopub.status.busy": "2024-02-12T17:06:46.840007Z",
     "iopub.status.idle": "2024-02-12T17:06:46.857103Z",
     "shell.execute_reply": "2024-02-12T17:06:46.856266Z",
     "shell.execute_reply.started": "2024-02-12T17:06:46.840307Z"
    }
   },
   "outputs": [
    {
     "data": {
      "text/html": [
       "<div>\n",
       "<style scoped>\n",
       "    .dataframe tbody tr th:only-of-type {\n",
       "        vertical-align: middle;\n",
       "    }\n",
       "\n",
       "    .dataframe tbody tr th {\n",
       "        vertical-align: top;\n",
       "    }\n",
       "\n",
       "    .dataframe thead th {\n",
       "        text-align: right;\n",
       "    }\n",
       "</style>\n",
       "<table border=\"1\" class=\"dataframe\">\n",
       "  <thead>\n",
       "    <tr style=\"text-align: right;\">\n",
       "      <th></th>\n",
       "      <th>Gender</th>\n",
       "      <th>Has a car</th>\n",
       "      <th>Has a property</th>\n",
       "      <th>Children count</th>\n",
       "      <th>Income</th>\n",
       "      <th>Has a mobile phone</th>\n",
       "      <th>Has a work phone</th>\n",
       "      <th>Has a phone</th>\n",
       "      <th>Has an email</th>\n",
       "      <th>Employ</th>\n",
       "      <th>Social state</th>\n",
       "      <th>Independency</th>\n",
       "    </tr>\n",
       "    <tr>\n",
       "      <th>ID</th>\n",
       "      <th></th>\n",
       "      <th></th>\n",
       "      <th></th>\n",
       "      <th></th>\n",
       "      <th></th>\n",
       "      <th></th>\n",
       "      <th></th>\n",
       "      <th></th>\n",
       "      <th></th>\n",
       "      <th></th>\n",
       "      <th></th>\n",
       "      <th></th>\n",
       "    </tr>\n",
       "  </thead>\n",
       "  <tbody>\n",
       "    <tr>\n",
       "      <th>5037048</th>\n",
       "      <td>1</td>\n",
       "      <td>1</td>\n",
       "      <td>1</td>\n",
       "      <td>0</td>\n",
       "      <td>135000.0</td>\n",
       "      <td>1</td>\n",
       "      <td>0</td>\n",
       "      <td>0</td>\n",
       "      <td>0</td>\n",
       "      <td>0</td>\n",
       "      <td>0</td>\n",
       "      <td>0</td>\n",
       "    </tr>\n",
       "    <tr>\n",
       "      <th>5044630</th>\n",
       "      <td>0</td>\n",
       "      <td>1</td>\n",
       "      <td>0</td>\n",
       "      <td>1</td>\n",
       "      <td>135000.0</td>\n",
       "      <td>1</td>\n",
       "      <td>0</td>\n",
       "      <td>0</td>\n",
       "      <td>0</td>\n",
       "      <td>0</td>\n",
       "      <td>1</td>\n",
       "      <td>1</td>\n",
       "    </tr>\n",
       "    <tr>\n",
       "      <th>5079079</th>\n",
       "      <td>0</td>\n",
       "      <td>0</td>\n",
       "      <td>1</td>\n",
       "      <td>2</td>\n",
       "      <td>180000.0</td>\n",
       "      <td>1</td>\n",
       "      <td>0</td>\n",
       "      <td>0</td>\n",
       "      <td>0</td>\n",
       "      <td>0</td>\n",
       "      <td>0</td>\n",
       "      <td>1</td>\n",
       "    </tr>\n",
       "    <tr>\n",
       "      <th>5112872</th>\n",
       "      <td>0</td>\n",
       "      <td>1</td>\n",
       "      <td>1</td>\n",
       "      <td>0</td>\n",
       "      <td>360000.0</td>\n",
       "      <td>1</td>\n",
       "      <td>0</td>\n",
       "      <td>0</td>\n",
       "      <td>1</td>\n",
       "      <td>0</td>\n",
       "      <td>1</td>\n",
       "      <td>1</td>\n",
       "    </tr>\n",
       "    <tr>\n",
       "      <th>5105858</th>\n",
       "      <td>0</td>\n",
       "      <td>0</td>\n",
       "      <td>0</td>\n",
       "      <td>0</td>\n",
       "      <td>270000.0</td>\n",
       "      <td>1</td>\n",
       "      <td>0</td>\n",
       "      <td>1</td>\n",
       "      <td>0</td>\n",
       "      <td>0</td>\n",
       "      <td>1</td>\n",
       "      <td>1</td>\n",
       "    </tr>\n",
       "    <tr>\n",
       "      <th>...</th>\n",
       "      <td>...</td>\n",
       "      <td>...</td>\n",
       "      <td>...</td>\n",
       "      <td>...</td>\n",
       "      <td>...</td>\n",
       "      <td>...</td>\n",
       "      <td>...</td>\n",
       "      <td>...</td>\n",
       "      <td>...</td>\n",
       "      <td>...</td>\n",
       "      <td>...</td>\n",
       "      <td>...</td>\n",
       "    </tr>\n",
       "    <tr>\n",
       "      <th>5067139</th>\n",
       "      <td>0</td>\n",
       "      <td>0</td>\n",
       "      <td>1</td>\n",
       "      <td>0</td>\n",
       "      <td>112500.0</td>\n",
       "      <td>1</td>\n",
       "      <td>0</td>\n",
       "      <td>1</td>\n",
       "      <td>1</td>\n",
       "      <td>1</td>\n",
       "      <td>1</td>\n",
       "      <td>1</td>\n",
       "    </tr>\n",
       "    <tr>\n",
       "      <th>5029193</th>\n",
       "      <td>0</td>\n",
       "      <td>0</td>\n",
       "      <td>1</td>\n",
       "      <td>1</td>\n",
       "      <td>135000.0</td>\n",
       "      <td>1</td>\n",
       "      <td>0</td>\n",
       "      <td>0</td>\n",
       "      <td>0</td>\n",
       "      <td>0</td>\n",
       "      <td>0</td>\n",
       "      <td>1</td>\n",
       "    </tr>\n",
       "    <tr>\n",
       "      <th>5047710</th>\n",
       "      <td>0</td>\n",
       "      <td>0</td>\n",
       "      <td>1</td>\n",
       "      <td>0</td>\n",
       "      <td>76500.0</td>\n",
       "      <td>1</td>\n",
       "      <td>1</td>\n",
       "      <td>1</td>\n",
       "      <td>0</td>\n",
       "      <td>0</td>\n",
       "      <td>0</td>\n",
       "      <td>1</td>\n",
       "    </tr>\n",
       "    <tr>\n",
       "      <th>5009886</th>\n",
       "      <td>0</td>\n",
       "      <td>0</td>\n",
       "      <td>1</td>\n",
       "      <td>0</td>\n",
       "      <td>157500.0</td>\n",
       "      <td>1</td>\n",
       "      <td>0</td>\n",
       "      <td>1</td>\n",
       "      <td>0</td>\n",
       "      <td>1</td>\n",
       "      <td>0</td>\n",
       "      <td>1</td>\n",
       "    </tr>\n",
       "    <tr>\n",
       "      <th>5062632</th>\n",
       "      <td>0</td>\n",
       "      <td>0</td>\n",
       "      <td>1</td>\n",
       "      <td>0</td>\n",
       "      <td>585000.0</td>\n",
       "      <td>1</td>\n",
       "      <td>0</td>\n",
       "      <td>1</td>\n",
       "      <td>0</td>\n",
       "      <td>0</td>\n",
       "      <td>0</td>\n",
       "      <td>1</td>\n",
       "    </tr>\n",
       "  </tbody>\n",
       "</table>\n",
       "<p>29160 rows × 12 columns</p>\n",
       "</div>"
      ],
      "text/plain": [
       "         Gender  Has a car  Has a property  Children count    Income  \\\n",
       "ID                                                                     \n",
       "5037048       1          1               1               0  135000.0   \n",
       "5044630       0          1               0               1  135000.0   \n",
       "5079079       0          0               1               2  180000.0   \n",
       "5112872       0          1               1               0  360000.0   \n",
       "5105858       0          0               0               0  270000.0   \n",
       "...         ...        ...             ...             ...       ...   \n",
       "5067139       0          0               1               0  112500.0   \n",
       "5029193       0          0               1               1  135000.0   \n",
       "5047710       0          0               1               0   76500.0   \n",
       "5009886       0          0               1               0  157500.0   \n",
       "5062632       0          0               1               0  585000.0   \n",
       "\n",
       "         Has a mobile phone  Has a work phone  Has a phone  Has an email  \\\n",
       "ID                                                                         \n",
       "5037048                   1                 0            0             0   \n",
       "5044630                   1                 0            0             0   \n",
       "5079079                   1                 0            0             0   \n",
       "5112872                   1                 0            0             1   \n",
       "5105858                   1                 0            1             0   \n",
       "...                     ...               ...          ...           ...   \n",
       "5067139                   1                 0            1             1   \n",
       "5029193                   1                 0            0             0   \n",
       "5047710                   1                 1            1             0   \n",
       "5009886                   1                 0            1             0   \n",
       "5062632                   1                 0            1             0   \n",
       "\n",
       "         Employ  Social state  Independency  \n",
       "ID                                           \n",
       "5037048       0             0             0  \n",
       "5044630       0             1             1  \n",
       "5079079       0             0             1  \n",
       "5112872       0             1             1  \n",
       "5105858       0             1             1  \n",
       "...         ...           ...           ...  \n",
       "5067139       1             1             1  \n",
       "5029193       0             0             1  \n",
       "5047710       0             0             1  \n",
       "5009886       1             0             1  \n",
       "5062632       0             0             1  \n",
       "\n",
       "[29160 rows x 12 columns]"
      ]
     },
     "execution_count": 41,
     "metadata": {},
     "output_type": "execute_result"
    }
   ],
   "source": [
    "X"
   ]
  },
  {
   "cell_type": "code",
   "execution_count": 42,
   "metadata": {
    "execution": {
     "iopub.execute_input": "2024-02-12T17:06:46.858479Z",
     "iopub.status.busy": "2024-02-12T17:06:46.858196Z",
     "iopub.status.idle": "2024-02-12T17:06:46.879250Z",
     "shell.execute_reply": "2024-02-12T17:06:46.878449Z",
     "shell.execute_reply.started": "2024-02-12T17:06:46.858457Z"
    }
   },
   "outputs": [],
   "source": [
    "encoder = LabelEncoder()\n",
    "\n",
    "X_test['Gender'] = encoder.fit_transform(X_test['Gender'])\n",
    "X_test['Has a car'] = encoder.fit_transform(X_test['Has a car'])\n",
    "X_test['Has a property'] = encoder.fit_transform(X_test['Has a property'])\n",
    "X_test['Employ'] = encoder.fit_transform(X_test['Employ'])\n",
    "X_test['Social state'] = encoder.fit_transform(X_test['Social state'])\n",
    "X_test['Independency'] = encoder.fit_transform(X_test['Independency'])"
   ]
  },
  {
   "cell_type": "code",
   "execution_count": 43,
   "metadata": {
    "execution": {
     "iopub.execute_input": "2024-02-12T17:06:46.880355Z",
     "iopub.status.busy": "2024-02-12T17:06:46.880128Z",
     "iopub.status.idle": "2024-02-12T17:06:46.904257Z",
     "shell.execute_reply": "2024-02-12T17:06:46.903296Z",
     "shell.execute_reply.started": "2024-02-12T17:06:46.880336Z"
    }
   },
   "outputs": [
    {
     "data": {
      "text/html": [
       "<div>\n",
       "<style scoped>\n",
       "    .dataframe tbody tr th:only-of-type {\n",
       "        vertical-align: middle;\n",
       "    }\n",
       "\n",
       "    .dataframe tbody tr th {\n",
       "        vertical-align: top;\n",
       "    }\n",
       "\n",
       "    .dataframe thead th {\n",
       "        text-align: right;\n",
       "    }\n",
       "</style>\n",
       "<table border=\"1\" class=\"dataframe\">\n",
       "  <thead>\n",
       "    <tr style=\"text-align: right;\">\n",
       "      <th></th>\n",
       "      <th>Gender</th>\n",
       "      <th>Has a car</th>\n",
       "      <th>Has a property</th>\n",
       "      <th>Children count</th>\n",
       "      <th>Income</th>\n",
       "      <th>Has a mobile phone</th>\n",
       "      <th>Has a work phone</th>\n",
       "      <th>Has a phone</th>\n",
       "      <th>Has an email</th>\n",
       "      <th>Employ</th>\n",
       "      <th>Social state</th>\n",
       "      <th>Independency</th>\n",
       "    </tr>\n",
       "    <tr>\n",
       "      <th>ID</th>\n",
       "      <th></th>\n",
       "      <th></th>\n",
       "      <th></th>\n",
       "      <th></th>\n",
       "      <th></th>\n",
       "      <th></th>\n",
       "      <th></th>\n",
       "      <th></th>\n",
       "      <th></th>\n",
       "      <th></th>\n",
       "      <th></th>\n",
       "      <th></th>\n",
       "    </tr>\n",
       "  </thead>\n",
       "  <tbody>\n",
       "    <tr>\n",
       "      <th>5091261</th>\n",
       "      <td>0</td>\n",
       "      <td>0</td>\n",
       "      <td>1</td>\n",
       "      <td>0</td>\n",
       "      <td>202500.0</td>\n",
       "      <td>1</td>\n",
       "      <td>0</td>\n",
       "      <td>0</td>\n",
       "      <td>0</td>\n",
       "      <td>0</td>\n",
       "      <td>1</td>\n",
       "      <td>1</td>\n",
       "    </tr>\n",
       "    <tr>\n",
       "      <th>5096963</th>\n",
       "      <td>1</td>\n",
       "      <td>1</td>\n",
       "      <td>0</td>\n",
       "      <td>0</td>\n",
       "      <td>675000.0</td>\n",
       "      <td>1</td>\n",
       "      <td>0</td>\n",
       "      <td>1</td>\n",
       "      <td>0</td>\n",
       "      <td>0</td>\n",
       "      <td>0</td>\n",
       "      <td>1</td>\n",
       "    </tr>\n",
       "    <tr>\n",
       "      <th>5087880</th>\n",
       "      <td>0</td>\n",
       "      <td>0</td>\n",
       "      <td>0</td>\n",
       "      <td>0</td>\n",
       "      <td>234000.0</td>\n",
       "      <td>1</td>\n",
       "      <td>0</td>\n",
       "      <td>0</td>\n",
       "      <td>1</td>\n",
       "      <td>0</td>\n",
       "      <td>0</td>\n",
       "      <td>1</td>\n",
       "    </tr>\n",
       "    <tr>\n",
       "      <th>5021949</th>\n",
       "      <td>0</td>\n",
       "      <td>1</td>\n",
       "      <td>1</td>\n",
       "      <td>0</td>\n",
       "      <td>445500.0</td>\n",
       "      <td>1</td>\n",
       "      <td>0</td>\n",
       "      <td>0</td>\n",
       "      <td>0</td>\n",
       "      <td>0</td>\n",
       "      <td>0</td>\n",
       "      <td>1</td>\n",
       "    </tr>\n",
       "    <tr>\n",
       "      <th>5105705</th>\n",
       "      <td>0</td>\n",
       "      <td>1</td>\n",
       "      <td>0</td>\n",
       "      <td>0</td>\n",
       "      <td>225000.0</td>\n",
       "      <td>1</td>\n",
       "      <td>0</td>\n",
       "      <td>0</td>\n",
       "      <td>0</td>\n",
       "      <td>0</td>\n",
       "      <td>0</td>\n",
       "      <td>0</td>\n",
       "    </tr>\n",
       "    <tr>\n",
       "      <th>...</th>\n",
       "      <td>...</td>\n",
       "      <td>...</td>\n",
       "      <td>...</td>\n",
       "      <td>...</td>\n",
       "      <td>...</td>\n",
       "      <td>...</td>\n",
       "      <td>...</td>\n",
       "      <td>...</td>\n",
       "      <td>...</td>\n",
       "      <td>...</td>\n",
       "      <td>...</td>\n",
       "      <td>...</td>\n",
       "    </tr>\n",
       "    <tr>\n",
       "      <th>5115415</th>\n",
       "      <td>0</td>\n",
       "      <td>1</td>\n",
       "      <td>1</td>\n",
       "      <td>0</td>\n",
       "      <td>135000.0</td>\n",
       "      <td>1</td>\n",
       "      <td>0</td>\n",
       "      <td>0</td>\n",
       "      <td>0</td>\n",
       "      <td>0</td>\n",
       "      <td>0</td>\n",
       "      <td>1</td>\n",
       "    </tr>\n",
       "    <tr>\n",
       "      <th>5068826</th>\n",
       "      <td>0</td>\n",
       "      <td>1</td>\n",
       "      <td>1</td>\n",
       "      <td>0</td>\n",
       "      <td>157500.0</td>\n",
       "      <td>1</td>\n",
       "      <td>0</td>\n",
       "      <td>0</td>\n",
       "      <td>1</td>\n",
       "      <td>0</td>\n",
       "      <td>0</td>\n",
       "      <td>1</td>\n",
       "    </tr>\n",
       "    <tr>\n",
       "      <th>5026088</th>\n",
       "      <td>0</td>\n",
       "      <td>0</td>\n",
       "      <td>1</td>\n",
       "      <td>0</td>\n",
       "      <td>67500.0</td>\n",
       "      <td>1</td>\n",
       "      <td>1</td>\n",
       "      <td>1</td>\n",
       "      <td>0</td>\n",
       "      <td>0</td>\n",
       "      <td>1</td>\n",
       "      <td>1</td>\n",
       "    </tr>\n",
       "    <tr>\n",
       "      <th>5142701</th>\n",
       "      <td>0</td>\n",
       "      <td>1</td>\n",
       "      <td>0</td>\n",
       "      <td>0</td>\n",
       "      <td>95850.0</td>\n",
       "      <td>1</td>\n",
       "      <td>1</td>\n",
       "      <td>0</td>\n",
       "      <td>0</td>\n",
       "      <td>0</td>\n",
       "      <td>0</td>\n",
       "      <td>1</td>\n",
       "    </tr>\n",
       "    <tr>\n",
       "      <th>5022903</th>\n",
       "      <td>0</td>\n",
       "      <td>0</td>\n",
       "      <td>1</td>\n",
       "      <td>1</td>\n",
       "      <td>135000.0</td>\n",
       "      <td>1</td>\n",
       "      <td>0</td>\n",
       "      <td>0</td>\n",
       "      <td>1</td>\n",
       "      <td>0</td>\n",
       "      <td>0</td>\n",
       "      <td>1</td>\n",
       "    </tr>\n",
       "  </tbody>\n",
       "</table>\n",
       "<p>7291 rows × 12 columns</p>\n",
       "</div>"
      ],
      "text/plain": [
       "         Gender  Has a car  Has a property  Children count    Income  \\\n",
       "ID                                                                     \n",
       "5091261       0          0               1               0  202500.0   \n",
       "5096963       1          1               0               0  675000.0   \n",
       "5087880       0          0               0               0  234000.0   \n",
       "5021949       0          1               1               0  445500.0   \n",
       "5105705       0          1               0               0  225000.0   \n",
       "...         ...        ...             ...             ...       ...   \n",
       "5115415       0          1               1               0  135000.0   \n",
       "5068826       0          1               1               0  157500.0   \n",
       "5026088       0          0               1               0   67500.0   \n",
       "5142701       0          1               0               0   95850.0   \n",
       "5022903       0          0               1               1  135000.0   \n",
       "\n",
       "         Has a mobile phone  Has a work phone  Has a phone  Has an email  \\\n",
       "ID                                                                         \n",
       "5091261                   1                 0            0             0   \n",
       "5096963                   1                 0            1             0   \n",
       "5087880                   1                 0            0             1   \n",
       "5021949                   1                 0            0             0   \n",
       "5105705                   1                 0            0             0   \n",
       "...                     ...               ...          ...           ...   \n",
       "5115415                   1                 0            0             0   \n",
       "5068826                   1                 0            0             1   \n",
       "5026088                   1                 1            1             0   \n",
       "5142701                   1                 1            0             0   \n",
       "5022903                   1                 0            0             1   \n",
       "\n",
       "         Employ  Social state  Independency  \n",
       "ID                                           \n",
       "5091261       0             1             1  \n",
       "5096963       0             0             1  \n",
       "5087880       0             0             1  \n",
       "5021949       0             0             1  \n",
       "5105705       0             0             0  \n",
       "...         ...           ...           ...  \n",
       "5115415       0             0             1  \n",
       "5068826       0             0             1  \n",
       "5026088       0             1             1  \n",
       "5142701       0             0             1  \n",
       "5022903       0             0             1  \n",
       "\n",
       "[7291 rows x 12 columns]"
      ]
     },
     "execution_count": 43,
     "metadata": {},
     "output_type": "execute_result"
    }
   ],
   "source": [
    "X_test"
   ]
  },
  {
   "cell_type": "code",
   "execution_count": 44,
   "metadata": {
    "execution": {
     "iopub.execute_input": "2024-02-12T17:06:46.906084Z",
     "iopub.status.busy": "2024-02-12T17:06:46.905452Z",
     "iopub.status.idle": "2024-02-12T17:06:46.922119Z",
     "shell.execute_reply": "2024-02-12T17:06:46.921277Z",
     "shell.execute_reply.started": "2024-02-12T17:06:46.906050Z"
    }
   },
   "outputs": [],
   "source": [
    "scaler = MinMaxScaler()\n",
    "X = scaler.fit_transform(X)\n",
    "X_test = scaler.fit_transform(X_test)"
   ]
  },
  {
   "cell_type": "markdown",
   "metadata": {
    "execution": {
     "iopub.execute_input": "2024-02-12T09:13:56.576291Z",
     "iopub.status.busy": "2024-02-12T09:13:56.575937Z",
     "iopub.status.idle": "2024-02-12T09:13:56.583267Z",
     "shell.execute_reply": "2024-02-12T09:13:56.582393Z",
     "shell.execute_reply.started": "2024-02-12T09:13:56.576262Z"
    }
   },
   "source": [
    "# Machine Learning Models"
   ]
  },
  {
   "cell_type": "markdown",
   "metadata": {},
   "source": [
    "## 1- Decision Tree Calssifier"
   ]
  },
  {
   "cell_type": "code",
   "execution_count": 45,
   "metadata": {
    "execution": {
     "iopub.execute_input": "2024-02-12T17:06:46.925060Z",
     "iopub.status.busy": "2024-02-12T17:06:46.923194Z",
     "iopub.status.idle": "2024-02-12T17:06:46.978646Z",
     "shell.execute_reply": "2024-02-12T17:06:46.977798Z",
     "shell.execute_reply.started": "2024-02-12T17:06:46.925036Z"
    }
   },
   "outputs": [
    {
     "data": {
      "text/html": [
       "<style>#sk-container-id-1 {color: black;}#sk-container-id-1 pre{padding: 0;}#sk-container-id-1 div.sk-toggleable {background-color: white;}#sk-container-id-1 label.sk-toggleable__label {cursor: pointer;display: block;width: 100%;margin-bottom: 0;padding: 0.3em;box-sizing: border-box;text-align: center;}#sk-container-id-1 label.sk-toggleable__label-arrow:before {content: \"▸\";float: left;margin-right: 0.25em;color: #696969;}#sk-container-id-1 label.sk-toggleable__label-arrow:hover:before {color: black;}#sk-container-id-1 div.sk-estimator:hover label.sk-toggleable__label-arrow:before {color: black;}#sk-container-id-1 div.sk-toggleable__content {max-height: 0;max-width: 0;overflow: hidden;text-align: left;background-color: #f0f8ff;}#sk-container-id-1 div.sk-toggleable__content pre {margin: 0.2em;color: black;border-radius: 0.25em;background-color: #f0f8ff;}#sk-container-id-1 input.sk-toggleable__control:checked~div.sk-toggleable__content {max-height: 200px;max-width: 100%;overflow: auto;}#sk-container-id-1 input.sk-toggleable__control:checked~label.sk-toggleable__label-arrow:before {content: \"▾\";}#sk-container-id-1 div.sk-estimator input.sk-toggleable__control:checked~label.sk-toggleable__label {background-color: #d4ebff;}#sk-container-id-1 div.sk-label input.sk-toggleable__control:checked~label.sk-toggleable__label {background-color: #d4ebff;}#sk-container-id-1 input.sk-hidden--visually {border: 0;clip: rect(1px 1px 1px 1px);clip: rect(1px, 1px, 1px, 1px);height: 1px;margin: -1px;overflow: hidden;padding: 0;position: absolute;width: 1px;}#sk-container-id-1 div.sk-estimator {font-family: monospace;background-color: #f0f8ff;border: 1px dotted black;border-radius: 0.25em;box-sizing: border-box;margin-bottom: 0.5em;}#sk-container-id-1 div.sk-estimator:hover {background-color: #d4ebff;}#sk-container-id-1 div.sk-parallel-item::after {content: \"\";width: 100%;border-bottom: 1px solid gray;flex-grow: 1;}#sk-container-id-1 div.sk-label:hover label.sk-toggleable__label {background-color: #d4ebff;}#sk-container-id-1 div.sk-serial::before {content: \"\";position: absolute;border-left: 1px solid gray;box-sizing: border-box;top: 0;bottom: 0;left: 50%;z-index: 0;}#sk-container-id-1 div.sk-serial {display: flex;flex-direction: column;align-items: center;background-color: white;padding-right: 0.2em;padding-left: 0.2em;position: relative;}#sk-container-id-1 div.sk-item {position: relative;z-index: 1;}#sk-container-id-1 div.sk-parallel {display: flex;align-items: stretch;justify-content: center;background-color: white;position: relative;}#sk-container-id-1 div.sk-item::before, #sk-container-id-1 div.sk-parallel-item::before {content: \"\";position: absolute;border-left: 1px solid gray;box-sizing: border-box;top: 0;bottom: 0;left: 50%;z-index: -1;}#sk-container-id-1 div.sk-parallel-item {display: flex;flex-direction: column;z-index: 1;position: relative;background-color: white;}#sk-container-id-1 div.sk-parallel-item:first-child::after {align-self: flex-end;width: 50%;}#sk-container-id-1 div.sk-parallel-item:last-child::after {align-self: flex-start;width: 50%;}#sk-container-id-1 div.sk-parallel-item:only-child::after {width: 0;}#sk-container-id-1 div.sk-dashed-wrapped {border: 1px dashed gray;margin: 0 0.4em 0.5em 0.4em;box-sizing: border-box;padding-bottom: 0.4em;background-color: white;}#sk-container-id-1 div.sk-label label {font-family: monospace;font-weight: bold;display: inline-block;line-height: 1.2em;}#sk-container-id-1 div.sk-label-container {text-align: center;}#sk-container-id-1 div.sk-container {/* jupyter's `normalize.less` sets `[hidden] { display: none; }` but bootstrap.min.css set `[hidden] { display: none !important; }` so we also need the `!important` here to be able to override the default hidden behavior on the sphinx rendered scikit-learn.org. See: https://github.com/scikit-learn/scikit-learn/issues/21755 */display: inline-block !important;position: relative;}#sk-container-id-1 div.sk-text-repr-fallback {display: none;}</style><div id=\"sk-container-id-1\" class=\"sk-top-container\"><div class=\"sk-text-repr-fallback\"><pre>DecisionTreeClassifier()</pre><b>In a Jupyter environment, please rerun this cell to show the HTML representation or trust the notebook. <br />On GitHub, the HTML representation is unable to render, please try loading this page with nbviewer.org.</b></div><div class=\"sk-container\" hidden><div class=\"sk-item\"><div class=\"sk-estimator sk-toggleable\"><input class=\"sk-toggleable__control sk-hidden--visually\" id=\"sk-estimator-id-1\" type=\"checkbox\" checked><label for=\"sk-estimator-id-1\" class=\"sk-toggleable__label sk-toggleable__label-arrow\">DecisionTreeClassifier</label><div class=\"sk-toggleable__content\"><pre>DecisionTreeClassifier()</pre></div></div></div></div></div>"
      ],
      "text/plain": [
       "DecisionTreeClassifier()"
      ]
     },
     "execution_count": 45,
     "metadata": {},
     "output_type": "execute_result"
    }
   ],
   "source": [
    "dt_classifier = DecisionTreeClassifier()\n",
    "dt_classifier.fit(X, y)"
   ]
  },
  {
   "cell_type": "code",
   "execution_count": 46,
   "metadata": {
    "execution": {
     "iopub.execute_input": "2024-02-12T17:06:46.980165Z",
     "iopub.status.busy": "2024-02-12T17:06:46.979836Z",
     "iopub.status.idle": "2024-02-12T17:06:46.993877Z",
     "shell.execute_reply": "2024-02-12T17:06:46.993039Z",
     "shell.execute_reply.started": "2024-02-12T17:06:46.980134Z"
    }
   },
   "outputs": [
    {
     "data": {
      "text/plain": [
       "0.9856652949245542"
      ]
     },
     "execution_count": 46,
     "metadata": {},
     "output_type": "execute_result"
    }
   ],
   "source": [
    "dt_classifier.score(X, y)"
   ]
  },
  {
   "cell_type": "code",
   "execution_count": 47,
   "metadata": {
    "execution": {
     "iopub.execute_input": "2024-02-12T17:06:46.995615Z",
     "iopub.status.busy": "2024-02-12T17:06:46.995039Z",
     "iopub.status.idle": "2024-02-12T17:06:47.003226Z",
     "shell.execute_reply": "2024-02-12T17:06:47.002241Z",
     "shell.execute_reply.started": "2024-02-12T17:06:46.995583Z"
    }
   },
   "outputs": [
    {
     "name": "stdout",
     "output_type": "stream",
     "text": [
      "0.9818954875874366\n"
     ]
    }
   ],
   "source": [
    "y_pred = dt_classifier.predict(X_test)\n",
    "print(accuracy_score(y_test, y_pred))"
   ]
  },
  {
   "cell_type": "code",
   "execution_count": 48,
   "metadata": {
    "execution": {
     "iopub.execute_input": "2024-02-12T17:09:09.052029Z",
     "iopub.status.busy": "2024-02-12T17:09:09.051623Z",
     "iopub.status.idle": "2024-02-12T17:09:09.802452Z",
     "shell.execute_reply": "2024-02-12T17:09:09.801549Z",
     "shell.execute_reply.started": "2024-02-12T17:09:09.051998Z"
    }
   },
   "outputs": [
    {
     "name": "stdout",
     "output_type": "stream",
     "text": [
      "Feature: 0  Score: 0.0\n",
      "Feature: 1  Score: 0.0024622770919067614\n",
      "Feature: 2  Score: 0.0034019204389575063\n",
      "Feature: 3  Score: 0.0035528120713306244\n",
      "Feature: 4  Score: 0.004773662551440383\n",
      "Feature: 5  Score: 0.007455418381344381\n",
      "Feature: 6  Score: 0.007578875171467825\n",
      "Feature: 7  Score: 0.00848422496570651\n",
      "Feature: 8  Score: 0.008957475994513086\n",
      "Feature: 9  Score: 0.01139231824417013\n",
      "Feature: 10  Score: 0.011783264746227751\n",
      "Feature: 11  Score: 0.024327846364883454\n"
     ]
    },
    {
     "data": {
      "image/png": "[encoded data removed]",
      "text/plain": [
       "<Figure size 640x480 with 1 Axes>"
      ]
     },
     "metadata": {},
     "output_type": "display_data"
    }
   ],
   "source": [
    "from sklearn.inspection import permutation_importance\n",
    "from matplotlib import pyplot\n",
    "# perform permutation importance\n",
    "results = permutation_importance(dt_classifier, X, y, scoring='accuracy')\n",
    "# get importance\n",
    "importance = results.importances_mean\n",
    "importance=np.sort(importance)\n",
    "# summarize feature importance\n",
    "for i,v in enumerate(importance):\n",
    "    print('Feature: {}  Score: {}' .format(i,v))\n",
    "# plot feature importance\n",
    "pyplot.bar([x for x in range(len(importance))] ,importance)\n",
    "pyplot.show()"
   ]
  },
  {
   "cell_type": "markdown",
   "metadata": {},
   "source": [
    "## 2- Random Forest Classifier"
   ]
  },
  {
   "cell_type": "code",
   "execution_count": 49,
   "metadata": {
    "execution": {
     "iopub.execute_input": "2024-02-12T17:06:47.004865Z",
     "iopub.status.busy": "2024-02-12T17:06:47.004426Z",
     "iopub.status.idle": "2024-02-12T17:06:48.626556Z",
     "shell.execute_reply": "2024-02-12T17:06:48.625705Z",
     "shell.execute_reply.started": "2024-02-12T17:06:47.004829Z"
    }
   },
   "outputs": [
    {
     "data": {
      "text/html": [
       "<style>#sk-container-id-2 {color: black;}#sk-container-id-2 pre{padding: 0;}#sk-container-id-2 div.sk-toggleable {background-color: white;}#sk-container-id-2 label.sk-toggleable__label {cursor: pointer;display: block;width: 100%;margin-bottom: 0;padding: 0.3em;box-sizing: border-box;text-align: center;}#sk-container-id-2 label.sk-toggleable__label-arrow:before {content: \"▸\";float: left;margin-right: 0.25em;color: #696969;}#sk-container-id-2 label.sk-toggleable__label-arrow:hover:before {color: black;}#sk-container-id-2 div.sk-estimator:hover label.sk-toggleable__label-arrow:before {color: black;}#sk-container-id-2 div.sk-toggleable__content {max-height: 0;max-width: 0;overflow: hidden;text-align: left;background-color: #f0f8ff;}#sk-container-id-2 div.sk-toggleable__content pre {margin: 0.2em;color: black;border-radius: 0.25em;background-color: #f0f8ff;}#sk-container-id-2 input.sk-toggleable__control:checked~div.sk-toggleable__content {max-height: 200px;max-width: 100%;overflow: auto;}#sk-container-id-2 input.sk-toggleable__control:checked~label.sk-toggleable__label-arrow:before {content: \"▾\";}#sk-container-id-2 div.sk-estimator input.sk-toggleable__control:checked~label.sk-toggleable__label {background-color: #d4ebff;}#sk-container-id-2 div.sk-label input.sk-toggleable__control:checked~label.sk-toggleable__label {background-color: #d4ebff;}#sk-container-id-2 input.sk-hidden--visually {border: 0;clip: rect(1px 1px 1px 1px);clip: rect(1px, 1px, 1px, 1px);height: 1px;margin: -1px;overflow: hidden;padding: 0;position: absolute;width: 1px;}#sk-container-id-2 div.sk-estimator {font-family: monospace;background-color: #f0f8ff;border: 1px dotted black;border-radius: 0.25em;box-sizing: border-box;margin-bottom: 0.5em;}#sk-container-id-2 div.sk-estimator:hover {background-color: #d4ebff;}#sk-container-id-2 div.sk-parallel-item::after {content: \"\";width: 100%;border-bottom: 1px solid gray;flex-grow: 1;}#sk-container-id-2 div.sk-label:hover label.sk-toggleable__label {background-color: #d4ebff;}#sk-container-id-2 div.sk-serial::before {content: \"\";position: absolute;border-left: 1px solid gray;box-sizing: border-box;top: 0;bottom: 0;left: 50%;z-index: 0;}#sk-container-id-2 div.sk-serial {display: flex;flex-direction: column;align-items: center;background-color: white;padding-right: 0.2em;padding-left: 0.2em;position: relative;}#sk-container-id-2 div.sk-item {position: relative;z-index: 1;}#sk-container-id-2 div.sk-parallel {display: flex;align-items: stretch;justify-content: center;background-color: white;position: relative;}#sk-container-id-2 div.sk-item::before, #sk-container-id-2 div.sk-parallel-item::before {content: \"\";position: absolute;border-left: 1px solid gray;box-sizing: border-box;top: 0;bottom: 0;left: 50%;z-index: -1;}#sk-container-id-2 div.sk-parallel-item {display: flex;flex-direction: column;z-index: 1;position: relative;background-color: white;}#sk-container-id-2 div.sk-parallel-item:first-child::after {align-self: flex-end;width: 50%;}#sk-container-id-2 div.sk-parallel-item:last-child::after {align-self: flex-start;width: 50%;}#sk-container-id-2 div.sk-parallel-item:only-child::after {width: 0;}#sk-container-id-2 div.sk-dashed-wrapped {border: 1px dashed gray;margin: 0 0.4em 0.5em 0.4em;box-sizing: border-box;padding-bottom: 0.4em;background-color: white;}#sk-container-id-2 div.sk-label label {font-family: monospace;font-weight: bold;display: inline-block;line-height: 1.2em;}#sk-container-id-2 div.sk-label-container {text-align: center;}#sk-container-id-2 div.sk-container {/* jupyter's `normalize.less` sets `[hidden] { display: none; }` but bootstrap.min.css set `[hidden] { display: none !important; }` so we also need the `!important` here to be able to override the default hidden behavior on the sphinx rendered scikit-learn.org. See: https://github.com/scikit-learn/scikit-learn/issues/21755 */display: inline-block !important;position: relative;}#sk-container-id-2 div.sk-text-repr-fallback {display: none;}</style><div id=\"sk-container-id-2\" class=\"sk-top-container\"><div class=\"sk-text-repr-fallback\"><pre>RandomForestClassifier()</pre><b>In a Jupyter environment, please rerun this cell to show the HTML representation or trust the notebook. <br />On GitHub, the HTML representation is unable to render, please try loading this page with nbviewer.org.</b></div><div class=\"sk-container\" hidden><div class=\"sk-item\"><div class=\"sk-estimator sk-toggleable\"><input class=\"sk-toggleable__control sk-hidden--visually\" id=\"sk-estimator-id-2\" type=\"checkbox\" checked><label for=\"sk-estimator-id-2\" class=\"sk-toggleable__label sk-toggleable__label-arrow\">RandomForestClassifier</label><div class=\"sk-toggleable__content\"><pre>RandomForestClassifier()</pre></div></div></div></div></div>"
      ],
      "text/plain": [
       "RandomForestClassifier()"
      ]
     },
     "execution_count": 49,
     "metadata": {},
     "output_type": "execute_result"
    }
   ],
   "source": [
    "rf_classifier = RandomForestClassifier(n_estimators=100)\n",
    "rf_classifier.fit(X, y)"
   ]
  },
  {
   "cell_type": "code",
   "execution_count": 50,
   "metadata": {
    "execution": {
     "iopub.execute_input": "2024-02-12T17:06:48.627974Z",
     "iopub.status.busy": "2024-02-12T17:06:48.627634Z",
     "iopub.status.idle": "2024-02-12T17:06:48.990436Z",
     "shell.execute_reply": "2024-02-12T17:06:48.989587Z",
     "shell.execute_reply.started": "2024-02-12T17:06:48.627949Z"
    }
   },
   "outputs": [
    {
     "data": {
      "text/plain": [
       "0.9856652949245542"
      ]
     },
     "execution_count": 50,
     "metadata": {},
     "output_type": "execute_result"
    }
   ],
   "source": [
    "rf_classifier.score(X, y)"
   ]
  },
  {
   "cell_type": "code",
   "execution_count": 51,
   "metadata": {
    "execution": {
     "iopub.execute_input": "2024-02-12T17:06:48.992028Z",
     "iopub.status.busy": "2024-02-12T17:06:48.991647Z",
     "iopub.status.idle": "2024-02-12T17:06:49.099796Z",
     "shell.execute_reply": "2024-02-12T17:06:49.098887Z",
     "shell.execute_reply.started": "2024-02-12T17:06:48.991994Z"
    }
   },
   "outputs": [
    {
     "name": "stdout",
     "output_type": "stream",
     "text": [
      "0.9820326429845014\n"
     ]
    }
   ],
   "source": [
    "y_pred = rf_classifier.predict(X_test)\n",
    "print(accuracy_score(y_test, y_pred))"
   ]
  },
  {
   "cell_type": "code",
   "execution_count": 53,
   "metadata": {
    "execution": {
     "iopub.execute_input": "2024-02-12T17:06:49.101184Z",
     "iopub.status.busy": "2024-02-12T17:06:49.100906Z",
     "iopub.status.idle": "2024-02-12T17:07:11.493289Z",
     "shell.execute_reply": "2024-02-12T17:07:11.492373Z",
     "shell.execute_reply.started": "2024-02-12T17:06:49.101160Z"
    }
   },
   "outputs": [
    {
     "name": "stdout",
     "output_type": "stream",
     "text": [
      "Feature: 0  Score: 0.0\n",
      "Feature: 1  Score: 0.001385459533607758\n",
      "Feature: 2  Score: 0.0013991769547325506\n",
      "Feature: 3  Score: 0.0019204389574760672\n",
      "Feature: 4  Score: 0.0025514403292181465\n",
      "Feature: 5  Score: 0.0027709190672154495\n",
      "Feature: 6  Score: 0.0029629629629629893\n",
      "Feature: 7  Score: 0.003031550068587152\n",
      "Feature: 8  Score: 0.0032784636488340847\n",
      "Feature: 9  Score: 0.0036282578875172166\n",
      "Feature: 10  Score: 0.005500685871056299\n",
      "Feature: 11  Score: 0.006028806584362179\n"
     ]
    },
    {
     "data": {
      "image/png": "[encoded data removed]",
      "text/plain": [
       "<Figure size 640x480 with 1 Axes>"
      ]
     },
     "metadata": {},
     "output_type": "display_data"
    }
   ],
   "source": [
    "from sklearn.inspection import permutation_importance\n",
    "from matplotlib import pyplot\n",
    "# perform permutation importance\n",
    "results = permutation_importance(rf_classifier, X, y, scoring='accuracy')\n",
    "# get importance\n",
    "importance = results.importances_mean\n",
    "importance=np.sort(importance)\n",
    "# summarize feature importance\n",
    "for i,v in enumerate(importance):\n",
    "    print('Feature: {}  Score: {}' .format(i,v))\n",
    "# plot feature importance\n",
    "pyplot.bar([x for x in range(len(importance))] ,importance)\n",
    "pyplot.show()"
   ]
  },
  {
   "cell_type": "markdown",
   "metadata": {},
   "source": [
    "## 3- Bagging Classifier"
   ]
  },
  {
   "cell_type": "code",
   "execution_count": 54,
   "metadata": {
    "execution": {
     "iopub.execute_input": "2024-02-12T17:07:11.494961Z",
     "iopub.status.busy": "2024-02-12T17:07:11.494635Z",
     "iopub.status.idle": "2024-02-12T17:07:11.844285Z",
     "shell.execute_reply": "2024-02-12T17:07:11.843279Z",
     "shell.execute_reply.started": "2024-02-12T17:07:11.494934Z"
    }
   },
   "outputs": [
    {
     "name": "stderr",
     "output_type": "stream",
     "text": [
      "C:\\Users\\Jay Thoriya\\AppData\\Local\\Programs\\Python\\Python311\\Lib\\site-packages\\sklearn\\ensemble\\_base.py:156: FutureWarning: `base_estimator` was renamed to `estimator` in version 1.2 and will be removed in 1.4.\n",
      "  warnings.warn(\n"
     ]
    },
    {
     "data": {
      "text/html": [
       "<style>#sk-container-id-3 {color: black;}#sk-container-id-3 pre{padding: 0;}#sk-container-id-3 div.sk-toggleable {background-color: white;}#sk-container-id-3 label.sk-toggleable__label {cursor: pointer;display: block;width: 100%;margin-bottom: 0;padding: 0.3em;box-sizing: border-box;text-align: center;}#sk-container-id-3 label.sk-toggleable__label-arrow:before {content: \"▸\";float: left;margin-right: 0.25em;color: #696969;}#sk-container-id-3 label.sk-toggleable__label-arrow:hover:before {color: black;}#sk-container-id-3 div.sk-estimator:hover label.sk-toggleable__label-arrow:before {color: black;}#sk-container-id-3 div.sk-toggleable__content {max-height: 0;max-width: 0;overflow: hidden;text-align: left;background-color: #f0f8ff;}#sk-container-id-3 div.sk-toggleable__content pre {margin: 0.2em;color: black;border-radius: 0.25em;background-color: #f0f8ff;}#sk-container-id-3 input.sk-toggleable__control:checked~div.sk-toggleable__content {max-height: 200px;max-width: 100%;overflow: auto;}#sk-container-id-3 input.sk-toggleable__control:checked~label.sk-toggleable__label-arrow:before {content: \"▾\";}#sk-container-id-3 div.sk-estimator input.sk-toggleable__control:checked~label.sk-toggleable__label {background-color: #d4ebff;}#sk-container-id-3 div.sk-label input.sk-toggleable__control:checked~label.sk-toggleable__label {background-color: #d4ebff;}#sk-container-id-3 input.sk-hidden--visually {border: 0;clip: rect(1px 1px 1px 1px);clip: rect(1px, 1px, 1px, 1px);height: 1px;margin: -1px;overflow: hidden;padding: 0;position: absolute;width: 1px;}#sk-container-id-3 div.sk-estimator {font-family: monospace;background-color: #f0f8ff;border: 1px dotted black;border-radius: 0.25em;box-sizing: border-box;margin-bottom: 0.5em;}#sk-container-id-3 div.sk-estimator:hover {background-color: #d4ebff;}#sk-container-id-3 div.sk-parallel-item::after {content: \"\";width: 100%;border-bottom: 1px solid gray;flex-grow: 1;}#sk-container-id-3 div.sk-label:hover label.sk-toggleable__label {background-color: #d4ebff;}#sk-container-id-3 div.sk-serial::before {content: \"\";position: absolute;border-left: 1px solid gray;box-sizing: border-box;top: 0;bottom: 0;left: 50%;z-index: 0;}#sk-container-id-3 div.sk-serial {display: flex;flex-direction: column;align-items: center;background-color: white;padding-right: 0.2em;padding-left: 0.2em;position: relative;}#sk-container-id-3 div.sk-item {position: relative;z-index: 1;}#sk-container-id-3 div.sk-parallel {display: flex;align-items: stretch;justify-content: center;background-color: white;position: relative;}#sk-container-id-3 div.sk-item::before, #sk-container-id-3 div.sk-parallel-item::before {content: \"\";position: absolute;border-left: 1px solid gray;box-sizing: border-box;top: 0;bottom: 0;left: 50%;z-index: -1;}#sk-container-id-3 div.sk-parallel-item {display: flex;flex-direction: column;z-index: 1;position: relative;background-color: white;}#sk-container-id-3 div.sk-parallel-item:first-child::after {align-self: flex-end;width: 50%;}#sk-container-id-3 div.sk-parallel-item:last-child::after {align-self: flex-start;width: 50%;}#sk-container-id-3 div.sk-parallel-item:only-child::after {width: 0;}#sk-container-id-3 div.sk-dashed-wrapped {border: 1px dashed gray;margin: 0 0.4em 0.5em 0.4em;box-sizing: border-box;padding-bottom: 0.4em;background-color: white;}#sk-container-id-3 div.sk-label label {font-family: monospace;font-weight: bold;display: inline-block;line-height: 1.2em;}#sk-container-id-3 div.sk-label-container {text-align: center;}#sk-container-id-3 div.sk-container {/* jupyter's `normalize.less` sets `[hidden] { display: none; }` but bootstrap.min.css set `[hidden] { display: none !important; }` so we also need the `!important` here to be able to override the default hidden behavior on the sphinx rendered scikit-learn.org. See: https://github.com/scikit-learn/scikit-learn/issues/21755 */display: inline-block !important;position: relative;}#sk-container-id-3 div.sk-text-repr-fallback {display: none;}</style><div id=\"sk-container-id-3\" class=\"sk-top-container\"><div class=\"sk-text-repr-fallback\"><pre>BaggingClassifier(base_estimator=DecisionTreeClassifier())</pre><b>In a Jupyter environment, please rerun this cell to show the HTML representation or trust the notebook. <br />On GitHub, the HTML representation is unable to render, please try loading this page with nbviewer.org.</b></div><div class=\"sk-container\" hidden><div class=\"sk-item sk-dashed-wrapped\"><div class=\"sk-label-container\"><div class=\"sk-label sk-toggleable\"><input class=\"sk-toggleable__control sk-hidden--visually\" id=\"sk-estimator-id-3\" type=\"checkbox\" ><label for=\"sk-estimator-id-3\" class=\"sk-toggleable__label sk-toggleable__label-arrow\">BaggingClassifier</label><div class=\"sk-toggleable__content\"><pre>BaggingClassifier(base_estimator=DecisionTreeClassifier())</pre></div></div></div><div class=\"sk-parallel\"><div class=\"sk-parallel-item\"><div class=\"sk-item\"><div class=\"sk-label-container\"><div class=\"sk-label sk-toggleable\"><input class=\"sk-toggleable__control sk-hidden--visually\" id=\"sk-estimator-id-4\" type=\"checkbox\" ><label for=\"sk-estimator-id-4\" class=\"sk-toggleable__label sk-toggleable__label-arrow\">base_estimator: DecisionTreeClassifier</label><div class=\"sk-toggleable__content\"><pre>DecisionTreeClassifier()</pre></div></div></div><div class=\"sk-serial\"><div class=\"sk-item\"><div class=\"sk-estimator sk-toggleable\"><input class=\"sk-toggleable__control sk-hidden--visually\" id=\"sk-estimator-id-5\" type=\"checkbox\" ><label for=\"sk-estimator-id-5\" class=\"sk-toggleable__label sk-toggleable__label-arrow\">DecisionTreeClassifier</label><div class=\"sk-toggleable__content\"><pre>DecisionTreeClassifier()</pre></div></div></div></div></div></div></div></div></div></div>"
      ],
      "text/plain": [
       "BaggingClassifier(base_estimator=DecisionTreeClassifier())"
      ]
     },
     "execution_count": 54,
     "metadata": {},
     "output_type": "execute_result"
    }
   ],
   "source": [
    "bg_Classifier = BaggingClassifier(base_estimator=DecisionTreeClassifier())\n",
    "bg_Classifier.fit(X, y)"
   ]
  },
  {
   "cell_type": "code",
   "execution_count": 55,
   "metadata": {
    "execution": {
     "iopub.execute_input": "2024-02-12T17:07:11.845788Z",
     "iopub.status.busy": "2024-02-12T17:07:11.845491Z",
     "iopub.status.idle": "2024-02-12T17:07:11.910360Z",
     "shell.execute_reply": "2024-02-12T17:07:11.909311Z",
     "shell.execute_reply.started": "2024-02-12T17:07:11.845762Z"
    }
   },
   "outputs": [
    {
     "data": {
      "text/plain": [
       "0.9852537722908093"
      ]
     },
     "execution_count": 55,
     "metadata": {},
     "output_type": "execute_result"
    }
   ],
   "source": [
    "bg_Classifier.score(X, y)"
   ]
  },
  {
   "cell_type": "code",
   "execution_count": 56,
   "metadata": {
    "execution": {
     "iopub.execute_input": "2024-02-12T17:07:11.911895Z",
     "iopub.status.busy": "2024-02-12T17:07:11.911555Z",
     "iopub.status.idle": "2024-02-12T17:07:11.935890Z",
     "shell.execute_reply": "2024-02-12T17:07:11.934721Z",
     "shell.execute_reply.started": "2024-02-12T17:07:11.911865Z"
    }
   },
   "outputs": [
    {
     "name": "stdout",
     "output_type": "stream",
     "text": [
      "0.982581264572761\n"
     ]
    }
   ],
   "source": [
    "y_pred = bg_Classifier.predict(X_test)\n",
    "print(accuracy_score(y_pred, y_test))"
   ]
  },
  {
   "cell_type": "code",
   "execution_count": 57,
   "metadata": {
    "execution": {
     "iopub.execute_input": "2024-02-12T17:10:12.602019Z",
     "iopub.status.busy": "2024-02-12T17:10:12.601214Z",
     "iopub.status.idle": "2024-02-12T17:10:16.269629Z",
     "shell.execute_reply": "2024-02-12T17:10:16.268673Z",
     "shell.execute_reply.started": "2024-02-12T17:10:12.601989Z"
    }
   },
   "outputs": [
    {
     "name": "stdout",
     "output_type": "stream",
     "text": [
      "Feature: 0  Score: 0.0\n",
      "Feature: 1  Score: 0.0011385459533608034\n",
      "Feature: 2  Score: 0.0016255144032921941\n",
      "Feature: 3  Score: 0.002016460905349815\n",
      "Feature: 4  Score: 0.0020370370370370594\n",
      "Feature: 5  Score: 0.003504801097393728\n",
      "Feature: 6  Score: 0.0038134430727023495\n",
      "Feature: 7  Score: 0.003834019204389594\n",
      "Feature: 8  Score: 0.004204389574759948\n",
      "Feature: 9  Score: 0.0057818930041152235\n",
      "Feature: 10  Score: 0.006495198902606347\n",
      "Feature: 11  Score: 0.006707818930041176\n"
     ]
    },
    {
     "data": {
      "image/png": "[encoded data removed]",
      "text/plain": [
       "<Figure size 640x480 with 1 Axes>"
      ]
     },
     "metadata": {},
     "output_type": "display_data"
    }
   ],
   "source": [
    "from sklearn.inspection import permutation_importance\n",
    "from matplotlib import pyplot\n",
    "# perform permutation importance\n",
    "results = permutation_importance(bg_Classifier, X, y, scoring='accuracy')\n",
    "# get importance\n",
    "importance = results.importances_mean\n",
    "importance=np.sort(importance)\n",
    "# summarize feature importance\n",
    "for i,v in enumerate(importance):\n",
    "    print('Feature: {}  Score: {}' .format(i,v))\n",
    "# plot feature importance\n",
    "pyplot.bar([x for x in range(len(importance))] ,importance)\n",
    "pyplot.show()"
   ]
  },
  {
   "cell_type": "markdown",
   "metadata": {},
   "source": [
    "## 4- Categorical Boosting Classifier"
   ]
  },
  {
   "cell_type": "code",
   "execution_count": 58,
   "metadata": {
    "execution": {
     "iopub.execute_input": "2024-02-12T17:07:11.937781Z",
     "iopub.status.busy": "2024-02-12T17:07:11.937367Z",
     "iopub.status.idle": "2024-02-12T17:07:12.290148Z",
     "shell.execute_reply": "2024-02-12T17:07:12.289174Z",
     "shell.execute_reply.started": "2024-02-12T17:07:11.937745Z"
    },
    "jupyter": {
     "outputs_hidden": true
    }
   },
   "outputs": [
    {
     "name": "stdout",
     "output_type": "stream",
     "text": [
      "Learning rate set to 0.359251\n",
      "0:\tlearn: 0.4192197\ttotal: 154ms\tremaining: 15.2s\n",
      "1:\tlearn: 0.2851173\ttotal: 158ms\tremaining: 7.76s\n",
      "2:\tlearn: 0.2076646\ttotal: 163ms\tremaining: 5.27s\n",
      "3:\tlearn: 0.1603617\ttotal: 167ms\tremaining: 4s\n",
      "4:\tlearn: 0.1310832\ttotal: 171ms\tremaining: 3.25s\n",
      "5:\tlearn: 0.1126800\ttotal: 174ms\tremaining: 2.72s\n",
      "6:\tlearn: 0.1013318\ttotal: 183ms\tremaining: 2.43s\n",
      "7:\tlearn: 0.0945137\ttotal: 192ms\tremaining: 2.21s\n",
      "8:\tlearn: 0.0905692\ttotal: 200ms\tremaining: 2.02s\n",
      "9:\tlearn: 0.0883598\ttotal: 206ms\tremaining: 1.85s\n",
      "10:\tlearn: 0.0871165\ttotal: 209ms\tremaining: 1.69s\n",
      "11:\tlearn: 0.0863317\ttotal: 214ms\tremaining: 1.57s\n",
      "12:\tlearn: 0.0858954\ttotal: 216ms\tremaining: 1.45s\n",
      "13:\tlearn: 0.0852220\ttotal: 220ms\tremaining: 1.35s\n",
      "14:\tlearn: 0.0847135\ttotal: 224ms\tremaining: 1.27s\n",
      "15:\tlearn: 0.0845532\ttotal: 229ms\tremaining: 1.2s\n",
      "16:\tlearn: 0.0842287\ttotal: 233ms\tremaining: 1.14s\n",
      "17:\tlearn: 0.0838845\ttotal: 237ms\tremaining: 1.08s\n",
      "18:\tlearn: 0.0836278\ttotal: 241ms\tremaining: 1.03s\n",
      "19:\tlearn: 0.0834641\ttotal: 246ms\tremaining: 983ms\n",
      "20:\tlearn: 0.0833086\ttotal: 250ms\tremaining: 941ms\n",
      "21:\tlearn: 0.0827871\ttotal: 254ms\tremaining: 901ms\n",
      "22:\tlearn: 0.0825960\ttotal: 259ms\tremaining: 866ms\n",
      "23:\tlearn: 0.0825048\ttotal: 262ms\tremaining: 829ms\n",
      "24:\tlearn: 0.0824146\ttotal: 266ms\tremaining: 799ms\n",
      "25:\tlearn: 0.0821930\ttotal: 270ms\tremaining: 769ms\n",
      "26:\tlearn: 0.0819812\ttotal: 275ms\tremaining: 744ms\n",
      "27:\tlearn: 0.0818640\ttotal: 279ms\tremaining: 717ms\n",
      "28:\tlearn: 0.0817316\ttotal: 283ms\tremaining: 692ms\n",
      "29:\tlearn: 0.0816986\ttotal: 286ms\tremaining: 668ms\n",
      "30:\tlearn: 0.0814732\ttotal: 290ms\tremaining: 646ms\n",
      "31:\tlearn: 0.0813701\ttotal: 294ms\tremaining: 625ms\n",
      "32:\tlearn: 0.0813384\ttotal: 298ms\tremaining: 605ms\n",
      "33:\tlearn: 0.0812942\ttotal: 302ms\tremaining: 586ms\n",
      "34:\tlearn: 0.0809375\ttotal: 307ms\tremaining: 571ms\n",
      "35:\tlearn: 0.0809276\ttotal: 312ms\tremaining: 555ms\n",
      "36:\tlearn: 0.0808340\ttotal: 316ms\tremaining: 538ms\n",
      "37:\tlearn: 0.0804251\ttotal: 320ms\tremaining: 522ms\n",
      "38:\tlearn: 0.0803250\ttotal: 324ms\tremaining: 507ms\n",
      "39:\tlearn: 0.0800956\ttotal: 329ms\tremaining: 493ms\n",
      "40:\tlearn: 0.0798552\ttotal: 333ms\tremaining: 479ms\n",
      "41:\tlearn: 0.0797854\ttotal: 337ms\tremaining: 466ms\n",
      "42:\tlearn: 0.0796566\ttotal: 342ms\tremaining: 454ms\n",
      "43:\tlearn: 0.0795506\ttotal: 347ms\tremaining: 442ms\n",
      "44:\tlearn: 0.0794788\ttotal: 351ms\tremaining: 429ms\n",
      "45:\tlearn: 0.0793539\ttotal: 356ms\tremaining: 417ms\n",
      "46:\tlearn: 0.0790431\ttotal: 359ms\tremaining: 405ms\n",
      "47:\tlearn: 0.0789596\ttotal: 363ms\tremaining: 393ms\n",
      "48:\tlearn: 0.0788397\ttotal: 367ms\tremaining: 382ms\n",
      "49:\tlearn: 0.0788192\ttotal: 372ms\tremaining: 372ms\n",
      "50:\tlearn: 0.0787388\ttotal: 376ms\tremaining: 361ms\n",
      "51:\tlearn: 0.0786882\ttotal: 380ms\tremaining: 351ms\n",
      "52:\tlearn: 0.0785608\ttotal: 385ms\tremaining: 341ms\n",
      "53:\tlearn: 0.0785108\ttotal: 389ms\tremaining: 331ms\n",
      "54:\tlearn: 0.0784835\ttotal: 393ms\tremaining: 322ms\n",
      "55:\tlearn: 0.0783422\ttotal: 397ms\tremaining: 312ms\n",
      "56:\tlearn: 0.0782178\ttotal: 401ms\tremaining: 303ms\n",
      "57:\tlearn: 0.0781964\ttotal: 406ms\tremaining: 294ms\n",
      "58:\tlearn: 0.0779186\ttotal: 410ms\tremaining: 285ms\n",
      "59:\tlearn: 0.0778252\ttotal: 414ms\tremaining: 276ms\n",
      "60:\tlearn: 0.0777372\ttotal: 418ms\tremaining: 267ms\n",
      "61:\tlearn: 0.0777001\ttotal: 423ms\tremaining: 259ms\n",
      "62:\tlearn: 0.0775798\ttotal: 427ms\tremaining: 251ms\n",
      "63:\tlearn: 0.0775708\ttotal: 443ms\tremaining: 249ms\n",
      "64:\tlearn: 0.0775297\ttotal: 461ms\tremaining: 248ms\n",
      "65:\tlearn: 0.0774552\ttotal: 472ms\tremaining: 243ms\n",
      "66:\tlearn: 0.0774421\ttotal: 479ms\tremaining: 236ms\n",
      "67:\tlearn: 0.0774303\ttotal: 487ms\tremaining: 229ms\n",
      "68:\tlearn: 0.0772375\ttotal: 492ms\tremaining: 221ms\n",
      "69:\tlearn: 0.0772118\ttotal: 497ms\tremaining: 213ms\n",
      "70:\tlearn: 0.0772020\ttotal: 502ms\tremaining: 205ms\n",
      "71:\tlearn: 0.0771384\ttotal: 507ms\tremaining: 197ms\n",
      "72:\tlearn: 0.0770376\ttotal: 512ms\tremaining: 189ms\n",
      "73:\tlearn: 0.0768239\ttotal: 517ms\tremaining: 182ms\n",
      "74:\tlearn: 0.0767945\ttotal: 521ms\tremaining: 174ms\n",
      "75:\tlearn: 0.0767677\ttotal: 526ms\tremaining: 166ms\n",
      "76:\tlearn: 0.0766467\ttotal: 531ms\tremaining: 158ms\n",
      "77:\tlearn: 0.0765234\ttotal: 535ms\tremaining: 151ms\n",
      "78:\tlearn: 0.0764603\ttotal: 539ms\tremaining: 143ms\n",
      "79:\tlearn: 0.0763411\ttotal: 543ms\tremaining: 136ms\n",
      "80:\tlearn: 0.0762464\ttotal: 547ms\tremaining: 128ms\n",
      "81:\tlearn: 0.0762153\ttotal: 551ms\tremaining: 121ms\n",
      "82:\tlearn: 0.0761609\ttotal: 568ms\tremaining: 116ms\n",
      "83:\tlearn: 0.0761135\ttotal: 584ms\tremaining: 111ms\n",
      "84:\tlearn: 0.0760786\ttotal: 595ms\tremaining: 105ms\n",
      "85:\tlearn: 0.0759784\ttotal: 603ms\tremaining: 98.1ms\n",
      "86:\tlearn: 0.0759085\ttotal: 609ms\tremaining: 90.9ms\n",
      "87:\tlearn: 0.0756846\ttotal: 615ms\tremaining: 83.8ms\n",
      "88:\tlearn: 0.0756358\ttotal: 620ms\tremaining: 76.7ms\n",
      "89:\tlearn: 0.0755739\ttotal: 625ms\tremaining: 69.4ms\n",
      "90:\tlearn: 0.0754852\ttotal: 629ms\tremaining: 62.2ms\n",
      "91:\tlearn: 0.0753377\ttotal: 633ms\tremaining: 55ms\n",
      "92:\tlearn: 0.0753269\ttotal: 638ms\tremaining: 48ms\n",
      "93:\tlearn: 0.0752925\ttotal: 642ms\tremaining: 41ms\n",
      "94:\tlearn: 0.0751850\ttotal: 645ms\tremaining: 34ms\n",
      "95:\tlearn: 0.0751732\ttotal: 650ms\tremaining: 27.1ms\n",
      "96:\tlearn: 0.0751667\ttotal: 654ms\tremaining: 20.2ms\n",
      "97:\tlearn: 0.0751483\ttotal: 658ms\tremaining: 13.4ms\n",
      "98:\tlearn: 0.0750279\ttotal: 663ms\tremaining: 6.69ms\n",
      "99:\tlearn: 0.0749498\ttotal: 667ms\tremaining: 0us\n"
     ]
    },
    {
     "data": {
      "text/plain": [
       "<catboost.core.CatBoostClassifier at 0x24a47e2f010>"
      ]
     },
     "execution_count": 58,
     "metadata": {},
     "output_type": "execute_result"
    }
   ],
   "source": [
    "catboost_classifier = CatBoostClassifier(iterations=100)\n",
    "catboost_classifier.fit(X, y)"
   ]
  },
  {
   "cell_type": "code",
   "execution_count": 59,
   "metadata": {
    "execution": {
     "iopub.execute_input": "2024-02-12T17:07:12.291525Z",
     "iopub.status.busy": "2024-02-12T17:07:12.291252Z",
     "iopub.status.idle": "2024-02-12T17:07:12.311639Z",
     "shell.execute_reply": "2024-02-12T17:07:12.310875Z",
     "shell.execute_reply.started": "2024-02-12T17:07:12.291486Z"
    }
   },
   "outputs": [
    {
     "data": {
      "text/plain": [
       "0.9830246913580247"
      ]
     },
     "execution_count": 59,
     "metadata": {},
     "output_type": "execute_result"
    }
   ],
   "source": [
    "catboost_classifier.score(X, y)"
   ]
  },
  {
   "cell_type": "code",
   "execution_count": 60,
   "metadata": {
    "execution": {
     "iopub.execute_input": "2024-02-12T17:07:12.312771Z",
     "iopub.status.busy": "2024-02-12T17:07:12.312540Z",
     "iopub.status.idle": "2024-02-12T17:07:12.322838Z",
     "shell.execute_reply": "2024-02-12T17:07:12.321730Z",
     "shell.execute_reply.started": "2024-02-12T17:07:12.312751Z"
    }
   },
   "outputs": [
    {
     "name": "stdout",
     "output_type": "stream",
     "text": [
      "0.9839528185434097\n"
     ]
    }
   ],
   "source": [
    "y_pred = catboost_classifier.predict(X_test)\n",
    "print(accuracy_score(y_test, y_pred))"
   ]
  },
  {
   "cell_type": "code",
   "execution_count": 61,
   "metadata": {
    "execution": {
     "iopub.execute_input": "2024-02-12T17:10:55.101908Z",
     "iopub.status.busy": "2024-02-12T17:10:55.101434Z",
     "iopub.status.idle": "2024-02-12T17:11:06.204942Z",
     "shell.execute_reply": "2024-02-12T17:11:06.204014Z",
     "shell.execute_reply.started": "2024-02-12T17:10:55.101875Z"
    }
   },
   "outputs": [
    {
     "name": "stdout",
     "output_type": "stream",
     "text": [
      "Feature: 0  Score: 0.0\n",
      "Feature: 1  Score: 6.858710562429593e-06\n",
      "Feature: 2  Score: 1.3717421124859186e-05\n",
      "Feature: 3  Score: 2.057613168728878e-05\n",
      "Feature: 4  Score: 2.7434842249673964e-05\n",
      "Feature: 5  Score: 3.429355281210355e-05\n",
      "Feature: 6  Score: 0.00010973936899865145\n",
      "Feature: 7  Score: 0.00011659807956108104\n",
      "Feature: 8  Score: 0.00013031550068594023\n",
      "Feature: 9  Score: 0.00015775034293556977\n",
      "Feature: 10  Score: 0.00018518518518522152\n",
      "Feature: 11  Score: 0.0007338820301783455\n"
     ]
    },
    {
     "data": {
      "image/png": "[encoded data removed]",
      "text/plain": [
       "<Figure size 640x480 with 1 Axes>"
      ]
     },
     "metadata": {},
     "output_type": "display_data"
    }
   ],
   "source": [
    "from sklearn.inspection import permutation_importance\n",
    "from matplotlib import pyplot\n",
    "# perform permutation importance\n",
    "results = permutation_importance(catboost_classifier, X, y, scoring='accuracy')\n",
    "# get importance\n",
    "importance = results.importances_mean\n",
    "importance=np.sort(importance)\n",
    "# summarize feature importance\n",
    "for i,v in enumerate(importance):\n",
    "    print('Feature: {}  Score: {}' .format(i,v))\n",
    "# plot feature importance\n",
    "pyplot.bar([x for x in range(len(importance))] ,importance)\n",
    "pyplot.show()"
   ]
  },
  {
   "cell_type": "markdown",
   "metadata": {},
   "source": [
    "# Auto Machine Learning Model"
   ]
  },
  {
   "cell_type": "markdown",
   "metadata": {},
   "source": [
    "## Voting Classifier"
   ]
  },
  {
   "cell_type": "code",
   "execution_count": 62,
   "metadata": {
    "_kg_hide-output": true,
    "execution": {
     "iopub.execute_input": "2024-02-12T17:12:08.120473Z",
     "iopub.status.busy": "2024-02-12T17:12:08.120087Z",
     "iopub.status.idle": "2024-02-12T17:12:10.549256Z",
     "shell.execute_reply": "2024-02-12T17:12:10.548374Z",
     "shell.execute_reply.started": "2024-02-12T17:12:08.120441Z"
    },
    "jupyter": {
     "outputs_hidden": true
    }
   },
   "outputs": [
    {
     "name": "stderr",
     "output_type": "stream",
     "text": [
      "C:\\Users\\Jay Thoriya\\AppData\\Local\\Programs\\Python\\Python311\\Lib\\site-packages\\sklearn\\ensemble\\_base.py:156: FutureWarning: `base_estimator` was renamed to `estimator` in version 1.2 and will be removed in 1.4.\n",
      "  warnings.warn(\n"
     ]
    },
    {
     "name": "stdout",
     "output_type": "stream",
     "text": [
      "Learning rate set to 0.359251\n",
      "0:\tlearn: 0.4192197\ttotal: 4.22ms\tremaining: 418ms\n",
      "1:\tlearn: 0.2851173\ttotal: 8.45ms\tremaining: 414ms\n",
      "2:\tlearn: 0.2076646\ttotal: 12.6ms\tremaining: 406ms\n",
      "3:\tlearn: 0.1603617\ttotal: 16ms\tremaining: 385ms\n",
      "4:\tlearn: 0.1310832\ttotal: 19.8ms\tremaining: 376ms\n",
      "5:\tlearn: 0.1126800\ttotal: 22.8ms\tremaining: 358ms\n",
      "6:\tlearn: 0.1013318\ttotal: 25ms\tremaining: 332ms\n",
      "7:\tlearn: 0.0945137\ttotal: 28ms\tremaining: 322ms\n",
      "8:\tlearn: 0.0905692\ttotal: 32.1ms\tremaining: 324ms\n",
      "9:\tlearn: 0.0883598\ttotal: 36.3ms\tremaining: 327ms\n",
      "10:\tlearn: 0.0871165\ttotal: 39.3ms\tremaining: 318ms\n",
      "11:\tlearn: 0.0863317\ttotal: 43ms\tremaining: 315ms\n",
      "12:\tlearn: 0.0858954\ttotal: 45.4ms\tremaining: 304ms\n",
      "13:\tlearn: 0.0852220\ttotal: 49.1ms\tremaining: 302ms\n",
      "14:\tlearn: 0.0847135\ttotal: 53.3ms\tremaining: 302ms\n",
      "15:\tlearn: 0.0845532\ttotal: 57.5ms\tremaining: 302ms\n",
      "16:\tlearn: 0.0842287\ttotal: 61.6ms\tremaining: 301ms\n",
      "17:\tlearn: 0.0838845\ttotal: 65.3ms\tremaining: 298ms\n",
      "18:\tlearn: 0.0836278\ttotal: 69.1ms\tremaining: 295ms\n",
      "19:\tlearn: 0.0834641\ttotal: 72.9ms\tremaining: 292ms\n",
      "20:\tlearn: 0.0833086\ttotal: 77.1ms\tremaining: 290ms\n",
      "21:\tlearn: 0.0827871\ttotal: 81.3ms\tremaining: 288ms\n",
      "22:\tlearn: 0.0825960\ttotal: 85.4ms\tremaining: 286ms\n",
      "23:\tlearn: 0.0825048\ttotal: 88.4ms\tremaining: 280ms\n",
      "24:\tlearn: 0.0824146\ttotal: 92.5ms\tremaining: 277ms\n",
      "25:\tlearn: 0.0821930\ttotal: 96.2ms\tremaining: 274ms\n",
      "26:\tlearn: 0.0819812\ttotal: 101ms\tremaining: 272ms\n",
      "27:\tlearn: 0.0818640\ttotal: 105ms\tremaining: 269ms\n",
      "28:\tlearn: 0.0817316\ttotal: 108ms\tremaining: 266ms\n",
      "29:\tlearn: 0.0816986\ttotal: 113ms\tremaining: 263ms\n",
      "30:\tlearn: 0.0814732\ttotal: 117ms\tremaining: 259ms\n",
      "31:\tlearn: 0.0813701\ttotal: 120ms\tremaining: 256ms\n",
      "32:\tlearn: 0.0813384\ttotal: 124ms\tremaining: 252ms\n",
      "33:\tlearn: 0.0812942\ttotal: 128ms\tremaining: 249ms\n",
      "34:\tlearn: 0.0809375\ttotal: 133ms\tremaining: 246ms\n",
      "35:\tlearn: 0.0809276\ttotal: 137ms\tremaining: 243ms\n",
      "36:\tlearn: 0.0808340\ttotal: 140ms\tremaining: 239ms\n",
      "37:\tlearn: 0.0804251\ttotal: 144ms\tremaining: 235ms\n",
      "38:\tlearn: 0.0803250\ttotal: 148ms\tremaining: 231ms\n",
      "39:\tlearn: 0.0800956\ttotal: 152ms\tremaining: 227ms\n",
      "40:\tlearn: 0.0798552\ttotal: 168ms\tremaining: 242ms\n",
      "41:\tlearn: 0.0797854\ttotal: 182ms\tremaining: 252ms\n",
      "42:\tlearn: 0.0796566\ttotal: 192ms\tremaining: 254ms\n",
      "43:\tlearn: 0.0795506\ttotal: 199ms\tremaining: 253ms\n",
      "44:\tlearn: 0.0794788\ttotal: 204ms\tremaining: 250ms\n",
      "45:\tlearn: 0.0793539\ttotal: 210ms\tremaining: 246ms\n",
      "46:\tlearn: 0.0790431\ttotal: 214ms\tremaining: 242ms\n",
      "47:\tlearn: 0.0789596\ttotal: 219ms\tremaining: 237ms\n",
      "48:\tlearn: 0.0788397\ttotal: 223ms\tremaining: 232ms\n",
      "49:\tlearn: 0.0788192\ttotal: 227ms\tremaining: 227ms\n",
      "50:\tlearn: 0.0787388\ttotal: 231ms\tremaining: 222ms\n",
      "51:\tlearn: 0.0786882\ttotal: 234ms\tremaining: 216ms\n",
      "52:\tlearn: 0.0785608\ttotal: 238ms\tremaining: 211ms\n",
      "53:\tlearn: 0.0785108\ttotal: 242ms\tremaining: 206ms\n",
      "54:\tlearn: 0.0784835\ttotal: 246ms\tremaining: 201ms\n",
      "55:\tlearn: 0.0783422\ttotal: 250ms\tremaining: 197ms\n",
      "56:\tlearn: 0.0782178\ttotal: 254ms\tremaining: 192ms\n",
      "57:\tlearn: 0.0781964\ttotal: 259ms\tremaining: 187ms\n",
      "58:\tlearn: 0.0779186\ttotal: 263ms\tremaining: 183ms\n",
      "59:\tlearn: 0.0778252\ttotal: 267ms\tremaining: 178ms\n",
      "60:\tlearn: 0.0777372\ttotal: 271ms\tremaining: 173ms\n",
      "61:\tlearn: 0.0777001\ttotal: 275ms\tremaining: 168ms\n",
      "62:\tlearn: 0.0775798\ttotal: 278ms\tremaining: 163ms\n",
      "63:\tlearn: 0.0775708\ttotal: 282ms\tremaining: 159ms\n",
      "64:\tlearn: 0.0775297\ttotal: 286ms\tremaining: 154ms\n",
      "65:\tlearn: 0.0774552\ttotal: 290ms\tremaining: 149ms\n",
      "66:\tlearn: 0.0774421\ttotal: 293ms\tremaining: 145ms\n",
      "67:\tlearn: 0.0774303\ttotal: 297ms\tremaining: 140ms\n",
      "68:\tlearn: 0.0772375\ttotal: 302ms\tremaining: 136ms\n",
      "69:\tlearn: 0.0772118\ttotal: 305ms\tremaining: 131ms\n",
      "70:\tlearn: 0.0772020\ttotal: 309ms\tremaining: 126ms\n",
      "71:\tlearn: 0.0771384\ttotal: 313ms\tremaining: 122ms\n",
      "72:\tlearn: 0.0770376\ttotal: 317ms\tremaining: 117ms\n",
      "73:\tlearn: 0.0768239\ttotal: 321ms\tremaining: 113ms\n",
      "74:\tlearn: 0.0767945\ttotal: 325ms\tremaining: 108ms\n",
      "75:\tlearn: 0.0767677\ttotal: 329ms\tremaining: 104ms\n",
      "76:\tlearn: 0.0766467\ttotal: 333ms\tremaining: 99.5ms\n",
      "77:\tlearn: 0.0765234\ttotal: 337ms\tremaining: 95.1ms\n",
      "78:\tlearn: 0.0764603\ttotal: 341ms\tremaining: 90.7ms\n",
      "79:\tlearn: 0.0763411\ttotal: 345ms\tremaining: 86.3ms\n",
      "80:\tlearn: 0.0762464\ttotal: 350ms\tremaining: 82ms\n",
      "81:\tlearn: 0.0762153\ttotal: 354ms\tremaining: 77.7ms\n",
      "82:\tlearn: 0.0761609\ttotal: 358ms\tremaining: 73.3ms\n",
      "83:\tlearn: 0.0761135\ttotal: 363ms\tremaining: 69.1ms\n",
      "84:\tlearn: 0.0760786\ttotal: 368ms\tremaining: 65ms\n",
      "85:\tlearn: 0.0759784\ttotal: 373ms\tremaining: 60.6ms\n",
      "86:\tlearn: 0.0759085\ttotal: 377ms\tremaining: 56.3ms\n",
      "87:\tlearn: 0.0756846\ttotal: 382ms\tremaining: 52ms\n",
      "88:\tlearn: 0.0756358\ttotal: 387ms\tremaining: 47.8ms\n",
      "89:\tlearn: 0.0755739\ttotal: 392ms\tremaining: 43.6ms\n",
      "90:\tlearn: 0.0754852\ttotal: 398ms\tremaining: 39.3ms\n",
      "91:\tlearn: 0.0753377\ttotal: 402ms\tremaining: 35ms\n",
      "92:\tlearn: 0.0753269\ttotal: 407ms\tremaining: 30.6ms\n",
      "93:\tlearn: 0.0752925\ttotal: 411ms\tremaining: 26.3ms\n",
      "94:\tlearn: 0.0751850\ttotal: 416ms\tremaining: 21.9ms\n",
      "95:\tlearn: 0.0751732\ttotal: 420ms\tremaining: 17.5ms\n",
      "96:\tlearn: 0.0751667\ttotal: 423ms\tremaining: 13.1ms\n",
      "97:\tlearn: 0.0751483\ttotal: 428ms\tremaining: 8.72ms\n",
      "98:\tlearn: 0.0750279\ttotal: 432ms\tremaining: 4.36ms\n",
      "99:\tlearn: 0.0749498\ttotal: 437ms\tremaining: 0us\n"
     ]
    },
    {
     "data": {
      "text/html": [
       "<style>#sk-container-id-4 {color: black;}#sk-container-id-4 pre{padding: 0;}#sk-container-id-4 div.sk-toggleable {background-color: white;}#sk-container-id-4 label.sk-toggleable__label {cursor: pointer;display: block;width: 100%;margin-bottom: 0;padding: 0.3em;box-sizing: border-box;text-align: center;}#sk-container-id-4 label.sk-toggleable__label-arrow:before {content: \"▸\";float: left;margin-right: 0.25em;color: #696969;}#sk-container-id-4 label.sk-toggleable__label-arrow:hover:before {color: black;}#sk-container-id-4 div.sk-estimator:hover label.sk-toggleable__label-arrow:before {color: black;}#sk-container-id-4 div.sk-toggleable__content {max-height: 0;max-width: 0;overflow: hidden;text-align: left;background-color: #f0f8ff;}#sk-container-id-4 div.sk-toggleable__content pre {margin: 0.2em;color: black;border-radius: 0.25em;background-color: #f0f8ff;}#sk-container-id-4 input.sk-toggleable__control:checked~div.sk-toggleable__content {max-height: 200px;max-width: 100%;overflow: auto;}#sk-container-id-4 input.sk-toggleable__control:checked~label.sk-toggleable__label-arrow:before {content: \"▾\";}#sk-container-id-4 div.sk-estimator input.sk-toggleable__control:checked~label.sk-toggleable__label {background-color: #d4ebff;}#sk-container-id-4 div.sk-label input.sk-toggleable__control:checked~label.sk-toggleable__label {background-color: #d4ebff;}#sk-container-id-4 input.sk-hidden--visually {border: 0;clip: rect(1px 1px 1px 1px);clip: rect(1px, 1px, 1px, 1px);height: 1px;margin: -1px;overflow: hidden;padding: 0;position: absolute;width: 1px;}#sk-container-id-4 div.sk-estimator {font-family: monospace;background-color: #f0f8ff;border: 1px dotted black;border-radius: 0.25em;box-sizing: border-box;margin-bottom: 0.5em;}#sk-container-id-4 div.sk-estimator:hover {background-color: #d4ebff;}#sk-container-id-4 div.sk-parallel-item::after {content: \"\";width: 100%;border-bottom: 1px solid gray;flex-grow: 1;}#sk-container-id-4 div.sk-label:hover label.sk-toggleable__label {background-color: #d4ebff;}#sk-container-id-4 div.sk-serial::before {content: \"\";position: absolute;border-left: 1px solid gray;box-sizing: border-box;top: 0;bottom: 0;left: 50%;z-index: 0;}#sk-container-id-4 div.sk-serial {display: flex;flex-direction: column;align-items: center;background-color: white;padding-right: 0.2em;padding-left: 0.2em;position: relative;}#sk-container-id-4 div.sk-item {position: relative;z-index: 1;}#sk-container-id-4 div.sk-parallel {display: flex;align-items: stretch;justify-content: center;background-color: white;position: relative;}#sk-container-id-4 div.sk-item::before, #sk-container-id-4 div.sk-parallel-item::before {content: \"\";position: absolute;border-left: 1px solid gray;box-sizing: border-box;top: 0;bottom: 0;left: 50%;z-index: -1;}#sk-container-id-4 div.sk-parallel-item {display: flex;flex-direction: column;z-index: 1;position: relative;background-color: white;}#sk-container-id-4 div.sk-parallel-item:first-child::after {align-self: flex-end;width: 50%;}#sk-container-id-4 div.sk-parallel-item:last-child::after {align-self: flex-start;width: 50%;}#sk-container-id-4 div.sk-parallel-item:only-child::after {width: 0;}#sk-container-id-4 div.sk-dashed-wrapped {border: 1px dashed gray;margin: 0 0.4em 0.5em 0.4em;box-sizing: border-box;padding-bottom: 0.4em;background-color: white;}#sk-container-id-4 div.sk-label label {font-family: monospace;font-weight: bold;display: inline-block;line-height: 1.2em;}#sk-container-id-4 div.sk-label-container {text-align: center;}#sk-container-id-4 div.sk-container {/* jupyter's `normalize.less` sets `[hidden] { display: none; }` but bootstrap.min.css set `[hidden] { display: none !important; }` so we also need the `!important` here to be able to override the default hidden behavior on the sphinx rendered scikit-learn.org. See: https://github.com/scikit-learn/scikit-learn/issues/21755 */display: inline-block !important;position: relative;}#sk-container-id-4 div.sk-text-repr-fallback {display: none;}</style><div id=\"sk-container-id-4\" class=\"sk-top-container\"><div class=\"sk-text-repr-fallback\"><pre>VotingClassifier(estimators=[(&#x27;dt&#x27;, DecisionTreeClassifier()),\n",
       "                             (&#x27;rf&#x27;, RandomForestClassifier()),\n",
       "                             (&#x27;bagging&#x27;,\n",
       "                              BaggingClassifier(base_estimator=DecisionTreeClassifier())),\n",
       "                             (&#x27;catboost&#x27;,\n",
       "                              &lt;catboost.core.CatBoostClassifier object at 0x0000024A47E2F010&gt;)])</pre><b>In a Jupyter environment, please rerun this cell to show the HTML representation or trust the notebook. <br />On GitHub, the HTML representation is unable to render, please try loading this page with nbviewer.org.</b></div><div class=\"sk-container\" hidden><div class=\"sk-item sk-dashed-wrapped\"><div class=\"sk-label-container\"><div class=\"sk-label sk-toggleable\"><input class=\"sk-toggleable__control sk-hidden--visually\" id=\"sk-estimator-id-6\" type=\"checkbox\" ><label for=\"sk-estimator-id-6\" class=\"sk-toggleable__label sk-toggleable__label-arrow\">VotingClassifier</label><div class=\"sk-toggleable__content\"><pre>VotingClassifier(estimators=[(&#x27;dt&#x27;, DecisionTreeClassifier()),\n",
       "                             (&#x27;rf&#x27;, RandomForestClassifier()),\n",
       "                             (&#x27;bagging&#x27;,\n",
       "                              BaggingClassifier(base_estimator=DecisionTreeClassifier())),\n",
       "                             (&#x27;catboost&#x27;,\n",
       "                              &lt;catboost.core.CatBoostClassifier object at 0x0000024A47E2F010&gt;)])</pre></div></div></div><div class=\"sk-parallel\"><div class=\"sk-parallel-item\"><div class=\"sk-item\"><div class=\"sk-label-container\"><div class=\"sk-label sk-toggleable\"><label>dt</label></div></div><div class=\"sk-serial\"><div class=\"sk-item\"><div class=\"sk-estimator sk-toggleable\"><input class=\"sk-toggleable__control sk-hidden--visually\" id=\"sk-estimator-id-7\" type=\"checkbox\" ><label for=\"sk-estimator-id-7\" class=\"sk-toggleable__label sk-toggleable__label-arrow\">DecisionTreeClassifier</label><div class=\"sk-toggleable__content\"><pre>DecisionTreeClassifier()</pre></div></div></div></div></div></div><div class=\"sk-parallel-item\"><div class=\"sk-item\"><div class=\"sk-label-container\"><div class=\"sk-label sk-toggleable\"><label>rf</label></div></div><div class=\"sk-serial\"><div class=\"sk-item\"><div class=\"sk-estimator sk-toggleable\"><input class=\"sk-toggleable__control sk-hidden--visually\" id=\"sk-estimator-id-8\" type=\"checkbox\" ><label for=\"sk-estimator-id-8\" class=\"sk-toggleable__label sk-toggleable__label-arrow\">RandomForestClassifier</label><div class=\"sk-toggleable__content\"><pre>RandomForestClassifier()</pre></div></div></div></div></div></div><div class=\"sk-parallel-item\"><div class=\"sk-item\"><div class=\"sk-label-container\"><div class=\"sk-label sk-toggleable\"><label>bagging</label></div></div><div class=\"sk-serial\"><div class=\"sk-item sk-dashed-wrapped\"><div class=\"sk-parallel\"><div class=\"sk-parallel-item\"><div class=\"sk-item\"><div class=\"sk-label-container\"><div class=\"sk-label sk-toggleable\"><input class=\"sk-toggleable__control sk-hidden--visually\" id=\"sk-estimator-id-9\" type=\"checkbox\" ><label for=\"sk-estimator-id-9\" class=\"sk-toggleable__label sk-toggleable__label-arrow\">base_estimator: DecisionTreeClassifier</label><div class=\"sk-toggleable__content\"><pre>DecisionTreeClassifier()</pre></div></div></div><div class=\"sk-serial\"><div class=\"sk-item\"><div class=\"sk-estimator sk-toggleable\"><input class=\"sk-toggleable__control sk-hidden--visually\" id=\"sk-estimator-id-10\" type=\"checkbox\" ><label for=\"sk-estimator-id-10\" class=\"sk-toggleable__label sk-toggleable__label-arrow\">DecisionTreeClassifier</label><div class=\"sk-toggleable__content\"><pre>DecisionTreeClassifier()</pre></div></div></div></div></div></div></div></div></div></div></div><div class=\"sk-parallel-item\"><div class=\"sk-item\"><div class=\"sk-label-container\"><div class=\"sk-label sk-toggleable\"><label>catboost</label></div></div><div class=\"sk-serial\"><div class=\"sk-item\"><div class=\"sk-estimator sk-toggleable\"><input class=\"sk-toggleable__control sk-hidden--visually\" id=\"sk-estimator-id-11\" type=\"checkbox\" ><label for=\"sk-estimator-id-11\" class=\"sk-toggleable__label sk-toggleable__label-arrow\">CatBoostClassifier</label><div class=\"sk-toggleable__content\"><pre>&lt;catboost.core.CatBoostClassifier object at 0x0000024A47E2F010&gt;</pre></div></div></div></div></div></div></div></div></div></div>"
      ],
      "text/plain": [
       "VotingClassifier(estimators=[('dt', DecisionTreeClassifier()),\n",
       "                             ('rf', RandomForestClassifier()),\n",
       "                             ('bagging',\n",
       "                              BaggingClassifier(base_estimator=DecisionTreeClassifier())),\n",
       "                             ('catboost',\n",
       "                              <catboost.core.CatBoostClassifier object at 0x0000024A47E2F010>)])"
      ]
     },
     "execution_count": 62,
     "metadata": {},
     "output_type": "execute_result"
    }
   ],
   "source": [
    "voting_classifier = VotingClassifier(estimators=[\n",
    "    ('dt', dt_classifier),\n",
    "    ('rf', rf_classifier),\n",
    "    ('bagging', bg_Classifier),\n",
    "    ('catboost', catboost_classifier)\n",
    "], voting='hard')\n",
    "\n",
    "voting_classifier.fit(X, y)"
   ]
  },
  {
   "cell_type": "code",
   "execution_count": 63,
   "metadata": {
    "execution": {
     "iopub.execute_input": "2024-02-12T17:12:10.551741Z",
     "iopub.status.busy": "2024-02-12T17:12:10.551089Z",
     "iopub.status.idle": "2024-02-12T17:12:11.215410Z",
     "shell.execute_reply": "2024-02-12T17:12:11.214562Z",
     "shell.execute_reply.started": "2024-02-12T17:12:10.551706Z"
    }
   },
   "outputs": [
    {
     "data": {
      "text/plain": [
       "0.9853223593964334"
      ]
     },
     "execution_count": 63,
     "metadata": {},
     "output_type": "execute_result"
    }
   ],
   "source": [
    "voting_classifier.score(X, y)"
   ]
  },
  {
   "cell_type": "code",
   "execution_count": 64,
   "metadata": {
    "execution": {
     "iopub.execute_input": "2024-02-12T17:12:11.217293Z",
     "iopub.status.busy": "2024-02-12T17:12:11.217001Z",
     "iopub.status.idle": "2024-02-12T17:12:11.397360Z",
     "shell.execute_reply": "2024-02-12T17:12:11.396415Z",
     "shell.execute_reply.started": "2024-02-12T17:12:11.217269Z"
    }
   },
   "outputs": [
    {
     "name": "stdout",
     "output_type": "stream",
     "text": [
      "0.9829927307639555\n"
     ]
    }
   ],
   "source": [
    "y_pred = voting_classifier.predict(X_test)\n",
    "print(accuracy_score(y_test, y_pred))"
   ]
  },
  {
   "cell_type": "code",
   "execution_count": 65,
   "metadata": {
    "execution": {
     "iopub.execute_input": "2024-02-12T17:12:54.094760Z",
     "iopub.status.busy": "2024-02-12T17:12:54.094385Z",
     "iopub.status.idle": "2024-02-12T17:13:44.479205Z",
     "shell.execute_reply": "2024-02-12T17:13:44.478376Z",
     "shell.execute_reply.started": "2024-02-12T17:12:54.094724Z"
    }
   },
   "outputs": [
    {
     "name": "stdout",
     "output_type": "stream",
     "text": [
      "Feature: 0  Score: 0.0\n",
      "Feature: 1  Score: 0.0011111111111110849\n",
      "Feature: 2  Score: 0.001207133058984855\n",
      "Feature: 3  Score: 0.0013648834019203803\n",
      "Feature: 4  Score: 0.0022153635116597846\n",
      "Feature: 5  Score: 0.002311385459533577\n",
      "Feature: 6  Score: 0.002318244170095962\n",
      "Feature: 7  Score: 0.002482853223593917\n",
      "Feature: 8  Score: 0.002496570644718754\n",
      "Feature: 9  Score: 0.0025102880658435687\n",
      "Feature: 10  Score: 0.00364883401920435\n",
      "Feature: 11  Score: 0.004807956104252354\n"
     ]
    },
    {
     "data": {
      "image/png": "[encoded data removed]",
      "text/plain": [
       "<Figure size 640x480 with 1 Axes>"
      ]
     },
     "metadata": {},
     "output_type": "display_data"
    }
   ],
   "source": [
    "from sklearn.inspection import permutation_importance\n",
    "from matplotlib import pyplot\n",
    "# perform permutation importance\n",
    "results = permutation_importance(voting_classifier, X, y, scoring='accuracy')\n",
    "# get importance\n",
    "importance = results.importances_mean\n",
    "importance=np.sort(importance)\n",
    "# summarize feature importance\n",
    "for i,v in enumerate(importance):\n",
    "    print('Feature: {}  Score: {}' .format(i,v))\n",
    "# plot feature importance\n",
    "pyplot.bar([x for x in range(len(importance))] ,importance)\n",
    "pyplot.show()"
   ]
  }
 ],
 "metadata": {
  "kaggle": {
   "accelerator": "gpu",
   "dataSources": [
    {
     "datasetId": 4404670,
     "sourceId": 7564522,
     "sourceType": "datasetVersion"
    }
   ],
   "dockerImageVersionId": 30646,
   "isGpuEnabled": true,
   "isInternetEnabled": true,
   "language": "python",
   "sourceType": "notebook"
  },
  "kernelspec": {
   "display_name": "Python 3 (ipykernel)",
   "language": "python",
   "name": "python3"
  },
  "language_info": {
   "codemirror_mode": {
    "name": "ipython",
    "version": 3
   },
   "file_extension": ".py",
   "mimetype": "text/x-python",
   "name": "python",
   "nbconvert_exporter": "python",
   "pygments_lexer": "ipython3",
   "version": "3.11.2"
  }
 },
 "nbformat": 4,
 "nbformat_minor": 4
}
